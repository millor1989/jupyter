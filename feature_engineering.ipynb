{
 "cells": [
  {
   "cell_type": "markdown",
   "metadata": {},
   "source": [
    "# 特征工程\n",
    "\n",
    "**1、构建基准模型**"
   ]
  },
  {
   "cell_type": "code",
   "execution_count": 1,
   "metadata": {
    "scrolled": false
   },
   "outputs": [
    {
     "data": {
      "text/html": [
       "<div>\n",
       "<style scoped>\n",
       "    .dataframe tbody tr th:only-of-type {\n",
       "        vertical-align: middle;\n",
       "    }\n",
       "\n",
       "    .dataframe tbody tr th {\n",
       "        vertical-align: top;\n",
       "    }\n",
       "\n",
       "    .dataframe thead th {\n",
       "        text-align: right;\n",
       "    }\n",
       "</style>\n",
       "<table border=\"1\" class=\"dataframe\">\n",
       "  <thead>\n",
       "    <tr style=\"text-align: right;\">\n",
       "      <th></th>\n",
       "      <th>ID</th>\n",
       "      <th>name</th>\n",
       "      <th>category</th>\n",
       "      <th>main_category</th>\n",
       "      <th>currency</th>\n",
       "      <th>deadline</th>\n",
       "      <th>goal</th>\n",
       "      <th>launched</th>\n",
       "      <th>pledged</th>\n",
       "      <th>state</th>\n",
       "      <th>backers</th>\n",
       "      <th>country</th>\n",
       "      <th>usd pledged</th>\n",
       "      <th>usd_pledged_real</th>\n",
       "      <th>usd_goal_real</th>\n",
       "    </tr>\n",
       "  </thead>\n",
       "  <tbody>\n",
       "    <tr>\n",
       "      <th>0</th>\n",
       "      <td>1000002330</td>\n",
       "      <td>The Songs of Adelaide &amp; Abullah</td>\n",
       "      <td>Poetry</td>\n",
       "      <td>Publishing</td>\n",
       "      <td>GBP</td>\n",
       "      <td>2015-10-09</td>\n",
       "      <td>1000.0</td>\n",
       "      <td>2015-08-11 12:12:28</td>\n",
       "      <td>0.00</td>\n",
       "      <td>failed</td>\n",
       "      <td>0</td>\n",
       "      <td>GB</td>\n",
       "      <td>0.00</td>\n",
       "      <td>0.00</td>\n",
       "      <td>1533.95</td>\n",
       "    </tr>\n",
       "    <tr>\n",
       "      <th>1</th>\n",
       "      <td>1000003930</td>\n",
       "      <td>Greeting From Earth: ZGAC Arts Capsule For ET</td>\n",
       "      <td>Narrative Film</td>\n",
       "      <td>Film &amp; Video</td>\n",
       "      <td>USD</td>\n",
       "      <td>2017-11-01</td>\n",
       "      <td>30000.0</td>\n",
       "      <td>2017-09-02 04:43:57</td>\n",
       "      <td>2421.00</td>\n",
       "      <td>failed</td>\n",
       "      <td>15</td>\n",
       "      <td>US</td>\n",
       "      <td>100.00</td>\n",
       "      <td>2421.00</td>\n",
       "      <td>30000.00</td>\n",
       "    </tr>\n",
       "    <tr>\n",
       "      <th>2</th>\n",
       "      <td>1000004038</td>\n",
       "      <td>Where is Hank?</td>\n",
       "      <td>Narrative Film</td>\n",
       "      <td>Film &amp; Video</td>\n",
       "      <td>USD</td>\n",
       "      <td>2013-02-26</td>\n",
       "      <td>45000.0</td>\n",
       "      <td>2013-01-12 00:20:50</td>\n",
       "      <td>220.00</td>\n",
       "      <td>failed</td>\n",
       "      <td>3</td>\n",
       "      <td>US</td>\n",
       "      <td>220.00</td>\n",
       "      <td>220.00</td>\n",
       "      <td>45000.00</td>\n",
       "    </tr>\n",
       "    <tr>\n",
       "      <th>3</th>\n",
       "      <td>1000007540</td>\n",
       "      <td>ToshiCapital Rekordz Needs Help to Complete Album</td>\n",
       "      <td>Music</td>\n",
       "      <td>Music</td>\n",
       "      <td>USD</td>\n",
       "      <td>2012-04-16</td>\n",
       "      <td>5000.0</td>\n",
       "      <td>2012-03-17 03:24:11</td>\n",
       "      <td>1.00</td>\n",
       "      <td>failed</td>\n",
       "      <td>1</td>\n",
       "      <td>US</td>\n",
       "      <td>1.00</td>\n",
       "      <td>1.00</td>\n",
       "      <td>5000.00</td>\n",
       "    </tr>\n",
       "    <tr>\n",
       "      <th>4</th>\n",
       "      <td>1000011046</td>\n",
       "      <td>Community Film Project: The Art of Neighborhoo...</td>\n",
       "      <td>Film &amp; Video</td>\n",
       "      <td>Film &amp; Video</td>\n",
       "      <td>USD</td>\n",
       "      <td>2015-08-29</td>\n",
       "      <td>19500.0</td>\n",
       "      <td>2015-07-04 08:35:03</td>\n",
       "      <td>1283.00</td>\n",
       "      <td>canceled</td>\n",
       "      <td>14</td>\n",
       "      <td>US</td>\n",
       "      <td>1283.00</td>\n",
       "      <td>1283.00</td>\n",
       "      <td>19500.00</td>\n",
       "    </tr>\n",
       "    <tr>\n",
       "      <th>5</th>\n",
       "      <td>1000014025</td>\n",
       "      <td>Monarch Espresso Bar</td>\n",
       "      <td>Restaurants</td>\n",
       "      <td>Food</td>\n",
       "      <td>USD</td>\n",
       "      <td>2016-04-01</td>\n",
       "      <td>50000.0</td>\n",
       "      <td>2016-02-26 13:38:27</td>\n",
       "      <td>52375.00</td>\n",
       "      <td>successful</td>\n",
       "      <td>224</td>\n",
       "      <td>US</td>\n",
       "      <td>52375.00</td>\n",
       "      <td>52375.00</td>\n",
       "      <td>50000.00</td>\n",
       "    </tr>\n",
       "    <tr>\n",
       "      <th>6</th>\n",
       "      <td>1000023410</td>\n",
       "      <td>Support Solar Roasted Coffee &amp; Green Energy!  ...</td>\n",
       "      <td>Food</td>\n",
       "      <td>Food</td>\n",
       "      <td>USD</td>\n",
       "      <td>2014-12-21</td>\n",
       "      <td>1000.0</td>\n",
       "      <td>2014-12-01 18:30:44</td>\n",
       "      <td>1205.00</td>\n",
       "      <td>successful</td>\n",
       "      <td>16</td>\n",
       "      <td>US</td>\n",
       "      <td>1205.00</td>\n",
       "      <td>1205.00</td>\n",
       "      <td>1000.00</td>\n",
       "    </tr>\n",
       "    <tr>\n",
       "      <th>7</th>\n",
       "      <td>1000030581</td>\n",
       "      <td>Chaser Strips. Our Strips make Shots their B*tch!</td>\n",
       "      <td>Drinks</td>\n",
       "      <td>Food</td>\n",
       "      <td>USD</td>\n",
       "      <td>2016-03-17</td>\n",
       "      <td>25000.0</td>\n",
       "      <td>2016-02-01 20:05:12</td>\n",
       "      <td>453.00</td>\n",
       "      <td>failed</td>\n",
       "      <td>40</td>\n",
       "      <td>US</td>\n",
       "      <td>453.00</td>\n",
       "      <td>453.00</td>\n",
       "      <td>25000.00</td>\n",
       "    </tr>\n",
       "    <tr>\n",
       "      <th>8</th>\n",
       "      <td>1000034518</td>\n",
       "      <td>SPIN - Premium Retractable In-Ear Headphones w...</td>\n",
       "      <td>Product Design</td>\n",
       "      <td>Design</td>\n",
       "      <td>USD</td>\n",
       "      <td>2014-05-29</td>\n",
       "      <td>125000.0</td>\n",
       "      <td>2014-04-24 18:14:43</td>\n",
       "      <td>8233.00</td>\n",
       "      <td>canceled</td>\n",
       "      <td>58</td>\n",
       "      <td>US</td>\n",
       "      <td>8233.00</td>\n",
       "      <td>8233.00</td>\n",
       "      <td>125000.00</td>\n",
       "    </tr>\n",
       "    <tr>\n",
       "      <th>9</th>\n",
       "      <td>100004195</td>\n",
       "      <td>STUDIO IN THE SKY - A Documentary Feature Film...</td>\n",
       "      <td>Documentary</td>\n",
       "      <td>Film &amp; Video</td>\n",
       "      <td>USD</td>\n",
       "      <td>2014-08-10</td>\n",
       "      <td>65000.0</td>\n",
       "      <td>2014-07-11 21:55:48</td>\n",
       "      <td>6240.57</td>\n",
       "      <td>canceled</td>\n",
       "      <td>43</td>\n",
       "      <td>US</td>\n",
       "      <td>6240.57</td>\n",
       "      <td>6240.57</td>\n",
       "      <td>65000.00</td>\n",
       "    </tr>\n",
       "  </tbody>\n",
       "</table>\n",
       "</div>"
      ],
      "text/plain": [
       "           ID                                               name  \\\n",
       "0  1000002330                    The Songs of Adelaide & Abullah   \n",
       "1  1000003930      Greeting From Earth: ZGAC Arts Capsule For ET   \n",
       "2  1000004038                                     Where is Hank?   \n",
       "3  1000007540  ToshiCapital Rekordz Needs Help to Complete Album   \n",
       "4  1000011046  Community Film Project: The Art of Neighborhoo...   \n",
       "5  1000014025                               Monarch Espresso Bar   \n",
       "6  1000023410  Support Solar Roasted Coffee & Green Energy!  ...   \n",
       "7  1000030581  Chaser Strips. Our Strips make Shots their B*tch!   \n",
       "8  1000034518  SPIN - Premium Retractable In-Ear Headphones w...   \n",
       "9   100004195  STUDIO IN THE SKY - A Documentary Feature Film...   \n",
       "\n",
       "         category main_category currency   deadline      goal  \\\n",
       "0          Poetry    Publishing      GBP 2015-10-09    1000.0   \n",
       "1  Narrative Film  Film & Video      USD 2017-11-01   30000.0   \n",
       "2  Narrative Film  Film & Video      USD 2013-02-26   45000.0   \n",
       "3           Music         Music      USD 2012-04-16    5000.0   \n",
       "4    Film & Video  Film & Video      USD 2015-08-29   19500.0   \n",
       "5     Restaurants          Food      USD 2016-04-01   50000.0   \n",
       "6            Food          Food      USD 2014-12-21    1000.0   \n",
       "7          Drinks          Food      USD 2016-03-17   25000.0   \n",
       "8  Product Design        Design      USD 2014-05-29  125000.0   \n",
       "9     Documentary  Film & Video      USD 2014-08-10   65000.0   \n",
       "\n",
       "             launched   pledged       state  backers country  usd pledged  \\\n",
       "0 2015-08-11 12:12:28      0.00      failed        0      GB         0.00   \n",
       "1 2017-09-02 04:43:57   2421.00      failed       15      US       100.00   \n",
       "2 2013-01-12 00:20:50    220.00      failed        3      US       220.00   \n",
       "3 2012-03-17 03:24:11      1.00      failed        1      US         1.00   \n",
       "4 2015-07-04 08:35:03   1283.00    canceled       14      US      1283.00   \n",
       "5 2016-02-26 13:38:27  52375.00  successful      224      US     52375.00   \n",
       "6 2014-12-01 18:30:44   1205.00  successful       16      US      1205.00   \n",
       "7 2016-02-01 20:05:12    453.00      failed       40      US       453.00   \n",
       "8 2014-04-24 18:14:43   8233.00    canceled       58      US      8233.00   \n",
       "9 2014-07-11 21:55:48   6240.57    canceled       43      US      6240.57   \n",
       "\n",
       "   usd_pledged_real  usd_goal_real  \n",
       "0              0.00        1533.95  \n",
       "1           2421.00       30000.00  \n",
       "2            220.00       45000.00  \n",
       "3              1.00        5000.00  \n",
       "4           1283.00       19500.00  \n",
       "5          52375.00       50000.00  \n",
       "6           1205.00        1000.00  \n",
       "7            453.00       25000.00  \n",
       "8           8233.00      125000.00  \n",
       "9           6240.57       65000.00  "
      ]
     },
     "execution_count": 1,
     "metadata": {},
     "output_type": "execute_result"
    }
   ],
   "source": [
    "# ----Baseline model 基准模型\n",
    "import pandas as pd\n",
    "\n",
    "# 预测Kickstarter项目是否能成功\n",
    "ks = pd.read_csv('./datasets/kickstarter-projects/ks-projects-201801.csv',\n",
    "                parse_dates=['deadline', 'launched'])\n",
    "ks.head(10)"
   ]
  },
  {
   "cell_type": "code",
   "execution_count": 2,
   "metadata": {},
   "outputs": [
    {
     "data": {
      "text/plain": [
       "array(['failed', 'canceled', 'successful', 'live', 'undefined',\n",
       "       'suspended'], dtype=object)"
      ]
     },
     "execution_count": 2,
     "metadata": {},
     "output_type": "execute_result"
    }
   ],
   "source": [
    "# ---目标列预处理\n",
    "\n",
    "# 查看目标的不同种类\n",
    "pd.unique(ks.state)"
   ]
  },
  {
   "cell_type": "code",
   "execution_count": 3,
   "metadata": {},
   "outputs": [
    {
     "data": {
      "text/plain": [
       "state\n",
       "canceled       38779\n",
       "failed        197719\n",
       "live            2799\n",
       "successful    133956\n",
       "suspended       1846\n",
       "undefined       3562\n",
       "Name: ID, dtype: int64"
      ]
     },
     "execution_count": 3,
     "metadata": {},
     "output_type": "execute_result"
    }
   ],
   "source": [
    "# 汇总不同state的个数\n",
    "ks.groupby('state')['ID'].count()"
   ]
  },
  {
   "cell_type": "code",
   "execution_count": 4,
   "metadata": {},
   "outputs": [],
   "source": [
    "# 对数据进行简单的预处理\n",
    "# 排除仍然‘live’的项目\n",
    "ks = ks.query('state!=\"live\"')\n",
    "\n",
    "# 增加outcome列，对应state，\"successful\"的对应1，其它对应0\n",
    "ks = ks.assign(outcome=(ks['state']=='successful').astype(int))"
   ]
  },
  {
   "cell_type": "code",
   "execution_count": 5,
   "metadata": {
    "scrolled": false
   },
   "outputs": [
    {
     "data": {
      "text/html": [
       "<div>\n",
       "<style scoped>\n",
       "    .dataframe tbody tr th:only-of-type {\n",
       "        vertical-align: middle;\n",
       "    }\n",
       "\n",
       "    .dataframe tbody tr th {\n",
       "        vertical-align: top;\n",
       "    }\n",
       "\n",
       "    .dataframe thead th {\n",
       "        text-align: right;\n",
       "    }\n",
       "</style>\n",
       "<table border=\"1\" class=\"dataframe\">\n",
       "  <thead>\n",
       "    <tr style=\"text-align: right;\">\n",
       "      <th></th>\n",
       "      <th>ID</th>\n",
       "      <th>name</th>\n",
       "      <th>category</th>\n",
       "      <th>main_category</th>\n",
       "      <th>currency</th>\n",
       "      <th>deadline</th>\n",
       "      <th>goal</th>\n",
       "      <th>launched</th>\n",
       "      <th>pledged</th>\n",
       "      <th>state</th>\n",
       "      <th>backers</th>\n",
       "      <th>country</th>\n",
       "      <th>usd pledged</th>\n",
       "      <th>usd_pledged_real</th>\n",
       "      <th>usd_goal_real</th>\n",
       "      <th>outcome</th>\n",
       "    </tr>\n",
       "  </thead>\n",
       "  <tbody>\n",
       "    <tr>\n",
       "      <th>0</th>\n",
       "      <td>1000002330</td>\n",
       "      <td>The Songs of Adelaide &amp; Abullah</td>\n",
       "      <td>Poetry</td>\n",
       "      <td>Publishing</td>\n",
       "      <td>GBP</td>\n",
       "      <td>2015-10-09</td>\n",
       "      <td>1000.0</td>\n",
       "      <td>2015-08-11 12:12:28</td>\n",
       "      <td>0.0</td>\n",
       "      <td>failed</td>\n",
       "      <td>0</td>\n",
       "      <td>GB</td>\n",
       "      <td>0.0</td>\n",
       "      <td>0.0</td>\n",
       "      <td>1533.95</td>\n",
       "      <td>0</td>\n",
       "    </tr>\n",
       "    <tr>\n",
       "      <th>1</th>\n",
       "      <td>1000003930</td>\n",
       "      <td>Greeting From Earth: ZGAC Arts Capsule For ET</td>\n",
       "      <td>Narrative Film</td>\n",
       "      <td>Film &amp; Video</td>\n",
       "      <td>USD</td>\n",
       "      <td>2017-11-01</td>\n",
       "      <td>30000.0</td>\n",
       "      <td>2017-09-02 04:43:57</td>\n",
       "      <td>2421.0</td>\n",
       "      <td>failed</td>\n",
       "      <td>15</td>\n",
       "      <td>US</td>\n",
       "      <td>100.0</td>\n",
       "      <td>2421.0</td>\n",
       "      <td>30000.00</td>\n",
       "      <td>0</td>\n",
       "    </tr>\n",
       "    <tr>\n",
       "      <th>2</th>\n",
       "      <td>1000004038</td>\n",
       "      <td>Where is Hank?</td>\n",
       "      <td>Narrative Film</td>\n",
       "      <td>Film &amp; Video</td>\n",
       "      <td>USD</td>\n",
       "      <td>2013-02-26</td>\n",
       "      <td>45000.0</td>\n",
       "      <td>2013-01-12 00:20:50</td>\n",
       "      <td>220.0</td>\n",
       "      <td>failed</td>\n",
       "      <td>3</td>\n",
       "      <td>US</td>\n",
       "      <td>220.0</td>\n",
       "      <td>220.0</td>\n",
       "      <td>45000.00</td>\n",
       "      <td>0</td>\n",
       "    </tr>\n",
       "    <tr>\n",
       "      <th>3</th>\n",
       "      <td>1000007540</td>\n",
       "      <td>ToshiCapital Rekordz Needs Help to Complete Album</td>\n",
       "      <td>Music</td>\n",
       "      <td>Music</td>\n",
       "      <td>USD</td>\n",
       "      <td>2012-04-16</td>\n",
       "      <td>5000.0</td>\n",
       "      <td>2012-03-17 03:24:11</td>\n",
       "      <td>1.0</td>\n",
       "      <td>failed</td>\n",
       "      <td>1</td>\n",
       "      <td>US</td>\n",
       "      <td>1.0</td>\n",
       "      <td>1.0</td>\n",
       "      <td>5000.00</td>\n",
       "      <td>0</td>\n",
       "    </tr>\n",
       "    <tr>\n",
       "      <th>4</th>\n",
       "      <td>1000011046</td>\n",
       "      <td>Community Film Project: The Art of Neighborhoo...</td>\n",
       "      <td>Film &amp; Video</td>\n",
       "      <td>Film &amp; Video</td>\n",
       "      <td>USD</td>\n",
       "      <td>2015-08-29</td>\n",
       "      <td>19500.0</td>\n",
       "      <td>2015-07-04 08:35:03</td>\n",
       "      <td>1283.0</td>\n",
       "      <td>canceled</td>\n",
       "      <td>14</td>\n",
       "      <td>US</td>\n",
       "      <td>1283.0</td>\n",
       "      <td>1283.0</td>\n",
       "      <td>19500.00</td>\n",
       "      <td>0</td>\n",
       "    </tr>\n",
       "  </tbody>\n",
       "</table>\n",
       "</div>"
      ],
      "text/plain": [
       "           ID                                               name        category main_category  ... usd pledged usd_pledged_real  usd_goal_real outcome\n",
       "0  1000002330                    The Songs of Adelaide & Abullah          Poetry    Publishing  ...         0.0              0.0        1533.95       0\n",
       "1  1000003930      Greeting From Earth: ZGAC Arts Capsule For ET  Narrative Film  Film & Video  ...       100.0           2421.0       30000.00       0\n",
       "2  1000004038                                     Where is Hank?  Narrative Film  Film & Video  ...       220.0            220.0       45000.00       0\n",
       "3  1000007540  ToshiCapital Rekordz Needs Help to Complete Album           Music         Music  ...         1.0              1.0        5000.00       0\n",
       "4  1000011046  Community Film Project: The Art of Neighborhoo...    Film & Video  Film & Video  ...      1283.0           1283.0       19500.00       0\n",
       "\n",
       "[5 rows x 16 columns]"
      ]
     },
     "execution_count": 5,
     "metadata": {},
     "output_type": "execute_result"
    }
   ],
   "source": [
    "ks.head()"
   ]
  },
  {
   "cell_type": "markdown",
   "metadata": {},
   "source": [
    "将`launched`特征转换为类别特征，以便在模型中使用。`launched`列是作为timestamp数据加载的，可以通过`.dt`属性访问它包含的日期和时间。"
   ]
  },
  {
   "cell_type": "code",
   "execution_count": 6,
   "metadata": {},
   "outputs": [
    {
     "data": {
      "text/html": [
       "<div>\n",
       "<style scoped>\n",
       "    .dataframe tbody tr th:only-of-type {\n",
       "        vertical-align: middle;\n",
       "    }\n",
       "\n",
       "    .dataframe tbody tr th {\n",
       "        vertical-align: top;\n",
       "    }\n",
       "\n",
       "    .dataframe thead th {\n",
       "        text-align: right;\n",
       "    }\n",
       "</style>\n",
       "<table border=\"1\" class=\"dataframe\">\n",
       "  <thead>\n",
       "    <tr style=\"text-align: right;\">\n",
       "      <th></th>\n",
       "      <th>ID</th>\n",
       "      <th>name</th>\n",
       "      <th>category</th>\n",
       "      <th>main_category</th>\n",
       "      <th>currency</th>\n",
       "      <th>deadline</th>\n",
       "      <th>goal</th>\n",
       "      <th>launched</th>\n",
       "      <th>pledged</th>\n",
       "      <th>state</th>\n",
       "      <th>backers</th>\n",
       "      <th>country</th>\n",
       "      <th>usd pledged</th>\n",
       "      <th>usd_pledged_real</th>\n",
       "      <th>usd_goal_real</th>\n",
       "      <th>outcome</th>\n",
       "      <th>hour</th>\n",
       "      <th>day</th>\n",
       "      <th>month</th>\n",
       "      <th>year</th>\n",
       "    </tr>\n",
       "  </thead>\n",
       "  <tbody>\n",
       "    <tr>\n",
       "      <th>0</th>\n",
       "      <td>1000002330</td>\n",
       "      <td>The Songs of Adelaide &amp; Abullah</td>\n",
       "      <td>Poetry</td>\n",
       "      <td>Publishing</td>\n",
       "      <td>GBP</td>\n",
       "      <td>2015-10-09</td>\n",
       "      <td>1000.0</td>\n",
       "      <td>2015-08-11 12:12:28</td>\n",
       "      <td>0.0</td>\n",
       "      <td>failed</td>\n",
       "      <td>0</td>\n",
       "      <td>GB</td>\n",
       "      <td>0.0</td>\n",
       "      <td>0.0</td>\n",
       "      <td>1533.95</td>\n",
       "      <td>0</td>\n",
       "      <td>12</td>\n",
       "      <td>11</td>\n",
       "      <td>8</td>\n",
       "      <td>2015</td>\n",
       "    </tr>\n",
       "    <tr>\n",
       "      <th>1</th>\n",
       "      <td>1000003930</td>\n",
       "      <td>Greeting From Earth: ZGAC Arts Capsule For ET</td>\n",
       "      <td>Narrative Film</td>\n",
       "      <td>Film &amp; Video</td>\n",
       "      <td>USD</td>\n",
       "      <td>2017-11-01</td>\n",
       "      <td>30000.0</td>\n",
       "      <td>2017-09-02 04:43:57</td>\n",
       "      <td>2421.0</td>\n",
       "      <td>failed</td>\n",
       "      <td>15</td>\n",
       "      <td>US</td>\n",
       "      <td>100.0</td>\n",
       "      <td>2421.0</td>\n",
       "      <td>30000.00</td>\n",
       "      <td>0</td>\n",
       "      <td>4</td>\n",
       "      <td>2</td>\n",
       "      <td>9</td>\n",
       "      <td>2017</td>\n",
       "    </tr>\n",
       "    <tr>\n",
       "      <th>2</th>\n",
       "      <td>1000004038</td>\n",
       "      <td>Where is Hank?</td>\n",
       "      <td>Narrative Film</td>\n",
       "      <td>Film &amp; Video</td>\n",
       "      <td>USD</td>\n",
       "      <td>2013-02-26</td>\n",
       "      <td>45000.0</td>\n",
       "      <td>2013-01-12 00:20:50</td>\n",
       "      <td>220.0</td>\n",
       "      <td>failed</td>\n",
       "      <td>3</td>\n",
       "      <td>US</td>\n",
       "      <td>220.0</td>\n",
       "      <td>220.0</td>\n",
       "      <td>45000.00</td>\n",
       "      <td>0</td>\n",
       "      <td>0</td>\n",
       "      <td>12</td>\n",
       "      <td>1</td>\n",
       "      <td>2013</td>\n",
       "    </tr>\n",
       "    <tr>\n",
       "      <th>3</th>\n",
       "      <td>1000007540</td>\n",
       "      <td>ToshiCapital Rekordz Needs Help to Complete Album</td>\n",
       "      <td>Music</td>\n",
       "      <td>Music</td>\n",
       "      <td>USD</td>\n",
       "      <td>2012-04-16</td>\n",
       "      <td>5000.0</td>\n",
       "      <td>2012-03-17 03:24:11</td>\n",
       "      <td>1.0</td>\n",
       "      <td>failed</td>\n",
       "      <td>1</td>\n",
       "      <td>US</td>\n",
       "      <td>1.0</td>\n",
       "      <td>1.0</td>\n",
       "      <td>5000.00</td>\n",
       "      <td>0</td>\n",
       "      <td>3</td>\n",
       "      <td>17</td>\n",
       "      <td>3</td>\n",
       "      <td>2012</td>\n",
       "    </tr>\n",
       "    <tr>\n",
       "      <th>4</th>\n",
       "      <td>1000011046</td>\n",
       "      <td>Community Film Project: The Art of Neighborhoo...</td>\n",
       "      <td>Film &amp; Video</td>\n",
       "      <td>Film &amp; Video</td>\n",
       "      <td>USD</td>\n",
       "      <td>2015-08-29</td>\n",
       "      <td>19500.0</td>\n",
       "      <td>2015-07-04 08:35:03</td>\n",
       "      <td>1283.0</td>\n",
       "      <td>canceled</td>\n",
       "      <td>14</td>\n",
       "      <td>US</td>\n",
       "      <td>1283.0</td>\n",
       "      <td>1283.0</td>\n",
       "      <td>19500.00</td>\n",
       "      <td>0</td>\n",
       "      <td>8</td>\n",
       "      <td>4</td>\n",
       "      <td>7</td>\n",
       "      <td>2015</td>\n",
       "    </tr>\n",
       "  </tbody>\n",
       "</table>\n",
       "</div>"
      ],
      "text/plain": [
       "           ID                                               name        category main_category currency  ... outcome  hour day  month  year\n",
       "0  1000002330                    The Songs of Adelaide & Abullah          Poetry    Publishing      GBP  ...       0    12  11      8  2015\n",
       "1  1000003930      Greeting From Earth: ZGAC Arts Capsule For ET  Narrative Film  Film & Video      USD  ...       0     4   2      9  2017\n",
       "2  1000004038                                     Where is Hank?  Narrative Film  Film & Video      USD  ...       0     0  12      1  2013\n",
       "3  1000007540  ToshiCapital Rekordz Needs Help to Complete Album           Music         Music      USD  ...       0     3  17      3  2012\n",
       "4  1000011046  Community Film Project: The Art of Neighborhoo...    Film & Video  Film & Video      USD  ...       0     8   4      7  2015\n",
       "\n",
       "[5 rows x 20 columns]"
      ]
     },
     "execution_count": 6,
     "metadata": {},
     "output_type": "execute_result"
    }
   ],
   "source": [
    "ks = ks.assign(hour=ks.launched.dt.hour,\n",
    "              day=ks.launched.dt.day,\n",
    "              month=ks.launched.dt.month,\n",
    "              year=ks.launched.dt.year)\n",
    "ks.head()"
   ]
  },
  {
   "cell_type": "code",
   "execution_count": 7,
   "metadata": {},
   "outputs": [
    {
     "data": {
      "text/html": [
       "<div>\n",
       "<style scoped>\n",
       "    .dataframe tbody tr th:only-of-type {\n",
       "        vertical-align: middle;\n",
       "    }\n",
       "\n",
       "    .dataframe tbody tr th {\n",
       "        vertical-align: top;\n",
       "    }\n",
       "\n",
       "    .dataframe thead th {\n",
       "        text-align: right;\n",
       "    }\n",
       "</style>\n",
       "<table border=\"1\" class=\"dataframe\">\n",
       "  <thead>\n",
       "    <tr style=\"text-align: right;\">\n",
       "      <th></th>\n",
       "      <th>category</th>\n",
       "      <th>currency</th>\n",
       "      <th>country</th>\n",
       "    </tr>\n",
       "  </thead>\n",
       "  <tbody>\n",
       "    <tr>\n",
       "      <th>0</th>\n",
       "      <td>108</td>\n",
       "      <td>5</td>\n",
       "      <td>9</td>\n",
       "    </tr>\n",
       "    <tr>\n",
       "      <th>1</th>\n",
       "      <td>93</td>\n",
       "      <td>13</td>\n",
       "      <td>22</td>\n",
       "    </tr>\n",
       "    <tr>\n",
       "      <th>2</th>\n",
       "      <td>93</td>\n",
       "      <td>13</td>\n",
       "      <td>22</td>\n",
       "    </tr>\n",
       "    <tr>\n",
       "      <th>3</th>\n",
       "      <td>90</td>\n",
       "      <td>13</td>\n",
       "      <td>22</td>\n",
       "    </tr>\n",
       "    <tr>\n",
       "      <th>4</th>\n",
       "      <td>55</td>\n",
       "      <td>13</td>\n",
       "      <td>22</td>\n",
       "    </tr>\n",
       "    <tr>\n",
       "      <th>5</th>\n",
       "      <td>123</td>\n",
       "      <td>13</td>\n",
       "      <td>22</td>\n",
       "    </tr>\n",
       "    <tr>\n",
       "      <th>6</th>\n",
       "      <td>58</td>\n",
       "      <td>13</td>\n",
       "      <td>22</td>\n",
       "    </tr>\n",
       "    <tr>\n",
       "      <th>7</th>\n",
       "      <td>41</td>\n",
       "      <td>13</td>\n",
       "      <td>22</td>\n",
       "    </tr>\n",
       "    <tr>\n",
       "      <th>8</th>\n",
       "      <td>113</td>\n",
       "      <td>13</td>\n",
       "      <td>22</td>\n",
       "    </tr>\n",
       "    <tr>\n",
       "      <th>9</th>\n",
       "      <td>39</td>\n",
       "      <td>13</td>\n",
       "      <td>22</td>\n",
       "    </tr>\n",
       "  </tbody>\n",
       "</table>\n",
       "</div>"
      ],
      "text/plain": [
       "   category  currency  country\n",
       "0       108         5        9\n",
       "1        93        13       22\n",
       "2        93        13       22\n",
       "3        90        13       22\n",
       "4        55        13       22\n",
       "5       123        13       22\n",
       "6        58        13       22\n",
       "7        41        13       22\n",
       "8       113        13       22\n",
       "9        39        13       22"
      ]
     },
     "execution_count": 7,
     "metadata": {},
     "output_type": "execute_result"
    }
   ],
   "source": [
    "# 使用`LabelEncoder`将类别变量`category`,`currency`,`country`转换为整数。\n",
    "from sklearn.preprocessing import LabelEncoder\n",
    "\n",
    "cat_features=['category','currency','country']\n",
    "encoder = LabelEncoder()\n",
    "\n",
    "# 对每列使用LabelEncoder进行编码\n",
    "encoded = ks[cat_features].apply(encoder.fit_transform)\n",
    "encoded.head(10)"
   ]
  },
  {
   "cell_type": "code",
   "execution_count": 8,
   "metadata": {},
   "outputs": [
    {
     "data": {
      "text/html": [
       "<div>\n",
       "<style scoped>\n",
       "    .dataframe tbody tr th:only-of-type {\n",
       "        vertical-align: middle;\n",
       "    }\n",
       "\n",
       "    .dataframe tbody tr th {\n",
       "        vertical-align: top;\n",
       "    }\n",
       "\n",
       "    .dataframe thead th {\n",
       "        text-align: right;\n",
       "    }\n",
       "</style>\n",
       "<table border=\"1\" class=\"dataframe\">\n",
       "  <thead>\n",
       "    <tr style=\"text-align: right;\">\n",
       "      <th></th>\n",
       "      <th>goal</th>\n",
       "      <th>hour</th>\n",
       "      <th>day</th>\n",
       "      <th>month</th>\n",
       "      <th>year</th>\n",
       "      <th>outcome</th>\n",
       "      <th>category</th>\n",
       "      <th>currency</th>\n",
       "      <th>country</th>\n",
       "    </tr>\n",
       "  </thead>\n",
       "  <tbody>\n",
       "    <tr>\n",
       "      <th>0</th>\n",
       "      <td>1000.0</td>\n",
       "      <td>12</td>\n",
       "      <td>11</td>\n",
       "      <td>8</td>\n",
       "      <td>2015</td>\n",
       "      <td>0</td>\n",
       "      <td>108</td>\n",
       "      <td>5</td>\n",
       "      <td>9</td>\n",
       "    </tr>\n",
       "    <tr>\n",
       "      <th>1</th>\n",
       "      <td>30000.0</td>\n",
       "      <td>4</td>\n",
       "      <td>2</td>\n",
       "      <td>9</td>\n",
       "      <td>2017</td>\n",
       "      <td>0</td>\n",
       "      <td>93</td>\n",
       "      <td>13</td>\n",
       "      <td>22</td>\n",
       "    </tr>\n",
       "    <tr>\n",
       "      <th>2</th>\n",
       "      <td>45000.0</td>\n",
       "      <td>0</td>\n",
       "      <td>12</td>\n",
       "      <td>1</td>\n",
       "      <td>2013</td>\n",
       "      <td>0</td>\n",
       "      <td>93</td>\n",
       "      <td>13</td>\n",
       "      <td>22</td>\n",
       "    </tr>\n",
       "    <tr>\n",
       "      <th>3</th>\n",
       "      <td>5000.0</td>\n",
       "      <td>3</td>\n",
       "      <td>17</td>\n",
       "      <td>3</td>\n",
       "      <td>2012</td>\n",
       "      <td>0</td>\n",
       "      <td>90</td>\n",
       "      <td>13</td>\n",
       "      <td>22</td>\n",
       "    </tr>\n",
       "    <tr>\n",
       "      <th>4</th>\n",
       "      <td>19500.0</td>\n",
       "      <td>8</td>\n",
       "      <td>4</td>\n",
       "      <td>7</td>\n",
       "      <td>2015</td>\n",
       "      <td>0</td>\n",
       "      <td>55</td>\n",
       "      <td>13</td>\n",
       "      <td>22</td>\n",
       "    </tr>\n",
       "  </tbody>\n",
       "</table>\n",
       "</div>"
      ],
      "text/plain": [
       "      goal  hour  day  month  year  outcome  category  currency  country\n",
       "0   1000.0    12   11      8  2015        0       108         5        9\n",
       "1  30000.0     4    2      9  2017        0        93        13       22\n",
       "2  45000.0     0   12      1  2013        0        93        13       22\n",
       "3   5000.0     3   17      3  2012        0        90        13       22\n",
       "4  19500.0     8    4      7  2015        0        55        13       22"
      ]
     },
     "execution_count": 8,
     "metadata": {},
     "output_type": "execute_result"
    }
   ],
   "source": [
    "# 整合用来训练模型的数据\n",
    "# `ks`和`encoded`有相同的索引，可以很容易将它们join\n",
    "data = ks[['goal','hour','day','month','year','outcome']].join(encoded)\n",
    "data.head()"
   ]
  },
  {
   "cell_type": "code",
   "execution_count": 9,
   "metadata": {},
   "outputs": [
    {
     "name": "stdout",
     "output_type": "stream",
     "text": [
      "Outcome fraction = 0.3570\n",
      "Outcome fraction = 0.3539\n",
      "Outcome fraction = 0.3542\n"
     ]
    }
   ],
   "source": [
    "# 手动的将数据分为训练数据、验证数据、测试数据\n",
    "valid_fraction = 0.1\n",
    "valid_size = int(len(data) * valid_fraction)\n",
    "train = data[:-2 * valid_size]\n",
    "valid = data[-2 * valid_size:-valid_size]\n",
    "test = data[-valid_size:]\n",
    "\n",
    "# 通常期望的是每一部分的数据中目标种类的比例相同。\n",
    "# 打印出每部分数据中outcome为`successful`的比例\n",
    "for each in [train, valid, test]:\n",
    "    print(f\"Outcome fraction = {each.outcome.mean():.4f}\")"
   ]
  },
  {
   "cell_type": "markdown",
   "metadata": {},
   "source": [
    "由于事先对数据进行了很好的随机化（randomized）处理，每个数据集都有35%左右的`outcome`为*successful*。\n",
    "\n",
    "一种自动进行随机化的方式是`sklearn.model_selection.StratifiedShuffleSplit`。"
   ]
  },
  {
   "cell_type": "markdown",
   "metadata": {},
   "source": [
    "**使用LightGBM模型来训练一个基准模型**\n",
    "\n",
    "**LightGBM(Light Gradient Boosting Machine)**是一种基于树的模型，通常能够提供最佳性能表现，即使是和XGBoost相比。并且模型训练相对较快。此处不作超参调试，着重点是表现在进行特征工程时的模型性能提升。"
   ]
  },
  {
   "cell_type": "code",
   "execution_count": 13,
   "metadata": {},
   "outputs": [],
   "source": [
    "import lightgbm as lgb\n",
    "\n",
    "feature_cols = train.columns.drop('outcome')\n",
    "\n",
    "dtrain = lgb.Dataset(train[feature_cols], label=train['outcome'])\n",
    "dvalid = lgb.Dataset(valid[feature_cols], label=valid['outcome'])\n",
    "\n",
    "param = {'num_leaves':64, 'objective':'binary'}\n",
    "param['metric'] = 'auc'\n",
    "num_round = 1000\n",
    "bst = lgb.train(param, dtrain, num_round, valid_sets=[dvalid], early_stopping_rounds=10, verbose_eval=False)"
   ]
  },
  {
   "cell_type": "code",
   "execution_count": 14,
   "metadata": {
    "scrolled": false
   },
   "outputs": [
    {
     "name": "stdout",
     "output_type": "stream",
     "text": [
      "Test AUC score:0.747615303004287\n"
     ]
    }
   ],
   "source": [
    "# 预测和验证\n",
    "from sklearn import metrics\n",
    "ypred = bst.predict(test[feature_cols])\n",
    "score = metrics.roc_auc_score(test['outcome'], ypred)\n",
    "\n",
    "print(f\"Test AUC score:{score}\")"
   ]
  },
  {
   "cell_type": "markdown",
   "metadata": {},
   "source": [
    "**2、类别变量编码方法（Categorical Encodings）**\n",
    "\n",
    "包括：count encoding，target encoding（and variations），singular value decomposition。"
   ]
  },
  {
   "cell_type": "code",
   "execution_count": 29,
   "metadata": {
    "scrolled": true
   },
   "outputs": [
    {
     "name": "stdout",
     "output_type": "stream",
     "text": [
      "Training model!\n",
      "Validation AUC score:0.7467\n"
     ]
    }
   ],
   "source": [
    "# ----重构上节的基准模型\n",
    "ks = pd.read_csv('./datasets/kickstarter-projects/ks-projects-201801.csv',\n",
    "                parse_dates=['deadline', 'launched'])\n",
    "# 移除仍然活跃的项目\n",
    "ks = ks.query('state != \"live\"')\n",
    "# 增加outcome列，1表示state为successful的项目，0表示其它state的项目\n",
    "ks= ks.assign(outcome=(ks['state']=='successful').astype('int'))\n",
    "# 时间戳特征转换\n",
    "ks=ks.assign(hour=ks.launched.dt.hour,\n",
    "            day=ks.launched.dt.day,\n",
    "            month=ks.launched.dt.month,\n",
    "            year=ks.launched.dt.year)\n",
    "\n",
    "# Label encoding\n",
    "cat_features = ['category','currency','country']\n",
    "encoder=LabelEncoder()\n",
    "encoded=ks[cat_features].apply(encoder.fit_transform)\n",
    "\n",
    "data_cols=['goal','hour','day','month','year','outcome']\n",
    "baseline_data=ks[data_cols].join(encoded)\n",
    "\n",
    "def get_data_splits(dataframe, valid_fraction=0.1):\n",
    "    valid_fraction=0.1\n",
    "    valid_size=int(len(dataframe) * valid_fraction)\n",
    "    train=dataframe[:-valid_size*2]\n",
    "    valid = dataframe[-valid_size * 2:-valid_size]\n",
    "    test = dataframe[-valid_size:]\n",
    "    return train,valid,test\n",
    "\n",
    "def train_model(train,valid):\n",
    "    feature_cols=train.columns.drop('outcome')\n",
    "    \n",
    "    dtrain = lgb.Dataset(train[feature_cols], label=train['outcome'])\n",
    "    dvalid = lgb.Dataset(valid[feature_cols], label=valid['outcome'])\n",
    "    param = {'num_leaves':64, 'objective':'binary',\n",
    "            'metric':'auc', 'seed':7}\n",
    "    print('Training model!')\n",
    "    bst = lgb.train(param, dtrain, num_boost_round=1000, valid_sets=[dvalid],\n",
    "                   early_stopping_rounds=10, verbose_eval=False)\n",
    "    valid_pred = bst.predict(valid[feature_cols])\n",
    "    valid_score = metrics.roc_auc_score(valid['outcome'],valid_pred)\n",
    "    print(f\"Validation AUC score:{valid_score:.4f}\")\n",
    "    return bst\n",
    "\n",
    "train,valid, _= get_data_splits(baseline_data)\n",
    "bst = train_model(train, valid)"
   ]
  },
  {
   "cell_type": "markdown",
   "metadata": {},
   "source": [
    "**Count Encoding**\n",
    "\n",
    "Count Encoding（计数编码）用数据集中每个类别值出现的次数替换该类别值。\n",
    "\n",
    "出现次数少的值趋于有相似的数量（比如1或2），在预测的时候可以将它们分为一类。出现次数多的值与其它值不大可能有相近的数量，所以它们会有各自的分组。\n",
    "\n",
    "这里用的是`categorical-encoding`包（该包依赖`featuretools`包，也可以学习下的）。"
   ]
  },
  {
   "cell_type": "code",
   "execution_count": 30,
   "metadata": {
    "scrolled": true
   },
   "outputs": [
    {
     "name": "stderr",
     "output_type": "stream",
     "text": [
      "c:\\program files\\python\\lib\\site-packages\\category_encoders\\count.py:255: FutureWarning: The pandas.np module is deprecated and will be removed from pandas in a future version. Import numpy directly instead\n",
      "  X.loc[:, self.cols] = X.fillna(value=pd.np.nan)\n"
     ]
    },
    {
     "name": "stdout",
     "output_type": "stream",
     "text": [
      "Training model!\n",
      "Validation AUC score:0.7486\n"
     ]
    }
   ],
   "source": [
    "import category_encoders as ce\n",
    "\n",
    "cat_features = ['category','currency','country']\n",
    "count_enc = ce.CountEncoder()\n",
    "count_encoded = count_enc.fit_transform(ks[cat_features])\n",
    "\n",
    "data=baseline_data.join(count_encoded.add_suffix('_count'))\n",
    "\n",
    "train,valid,test = get_data_splits(data)\n",
    "bst = train_model(train, valid)"
   ]
  },
  {
   "cell_type": "code",
   "execution_count": 31,
   "metadata": {
    "scrolled": true
   },
   "outputs": [
    {
     "data": {
      "text/html": [
       "<div>\n",
       "<style scoped>\n",
       "    .dataframe tbody tr th:only-of-type {\n",
       "        vertical-align: middle;\n",
       "    }\n",
       "\n",
       "    .dataframe tbody tr th {\n",
       "        vertical-align: top;\n",
       "    }\n",
       "\n",
       "    .dataframe thead th {\n",
       "        text-align: right;\n",
       "    }\n",
       "</style>\n",
       "<table border=\"1\" class=\"dataframe\">\n",
       "  <thead>\n",
       "    <tr style=\"text-align: right;\">\n",
       "      <th></th>\n",
       "      <th>goal</th>\n",
       "      <th>hour</th>\n",
       "      <th>day</th>\n",
       "      <th>month</th>\n",
       "      <th>year</th>\n",
       "      <th>outcome</th>\n",
       "      <th>category</th>\n",
       "      <th>currency</th>\n",
       "      <th>country</th>\n",
       "      <th>category_count</th>\n",
       "      <th>currency_count</th>\n",
       "      <th>country_count</th>\n",
       "    </tr>\n",
       "  </thead>\n",
       "  <tbody>\n",
       "    <tr>\n",
       "      <th>0</th>\n",
       "      <td>1000.0</td>\n",
       "      <td>12</td>\n",
       "      <td>11</td>\n",
       "      <td>8</td>\n",
       "      <td>2015</td>\n",
       "      <td>0</td>\n",
       "      <td>108</td>\n",
       "      <td>5</td>\n",
       "      <td>9</td>\n",
       "      <td>1362</td>\n",
       "      <td>33853</td>\n",
       "      <td>33393</td>\n",
       "    </tr>\n",
       "    <tr>\n",
       "      <th>1</th>\n",
       "      <td>30000.0</td>\n",
       "      <td>4</td>\n",
       "      <td>2</td>\n",
       "      <td>9</td>\n",
       "      <td>2017</td>\n",
       "      <td>0</td>\n",
       "      <td>93</td>\n",
       "      <td>13</td>\n",
       "      <td>22</td>\n",
       "      <td>5174</td>\n",
       "      <td>293624</td>\n",
       "      <td>290887</td>\n",
       "    </tr>\n",
       "    <tr>\n",
       "      <th>2</th>\n",
       "      <td>45000.0</td>\n",
       "      <td>0</td>\n",
       "      <td>12</td>\n",
       "      <td>1</td>\n",
       "      <td>2013</td>\n",
       "      <td>0</td>\n",
       "      <td>93</td>\n",
       "      <td>13</td>\n",
       "      <td>22</td>\n",
       "      <td>5174</td>\n",
       "      <td>293624</td>\n",
       "      <td>290887</td>\n",
       "    </tr>\n",
       "    <tr>\n",
       "      <th>3</th>\n",
       "      <td>5000.0</td>\n",
       "      <td>3</td>\n",
       "      <td>17</td>\n",
       "      <td>3</td>\n",
       "      <td>2012</td>\n",
       "      <td>0</td>\n",
       "      <td>90</td>\n",
       "      <td>13</td>\n",
       "      <td>22</td>\n",
       "      <td>15647</td>\n",
       "      <td>293624</td>\n",
       "      <td>290887</td>\n",
       "    </tr>\n",
       "    <tr>\n",
       "      <th>4</th>\n",
       "      <td>19500.0</td>\n",
       "      <td>8</td>\n",
       "      <td>4</td>\n",
       "      <td>7</td>\n",
       "      <td>2015</td>\n",
       "      <td>0</td>\n",
       "      <td>55</td>\n",
       "      <td>13</td>\n",
       "      <td>22</td>\n",
       "      <td>10054</td>\n",
       "      <td>293624</td>\n",
       "      <td>290887</td>\n",
       "    </tr>\n",
       "  </tbody>\n",
       "</table>\n",
       "</div>"
      ],
      "text/plain": [
       "      goal  hour  day  month  year  outcome  category  currency  country  category_count  currency_count  country_count\n",
       "0   1000.0    12   11      8  2015        0       108         5        9            1362           33853          33393\n",
       "1  30000.0     4    2      9  2017        0        93        13       22            5174          293624         290887\n",
       "2  45000.0     0   12      1  2013        0        93        13       22            5174          293624         290887\n",
       "3   5000.0     3   17      3  2012        0        90        13       22           15647          293624         290887\n",
       "4  19500.0     8    4      7  2015        0        55        13       22           10054          293624         290887"
      ]
     },
     "execution_count": 31,
     "metadata": {},
     "output_type": "execute_result"
    }
   ],
   "source": [
    "train.head()"
   ]
  },
  {
   "cell_type": "markdown",
   "metadata": {},
   "source": [
    "增加了count encoding特征将验证结果由0.7467提高到了0.7486，只是一个轻微的提升。\n",
    "\n",
    "**Traget Encoding（目标编码）**\n",
    "\n",
    "监督编码（supervised encoding），用labels（target）来转换类别特征。\n",
    "\n",
    "Target Encoding用某个特征值对应的目标的平均值来替换类别值。\n",
    "\n",
    "通常会结合整个数据集的目标概率来减少出现频率少的值的方差。这种技术用目标来创建新的特征，如果把验证数据或者测试数据包括进target encoding会造成某种形式的目标泄漏；应该是仅仅从训练数据进行target encoding，并将训练的transformer应用到其它数据集上。"
   ]
  },
  {
   "cell_type": "code",
   "execution_count": 32,
   "metadata": {
    "scrolled": true
   },
   "outputs": [
    {
     "name": "stdout",
     "output_type": "stream",
     "text": [
      "Training model!\n",
      "Validation AUC score:0.7491\n"
     ]
    }
   ],
   "source": [
    "cat_features = ['category','currency','country']\n",
    "target_enc = ce.TargetEncoder(cols=cat_features)\n",
    "\n",
    "train,valid,_ = get_data_splits(data)\n",
    "# 用训练数据拟合编码transformer\n",
    "target_enc.fit(train[cat_features], train['outcome'])\n",
    "#\n",
    "train = train.join(target_enc.transform(train[cat_features]).add_suffix('_target'))\n",
    "valid = valid.join(target_enc.transform(valid[cat_features]).add_suffix('_target'))\n",
    "\n",
    "bst=train_model(train, valid)"
   ]
  },
  {
   "cell_type": "code",
   "execution_count": 33,
   "metadata": {},
   "outputs": [
    {
     "data": {
      "text/html": [
       "<div>\n",
       "<style scoped>\n",
       "    .dataframe tbody tr th:only-of-type {\n",
       "        vertical-align: middle;\n",
       "    }\n",
       "\n",
       "    .dataframe tbody tr th {\n",
       "        vertical-align: top;\n",
       "    }\n",
       "\n",
       "    .dataframe thead th {\n",
       "        text-align: right;\n",
       "    }\n",
       "</style>\n",
       "<table border=\"1\" class=\"dataframe\">\n",
       "  <thead>\n",
       "    <tr style=\"text-align: right;\">\n",
       "      <th></th>\n",
       "      <th>goal</th>\n",
       "      <th>hour</th>\n",
       "      <th>day</th>\n",
       "      <th>month</th>\n",
       "      <th>year</th>\n",
       "      <th>outcome</th>\n",
       "      <th>category</th>\n",
       "      <th>currency</th>\n",
       "      <th>country</th>\n",
       "      <th>category_count</th>\n",
       "      <th>currency_count</th>\n",
       "      <th>country_count</th>\n",
       "      <th>category_target</th>\n",
       "      <th>currency_target</th>\n",
       "      <th>country_target</th>\n",
       "    </tr>\n",
       "  </thead>\n",
       "  <tbody>\n",
       "    <tr>\n",
       "      <th>0</th>\n",
       "      <td>1000.0</td>\n",
       "      <td>12</td>\n",
       "      <td>11</td>\n",
       "      <td>8</td>\n",
       "      <td>2015</td>\n",
       "      <td>0</td>\n",
       "      <td>108</td>\n",
       "      <td>5</td>\n",
       "      <td>9</td>\n",
       "      <td>1362</td>\n",
       "      <td>33853</td>\n",
       "      <td>33393</td>\n",
       "      <td>0.360190</td>\n",
       "      <td>0.357122</td>\n",
       "      <td>0.361636</td>\n",
       "    </tr>\n",
       "    <tr>\n",
       "      <th>1</th>\n",
       "      <td>30000.0</td>\n",
       "      <td>4</td>\n",
       "      <td>2</td>\n",
       "      <td>9</td>\n",
       "      <td>2017</td>\n",
       "      <td>0</td>\n",
       "      <td>93</td>\n",
       "      <td>13</td>\n",
       "      <td>22</td>\n",
       "      <td>5174</td>\n",
       "      <td>293624</td>\n",
       "      <td>290887</td>\n",
       "      <td>0.384615</td>\n",
       "      <td>0.373392</td>\n",
       "      <td>0.376631</td>\n",
       "    </tr>\n",
       "    <tr>\n",
       "      <th>2</th>\n",
       "      <td>45000.0</td>\n",
       "      <td>0</td>\n",
       "      <td>12</td>\n",
       "      <td>1</td>\n",
       "      <td>2013</td>\n",
       "      <td>0</td>\n",
       "      <td>93</td>\n",
       "      <td>13</td>\n",
       "      <td>22</td>\n",
       "      <td>5174</td>\n",
       "      <td>293624</td>\n",
       "      <td>290887</td>\n",
       "      <td>0.384615</td>\n",
       "      <td>0.373392</td>\n",
       "      <td>0.376631</td>\n",
       "    </tr>\n",
       "    <tr>\n",
       "      <th>3</th>\n",
       "      <td>5000.0</td>\n",
       "      <td>3</td>\n",
       "      <td>17</td>\n",
       "      <td>3</td>\n",
       "      <td>2012</td>\n",
       "      <td>0</td>\n",
       "      <td>90</td>\n",
       "      <td>13</td>\n",
       "      <td>22</td>\n",
       "      <td>15647</td>\n",
       "      <td>293624</td>\n",
       "      <td>290887</td>\n",
       "      <td>0.412655</td>\n",
       "      <td>0.373392</td>\n",
       "      <td>0.376631</td>\n",
       "    </tr>\n",
       "    <tr>\n",
       "      <th>4</th>\n",
       "      <td>19500.0</td>\n",
       "      <td>8</td>\n",
       "      <td>4</td>\n",
       "      <td>7</td>\n",
       "      <td>2015</td>\n",
       "      <td>0</td>\n",
       "      <td>55</td>\n",
       "      <td>13</td>\n",
       "      <td>22</td>\n",
       "      <td>10054</td>\n",
       "      <td>293624</td>\n",
       "      <td>290887</td>\n",
       "      <td>0.302625</td>\n",
       "      <td>0.373392</td>\n",
       "      <td>0.376631</td>\n",
       "    </tr>\n",
       "  </tbody>\n",
       "</table>\n",
       "</div>"
      ],
      "text/plain": [
       "      goal  hour  day  month  year  outcome  ...  category_count  currency_count  country_count  category_target  currency_target  country_target\n",
       "0   1000.0    12   11      8  2015        0  ...            1362           33853          33393         0.360190         0.357122        0.361636\n",
       "1  30000.0     4    2      9  2017        0  ...            5174          293624         290887         0.384615         0.373392        0.376631\n",
       "2  45000.0     0   12      1  2013        0  ...            5174          293624         290887         0.384615         0.373392        0.376631\n",
       "3   5000.0     3   17      3  2012        0  ...           15647          293624         290887         0.412655         0.373392        0.376631\n",
       "4  19500.0     8    4      7  2015        0  ...           10054          293624         290887         0.302625         0.373392        0.376631\n",
       "\n",
       "[5 rows x 15 columns]"
      ]
     },
     "execution_count": 33,
     "metadata": {},
     "output_type": "execute_result"
    }
   ],
   "source": [
    "train.head()"
   ]
  },
  {
   "cell_type": "markdown",
   "metadata": {},
   "source": [
    "**CatBoost Encoding**\n",
    "\n",
    "与target encoding类似，也是基于某个类别值的目标概率。但是，CatBoost，对于每行仅仅根据它前面那行来计算目标概率。"
   ]
  },
  {
   "cell_type": "code",
   "execution_count": 34,
   "metadata": {},
   "outputs": [
    {
     "name": "stdout",
     "output_type": "stream",
     "text": [
      "Training model!\n",
      "Validation AUC score:0.7492\n"
     ]
    }
   ],
   "source": [
    "cat_features = ['category','currency','country']\n",
    "target_enc = ce.CatBoostEncoder(cols=cat_features)\n",
    "\n",
    "train,valid,_ = get_data_splits(data)\n",
    "# 用训练数据拟合编码transformer\n",
    "target_enc.fit(train[cat_features], train['outcome'])\n",
    "#\n",
    "train = train.join(target_enc.transform(train[cat_features]).add_suffix('_cb'))\n",
    "valid = valid.join(target_enc.transform(valid[cat_features]).add_suffix('_cb'))\n",
    "\n",
    "bst=train_model(train, valid)"
   ]
  },
  {
   "cell_type": "code",
   "execution_count": 35,
   "metadata": {},
   "outputs": [
    {
     "data": {
      "text/html": [
       "<div>\n",
       "<style scoped>\n",
       "    .dataframe tbody tr th:only-of-type {\n",
       "        vertical-align: middle;\n",
       "    }\n",
       "\n",
       "    .dataframe tbody tr th {\n",
       "        vertical-align: top;\n",
       "    }\n",
       "\n",
       "    .dataframe thead th {\n",
       "        text-align: right;\n",
       "    }\n",
       "</style>\n",
       "<table border=\"1\" class=\"dataframe\">\n",
       "  <thead>\n",
       "    <tr style=\"text-align: right;\">\n",
       "      <th></th>\n",
       "      <th>goal</th>\n",
       "      <th>hour</th>\n",
       "      <th>day</th>\n",
       "      <th>month</th>\n",
       "      <th>year</th>\n",
       "      <th>outcome</th>\n",
       "      <th>category</th>\n",
       "      <th>currency</th>\n",
       "      <th>country</th>\n",
       "      <th>category_count</th>\n",
       "      <th>currency_count</th>\n",
       "      <th>country_count</th>\n",
       "      <th>category_cb</th>\n",
       "      <th>currency_cb</th>\n",
       "      <th>country_cb</th>\n",
       "    </tr>\n",
       "  </thead>\n",
       "  <tbody>\n",
       "    <tr>\n",
       "      <th>0</th>\n",
       "      <td>1000.0</td>\n",
       "      <td>12</td>\n",
       "      <td>11</td>\n",
       "      <td>8</td>\n",
       "      <td>2015</td>\n",
       "      <td>0</td>\n",
       "      <td>108</td>\n",
       "      <td>5</td>\n",
       "      <td>9</td>\n",
       "      <td>1362</td>\n",
       "      <td>33853</td>\n",
       "      <td>33393</td>\n",
       "      <td>0.360187</td>\n",
       "      <td>0.357122</td>\n",
       "      <td>0.361636</td>\n",
       "    </tr>\n",
       "    <tr>\n",
       "      <th>1</th>\n",
       "      <td>30000.0</td>\n",
       "      <td>4</td>\n",
       "      <td>2</td>\n",
       "      <td>9</td>\n",
       "      <td>2017</td>\n",
       "      <td>0</td>\n",
       "      <td>93</td>\n",
       "      <td>13</td>\n",
       "      <td>22</td>\n",
       "      <td>5174</td>\n",
       "      <td>293624</td>\n",
       "      <td>290887</td>\n",
       "      <td>0.384609</td>\n",
       "      <td>0.373392</td>\n",
       "      <td>0.376631</td>\n",
       "    </tr>\n",
       "    <tr>\n",
       "      <th>2</th>\n",
       "      <td>45000.0</td>\n",
       "      <td>0</td>\n",
       "      <td>12</td>\n",
       "      <td>1</td>\n",
       "      <td>2013</td>\n",
       "      <td>0</td>\n",
       "      <td>93</td>\n",
       "      <td>13</td>\n",
       "      <td>22</td>\n",
       "      <td>5174</td>\n",
       "      <td>293624</td>\n",
       "      <td>290887</td>\n",
       "      <td>0.384609</td>\n",
       "      <td>0.373392</td>\n",
       "      <td>0.376631</td>\n",
       "    </tr>\n",
       "    <tr>\n",
       "      <th>3</th>\n",
       "      <td>5000.0</td>\n",
       "      <td>3</td>\n",
       "      <td>17</td>\n",
       "      <td>3</td>\n",
       "      <td>2012</td>\n",
       "      <td>0</td>\n",
       "      <td>90</td>\n",
       "      <td>13</td>\n",
       "      <td>22</td>\n",
       "      <td>15647</td>\n",
       "      <td>293624</td>\n",
       "      <td>290887</td>\n",
       "      <td>0.412651</td>\n",
       "      <td>0.373392</td>\n",
       "      <td>0.376631</td>\n",
       "    </tr>\n",
       "    <tr>\n",
       "      <th>4</th>\n",
       "      <td>19500.0</td>\n",
       "      <td>8</td>\n",
       "      <td>4</td>\n",
       "      <td>7</td>\n",
       "      <td>2015</td>\n",
       "      <td>0</td>\n",
       "      <td>55</td>\n",
       "      <td>13</td>\n",
       "      <td>22</td>\n",
       "      <td>10054</td>\n",
       "      <td>293624</td>\n",
       "      <td>290887</td>\n",
       "      <td>0.302632</td>\n",
       "      <td>0.373392</td>\n",
       "      <td>0.376631</td>\n",
       "    </tr>\n",
       "  </tbody>\n",
       "</table>\n",
       "</div>"
      ],
      "text/plain": [
       "      goal  hour  day  month  year  outcome  category  ...  country  category_count  currency_count  country_count  category_cb  currency_cb  country_cb\n",
       "0   1000.0    12   11      8  2015        0       108  ...        9            1362           33853          33393     0.360187     0.357122    0.361636\n",
       "1  30000.0     4    2      9  2017        0        93  ...       22            5174          293624         290887     0.384609     0.373392    0.376631\n",
       "2  45000.0     0   12      1  2013        0        93  ...       22            5174          293624         290887     0.384609     0.373392    0.376631\n",
       "3   5000.0     3   17      3  2012        0        90  ...       22           15647          293624         290887     0.412651     0.373392    0.376631\n",
       "4  19500.0     8    4      7  2015        0        55  ...       22           10054          293624         290887     0.302632     0.373392    0.376631\n",
       "\n",
       "[5 rows x 15 columns]"
      ]
     },
     "execution_count": 35,
     "metadata": {},
     "output_type": "execute_result"
    }
   ],
   "source": [
    "train.head()"
   ]
  },
  {
   "cell_type": "code",
   "execution_count": 2,
   "metadata": {},
   "outputs": [
    {
     "name": "stdout",
     "output_type": "stream",
     "text": [
      "(2300561, 12)\n"
     ]
    },
    {
     "data": {
      "text/html": [
       "<div>\n",
       "<style scoped>\n",
       "    .dataframe tbody tr th:only-of-type {\n",
       "        vertical-align: middle;\n",
       "    }\n",
       "\n",
       "    .dataframe tbody tr th {\n",
       "        vertical-align: top;\n",
       "    }\n",
       "\n",
       "    .dataframe thead th {\n",
       "        text-align: right;\n",
       "    }\n",
       "</style>\n",
       "<table border=\"1\" class=\"dataframe\">\n",
       "  <thead>\n",
       "    <tr style=\"text-align: right;\">\n",
       "      <th></th>\n",
       "      <th>ip</th>\n",
       "      <th>app</th>\n",
       "      <th>device</th>\n",
       "      <th>os</th>\n",
       "      <th>channel</th>\n",
       "      <th>click_time</th>\n",
       "      <th>attributed_time</th>\n",
       "      <th>is_attributed</th>\n",
       "      <th>day</th>\n",
       "      <th>hour</th>\n",
       "      <th>minute</th>\n",
       "      <th>second</th>\n",
       "    </tr>\n",
       "  </thead>\n",
       "  <tbody>\n",
       "    <tr>\n",
       "      <th>0</th>\n",
       "      <td>27226</td>\n",
       "      <td>3</td>\n",
       "      <td>1</td>\n",
       "      <td>13</td>\n",
       "      <td>120</td>\n",
       "      <td>2017-11-06 15:13:23</td>\n",
       "      <td>None</td>\n",
       "      <td>0</td>\n",
       "      <td>6</td>\n",
       "      <td>15</td>\n",
       "      <td>13</td>\n",
       "      <td>23</td>\n",
       "    </tr>\n",
       "    <tr>\n",
       "      <th>1</th>\n",
       "      <td>110007</td>\n",
       "      <td>35</td>\n",
       "      <td>1</td>\n",
       "      <td>13</td>\n",
       "      <td>10</td>\n",
       "      <td>2017-11-06 15:41:07</td>\n",
       "      <td>2017-11-07 08:17:19</td>\n",
       "      <td>1</td>\n",
       "      <td>6</td>\n",
       "      <td>15</td>\n",
       "      <td>41</td>\n",
       "      <td>7</td>\n",
       "    </tr>\n",
       "    <tr>\n",
       "      <th>2</th>\n",
       "      <td>1047</td>\n",
       "      <td>6</td>\n",
       "      <td>1</td>\n",
       "      <td>13</td>\n",
       "      <td>157</td>\n",
       "      <td>2017-11-06 15:42:32</td>\n",
       "      <td>None</td>\n",
       "      <td>0</td>\n",
       "      <td>6</td>\n",
       "      <td>15</td>\n",
       "      <td>42</td>\n",
       "      <td>32</td>\n",
       "    </tr>\n",
       "    <tr>\n",
       "      <th>3</th>\n",
       "      <td>76270</td>\n",
       "      <td>3</td>\n",
       "      <td>1</td>\n",
       "      <td>13</td>\n",
       "      <td>120</td>\n",
       "      <td>2017-11-06 15:56:17</td>\n",
       "      <td>None</td>\n",
       "      <td>0</td>\n",
       "      <td>6</td>\n",
       "      <td>15</td>\n",
       "      <td>56</td>\n",
       "      <td>17</td>\n",
       "    </tr>\n",
       "    <tr>\n",
       "      <th>4</th>\n",
       "      <td>57862</td>\n",
       "      <td>3</td>\n",
       "      <td>1</td>\n",
       "      <td>13</td>\n",
       "      <td>120</td>\n",
       "      <td>2017-11-06 15:57:01</td>\n",
       "      <td>None</td>\n",
       "      <td>0</td>\n",
       "      <td>6</td>\n",
       "      <td>15</td>\n",
       "      <td>57</td>\n",
       "      <td>1</td>\n",
       "    </tr>\n",
       "  </tbody>\n",
       "</table>\n",
       "</div>"
      ],
      "text/plain": [
       "       ip  app  device  os  channel          click_time      attributed_time  \\\n",
       "0   27226    3       1  13      120 2017-11-06 15:13:23                 None   \n",
       "1  110007   35       1  13       10 2017-11-06 15:41:07  2017-11-07 08:17:19   \n",
       "2    1047    6       1  13      157 2017-11-06 15:42:32                 None   \n",
       "3   76270    3       1  13      120 2017-11-06 15:56:17                 None   \n",
       "4   57862    3       1  13      120 2017-11-06 15:57:01                 None   \n",
       "\n",
       "   is_attributed  day  hour  minute  second  \n",
       "0              0    6    15      13      23  \n",
       "1              1    6    15      41       7  \n",
       "2              0    6    15      42      32  \n",
       "3              0    6    15      56      17  \n",
       "4              0    6    15      57       1  "
      ]
     },
     "execution_count": 2,
     "metadata": {},
     "output_type": "execute_result"
    }
   ],
   "source": [
    "# -----例子2\n",
    "# 读取parquet文件要先安装`pyarrow`包\n",
    "# 看多app的广告，是否会下载app的预测\n",
    "clicks=pd.read_parquet('./datasets/feature-engineering-data/baseline_data.pqt')\n",
    "print(clicks.shape)\n",
    "clicks.head()"
   ]
  },
  {
   "cell_type": "code",
   "execution_count": 3,
   "metadata": {},
   "outputs": [],
   "source": [
    "import lightgbm as lgb\n",
    "import category_encoders as ce\n",
    "from sklearn import metrics\n",
    "\n",
    "def get_data_splits(dataframe, valid_fraction=0.1):\n",
    "    \"\"\" 把数据集分为训练、测试、验证三部分。\n",
    "    首先按照\"click_time\"排序（因为是对未来的预测，防止目标泄漏）\n",
    "    \"\"\"\n",
    "    dataframe = dataframe.sort_values('click_time')\n",
    "    valid_rows = int(len(dataframe) * valid_fraction)\n",
    "    train = dataframe[:-valid_rows * 2]\n",
    "    # valid size == test size, last two sections of the data\n",
    "    valid = dataframe[-valid_rows * 2:-valid_rows]\n",
    "    test = dataframe[-valid_rows:]\n",
    "    \n",
    "    return train, valid, test\n",
    "\n",
    "def train_model(train, valid, test=None, feature_cols=None):\n",
    "    # 默认将'click_time', 'attributed_time','is_attributed'三列删除，\n",
    "    # 'is_attributed'为目标列，'attributed_time'为下载时间\n",
    "    if feature_cols is None:\n",
    "        feature_cols = train.columns.drop(['click_time', 'attributed_time',\n",
    "                                           'is_attributed'])\n",
    "\n",
    "    dtrain = lgb.Dataset(train[feature_cols], label=train['is_attributed'])\n",
    "    dvalid = lgb.Dataset(valid[feature_cols], label=valid['is_attributed'])\n",
    "    \n",
    "    param = {'num_leaves': 64, 'objective': 'binary', \n",
    "             'metric': 'auc', 'seed': 7}\n",
    "    num_round = 1000\n",
    "    print(\"Training model!\")\n",
    "    bst = lgb.train(param, dtrain, num_round, valid_sets=[dvalid], \n",
    "                    early_stopping_rounds=20, verbose_eval=False)\n",
    "    \n",
    "    valid_pred = bst.predict(valid[feature_cols])\n",
    "    valid_score = metrics.roc_auc_score(valid['is_attributed'], valid_pred)\n",
    "    print(f\"Validation AUC score: {valid_score}\")\n",
    "    \n",
    "    if test is not None: \n",
    "        test_pred = bst.predict(test[feature_cols])\n",
    "        test_score = metrics.roc_auc_score(test['is_attributed'], test_pred)\n",
    "        return bst, valid_score, test_score\n",
    "    else:\n",
    "        return bst, valid_score"
   ]
  },
  {
   "cell_type": "code",
   "execution_count": 4,
   "metadata": {},
   "outputs": [
    {
     "name": "stdout",
     "output_type": "stream",
     "text": [
      "Baseline model\n",
      "Training model!\n",
      "Validation AUC score: 0.9622743228943659\n"
     ]
    }
   ],
   "source": [
    "# 训练基准模型\n",
    "print(\"Baseline model\")\n",
    "train, valid, test = get_data_splits(clicks)\n",
    "_ = train_model(train, valid)"
   ]
  },
  {
   "cell_type": "code",
   "execution_count": 5,
   "metadata": {},
   "outputs": [
    {
     "name": "stderr",
     "output_type": "stream",
     "text": [
      "c:\\program files\\python\\lib\\site-packages\\category_encoders\\count.py:255: FutureWarning: The pandas.np module is deprecated and will be removed from pandas in a future version. Import numpy directly instead\n",
      "  X.loc[:, self.cols] = X.fillna(value=pd.np.nan)\n"
     ]
    },
    {
     "name": "stdout",
     "output_type": "stream",
     "text": [
      "Training model!\n",
      "Validation AUC score: 0.9653051135205329\n"
     ]
    }
   ],
   "source": [
    "# 使用count encoding\n",
    "cat_features = ['ip', 'app', 'device', 'os', 'channel']\n",
    "train, valid, test = get_data_splits(clicks)\n",
    "\n",
    "count_enc = ce.CountEncoder(cols=cat_features)\n",
    "\n",
    "count_enc.fit(train[cat_features])\n",
    "\n",
    "train_encoded = train.join(count_enc.transform(train[cat_features]).add_suffix('_count'))\n",
    "valid_encoded = valid.join(count_enc.transform(valid[cat_features]).add_suffix('_count'))\n",
    "\n",
    "_ = train_model(train_encoded, valid_encoded)"
   ]
  },
  {
   "cell_type": "code",
   "execution_count": 6,
   "metadata": {},
   "outputs": [
    {
     "name": "stdout",
     "output_type": "stream",
     "text": [
      "Training model!\n",
      "Validation AUC score: 0.9540530347873288\n"
     ]
    }
   ],
   "source": [
    "# 使用Traget encoding\n",
    "cat_features = ['ip', 'app', 'device', 'os', 'channel']\n",
    "train, valid, test = get_data_splits(clicks)\n",
    "\n",
    "target_enc = ce.TargetEncoder(cols=cat_features)\n",
    "\n",
    "target_enc.fit(train[cat_features],train['is_attributed'])\n",
    "\n",
    "train_encoded = train.join(target_enc.transform(train[cat_features]).add_suffix('_target'))\n",
    "valid_encoded = valid.join(target_enc.transform(valid[cat_features]).add_suffix('_target'))\n",
    "\n",
    "_ = train_model(train_encoded, valid_encoded)"
   ]
  },
  {
   "cell_type": "markdown",
   "metadata": {},
   "source": [
    "Target encoding是尝试测量类别特征每个值对应的目标的平均值（population mean）。对于数量很少的类别值，估算出来的平均值与“真实的”平均值会相差很远，变化会很大。\n",
    "\n",
    "由于每个`ip`对应的数据都很少，所以将`ip`列为目标编码特征，可能会形成编码的干扰，训练出的模型会强烈的依赖这个特征（唯一性比较强对预测结果决定性大）。会导致对于训练数据中未出现过的ip地址表现很差。所以，下面的类别编码将移除`ip`。"
   ]
  },
  {
   "cell_type": "code",
   "execution_count": 7,
   "metadata": {},
   "outputs": [
    {
     "name": "stdout",
     "output_type": "stream",
     "text": [
      "Training model!\n",
      "Validation AUC score: 0.962868024575231\n"
     ]
    }
   ],
   "source": [
    "cat_features = ['app', 'device', 'os', 'channel']\n",
    "train, valid, test = get_data_splits(clicks)\n",
    "\n",
    "cb_enc = ce.CatBoostEncoder(cols=cat_features)\n",
    "\n",
    "cb_enc.fit(train[cat_features],train['is_attributed'])\n",
    "\n",
    "train_encoded = train.join(cb_enc.transform(train[cat_features]).add_suffix('_cb'))\n",
    "valid_encoded = valid.join(cb_enc.transform(valid[cat_features]).add_suffix('_cb'))\n",
    "\n",
    "_ = train_model(train_encoded , valid_encoded )"
   ]
  },
  {
   "cell_type": "markdown",
   "metadata": {},
   "source": [
    "**3、Feature Generation**\n",
    "\n",
    "从源数据中创造新的特征是改进模型的最好方法之一。"
   ]
  },
  {
   "cell_type": "code",
   "execution_count": 8,
   "metadata": {},
   "outputs": [],
   "source": [
    "%matplotlib inline\n",
    "\n",
    "import matplotlib.pyplot as plt\n",
    "from pandas.plotting import register_matplotlib_converters\n",
    "from sklearn.preprocessing import LabelEncoder\n",
    "\n",
    "register_matplotlib_converters()\n",
    "\n",
    "ks = ks.query('state != \"live\"')\n",
    "\n",
    "# Add outcome column, \"successful\" == 1, others are 0\n",
    "ks = ks.assign(outcome=(ks['state'] == 'successful').astype(int))\n",
    "\n",
    "ks = ks.assign(hour=ks.launched.dt.hour,\n",
    "               day=ks.launched.dt.day,\n",
    "               month=ks.launched.dt.month,\n",
    "               year=ks.launched.dt.year)\n",
    "\n",
    "# Label encoding\n",
    "cat_features = ['category', 'currency', 'country']\n",
    "encoder = LabelEncoder()\n",
    "encoded = ks[cat_features].apply(encoder.fit_transform)\n",
    "\n",
    "data_cols = ['goal', 'hour', 'day', 'month', 'year', 'outcome']\n",
    "baseline_data = ks[data_cols].join(encoded)"
   ]
  },
  {
   "cell_type": "markdown",
   "metadata": {},
   "source": [
    "**3.1、interactions（相互作用）**\n",
    "\n",
    "把类别变量连结在一起创建出新的特征。\n",
    "\n",
    "比如国家“CA”和类别“Music”连结创建新的值“CA_Music”。那么这将是一个新的特征可以提供了类别变量之间的关系。\n",
    "\n",
    "一般，可以用任意数量的类别特征进行来创建相互作用特征；但是连结数量越多，效果可能递减。"
   ]
  },
  {
   "cell_type": "code",
   "execution_count": 9,
   "metadata": {},
   "outputs": [
    {
     "name": "stdout",
     "output_type": "stream",
     "text": [
      "0            Poetry_GB\n",
      "1    Narrative Film_US\n",
      "2    Narrative Film_US\n",
      "3             Music_US\n",
      "4      Film & Video_US\n",
      "5       Restaurants_US\n",
      "6              Food_US\n",
      "7            Drinks_US\n",
      "8    Product Design_US\n",
      "9       Documentary_US\n",
      "dtype: object\n"
     ]
    }
   ],
   "source": [
    "# 使用pandas可以简单的将两列连结\n",
    "interactions = ks['category'] + '_' + ks['country']\n",
    "print(interactions.head(10))"
   ]
  },
  {
   "cell_type": "code",
   "execution_count": 10,
   "metadata": {},
   "outputs": [
    {
     "data": {
      "text/html": [
       "<div>\n",
       "<style scoped>\n",
       "    .dataframe tbody tr th:only-of-type {\n",
       "        vertical-align: middle;\n",
       "    }\n",
       "\n",
       "    .dataframe tbody tr th {\n",
       "        vertical-align: top;\n",
       "    }\n",
       "\n",
       "    .dataframe thead th {\n",
       "        text-align: right;\n",
       "    }\n",
       "</style>\n",
       "<table border=\"1\" class=\"dataframe\">\n",
       "  <thead>\n",
       "    <tr style=\"text-align: right;\">\n",
       "      <th></th>\n",
       "      <th>goal</th>\n",
       "      <th>hour</th>\n",
       "      <th>day</th>\n",
       "      <th>month</th>\n",
       "      <th>year</th>\n",
       "      <th>outcome</th>\n",
       "      <th>category</th>\n",
       "      <th>currency</th>\n",
       "      <th>country</th>\n",
       "      <th>category_country</th>\n",
       "    </tr>\n",
       "  </thead>\n",
       "  <tbody>\n",
       "    <tr>\n",
       "      <th>0</th>\n",
       "      <td>1000.0</td>\n",
       "      <td>12</td>\n",
       "      <td>11</td>\n",
       "      <td>8</td>\n",
       "      <td>2015</td>\n",
       "      <td>0</td>\n",
       "      <td>108</td>\n",
       "      <td>5</td>\n",
       "      <td>9</td>\n",
       "      <td>1900</td>\n",
       "    </tr>\n",
       "    <tr>\n",
       "      <th>1</th>\n",
       "      <td>30000.0</td>\n",
       "      <td>4</td>\n",
       "      <td>2</td>\n",
       "      <td>9</td>\n",
       "      <td>2017</td>\n",
       "      <td>0</td>\n",
       "      <td>93</td>\n",
       "      <td>13</td>\n",
       "      <td>22</td>\n",
       "      <td>1630</td>\n",
       "    </tr>\n",
       "    <tr>\n",
       "      <th>2</th>\n",
       "      <td>45000.0</td>\n",
       "      <td>0</td>\n",
       "      <td>12</td>\n",
       "      <td>1</td>\n",
       "      <td>2013</td>\n",
       "      <td>0</td>\n",
       "      <td>93</td>\n",
       "      <td>13</td>\n",
       "      <td>22</td>\n",
       "      <td>1630</td>\n",
       "    </tr>\n",
       "    <tr>\n",
       "      <th>3</th>\n",
       "      <td>5000.0</td>\n",
       "      <td>3</td>\n",
       "      <td>17</td>\n",
       "      <td>3</td>\n",
       "      <td>2012</td>\n",
       "      <td>0</td>\n",
       "      <td>90</td>\n",
       "      <td>13</td>\n",
       "      <td>22</td>\n",
       "      <td>1595</td>\n",
       "    </tr>\n",
       "    <tr>\n",
       "      <th>4</th>\n",
       "      <td>19500.0</td>\n",
       "      <td>8</td>\n",
       "      <td>4</td>\n",
       "      <td>7</td>\n",
       "      <td>2015</td>\n",
       "      <td>0</td>\n",
       "      <td>55</td>\n",
       "      <td>13</td>\n",
       "      <td>22</td>\n",
       "      <td>979</td>\n",
       "    </tr>\n",
       "  </tbody>\n",
       "</table>\n",
       "</div>"
      ],
      "text/plain": [
       "      goal  hour  day  month  year  outcome  category  currency  country  \\\n",
       "0   1000.0    12   11      8  2015        0       108         5        9   \n",
       "1  30000.0     4    2      9  2017        0        93        13       22   \n",
       "2  45000.0     0   12      1  2013        0        93        13       22   \n",
       "3   5000.0     3   17      3  2012        0        90        13       22   \n",
       "4  19500.0     8    4      7  2015        0        55        13       22   \n",
       "\n",
       "   category_country  \n",
       "0              1900  \n",
       "1              1630  \n",
       "2              1630  \n",
       "3              1595  \n",
       "4               979  "
      ]
     },
     "execution_count": 10,
     "metadata": {},
     "output_type": "execute_result"
    }
   ],
   "source": [
    "# 然后把这个相互作用特征进行label encode，并加入到数据集中\n",
    "label_enc=LabelEncoder()\n",
    "data_interaction=baseline_data.assign(category_country=label_enc.fit_transform(interactions))\n",
    "data_interaction.head()"
   ]
  },
  {
   "cell_type": "markdown",
   "metadata": {},
   "source": [
    "**3.2、上周内的项目数量（Number of projects in the last week）**"
   ]
  },
  {
   "cell_type": "code",
   "execution_count": 11,
   "metadata": {},
   "outputs": [
    {
     "data": {
      "text/plain": [
       "launched\n",
       "1970-01-01 01:00:00     94579\n",
       "1970-01-01 01:00:00    319002\n",
       "1970-01-01 01:00:00    247913\n",
       "1970-01-01 01:00:00     48147\n",
       "1970-01-01 01:00:00     75397\n",
       "1970-01-01 01:00:00      2842\n",
       "1970-01-01 01:00:00    273779\n",
       "2009-04-21 21:02:48    169268\n",
       "2009-04-23 00:07:53    322000\n",
       "2009-04-24 21:52:03    138572\n",
       "2009-04-25 17:36:21    325391\n",
       "2009-04-27 14:10:39    122662\n",
       "2009-04-28 13:55:41    213711\n",
       "2009-04-29 02:04:21    345606\n",
       "2009-04-29 02:58:50    235255\n",
       "2009-04-29 04:37:37     98954\n",
       "2009-04-29 05:26:32    342226\n",
       "2009-04-29 06:43:44    275091\n",
       "2009-04-29 13:52:03    284115\n",
       "2009-04-29 22:08:13     32898\n",
       "Name: count_7_days, dtype: int64"
      ]
     },
     "execution_count": 11,
     "metadata": {},
     "output_type": "execute_result"
    }
   ],
   "source": [
    "# 使用ks.launched作为索引，ks.index作为值，然后按照创建的Series的索引排序\n",
    "launched = pd.Series(ks.index, index=ks.launched, name=\"count_7_days\").sort_index()\n",
    "launched.head(20)"
   ]
  },
  {
   "cell_type": "markdown",
   "metadata": {},
   "source": [
    "由于Series的索引是时间，可以使用`.rolling`来选择时间段作为窗口。比如，`launched.rolling('7d')`创建一个滚动的窗口——包含当前索引代表的时间的过去7天内的所有数据。这中窗口会包含当前记录，所以，如果只统计当前记录之前的记录，应该减1."
   ]
  },
  {
   "cell_type": "code",
   "execution_count": 15,
   "metadata": {},
   "outputs": [
    {
     "name": "stdout",
     "output_type": "stream",
     "text": [
      "launched\n",
      "1970-01-01 01:00:00     0.0\n",
      "1970-01-01 01:00:00     1.0\n",
      "1970-01-01 01:00:00     2.0\n",
      "1970-01-01 01:00:00     3.0\n",
      "1970-01-01 01:00:00     4.0\n",
      "1970-01-01 01:00:00     5.0\n",
      "1970-01-01 01:00:00     6.0\n",
      "2009-04-21 21:02:48     0.0\n",
      "2009-04-23 00:07:53     1.0\n",
      "2009-04-24 21:52:03     2.0\n",
      "2009-04-25 17:36:21     3.0\n",
      "2009-04-27 14:10:39     4.0\n",
      "2009-04-28 13:55:41     5.0\n",
      "2009-04-29 02:04:21     5.0\n",
      "2009-04-29 02:58:50     6.0\n",
      "2009-04-29 04:37:37     7.0\n",
      "2009-04-29 05:26:32     8.0\n",
      "2009-04-29 06:43:44     9.0\n",
      "2009-04-29 13:52:03    10.0\n",
      "2009-04-29 22:08:13    11.0\n",
      "Name: count_7_days, dtype: float64\n"
     ]
    },
    {
     "data": {
      "image/png": "[encoded data removed]",
      "text/plain": [
       "<Figure size 432x288 with 1 Axes>"
      ]
     },
     "metadata": {
      "needs_background": "light"
     },
     "output_type": "display_data"
    }
   ],
   "source": [
    "# 创建窗口，统计每个窗口的数量\n",
    "count_7_days=launched.rolling('7d').count()-1\n",
    "print(count_7_days.head(20))\n",
    "\n",
    "# 忽略日期错误的几条记录（‘1970-------’）\n",
    "plt.plot(count_7_days[7:])\n",
    "plt.title(\"Competitions in the last 7 days\");"
   ]
  },
  {
   "cell_type": "code",
   "execution_count": 16,
   "metadata": {},
   "outputs": [
    {
     "data": {
      "text/plain": [
       "0    1409.0\n",
       "1     957.0\n",
       "2     739.0\n",
       "3     907.0\n",
       "4    1429.0\n",
       "5    1284.0\n",
       "6    1119.0\n",
       "7    1391.0\n",
       "8    1043.0\n",
       "9    3199.0\n",
       "Name: count_7_days, dtype: float64"
      ]
     },
     "execution_count": 16,
     "metadata": {},
     "output_type": "execute_result"
    }
   ],
   "source": [
    "# 把索引加回来，以便和训练数据集进行连接\n",
    "count_7_days.index=launched.values\n",
    "count_7_days=count_7_days.reindex(ks.index)\n",
    "count_7_days.head(10)"
   ]
  },
  {
   "cell_type": "code",
   "execution_count": 17,
   "metadata": {},
   "outputs": [
    {
     "data": {
      "text/html": [
       "<div>\n",
       "<style scoped>\n",
       "    .dataframe tbody tr th:only-of-type {\n",
       "        vertical-align: middle;\n",
       "    }\n",
       "\n",
       "    .dataframe tbody tr th {\n",
       "        vertical-align: top;\n",
       "    }\n",
       "\n",
       "    .dataframe thead th {\n",
       "        text-align: right;\n",
       "    }\n",
       "</style>\n",
       "<table border=\"1\" class=\"dataframe\">\n",
       "  <thead>\n",
       "    <tr style=\"text-align: right;\">\n",
       "      <th></th>\n",
       "      <th>goal</th>\n",
       "      <th>hour</th>\n",
       "      <th>day</th>\n",
       "      <th>month</th>\n",
       "      <th>year</th>\n",
       "      <th>outcome</th>\n",
       "      <th>category</th>\n",
       "      <th>currency</th>\n",
       "      <th>country</th>\n",
       "      <th>count_7_days</th>\n",
       "    </tr>\n",
       "  </thead>\n",
       "  <tbody>\n",
       "    <tr>\n",
       "      <th>0</th>\n",
       "      <td>1000.0</td>\n",
       "      <td>12</td>\n",
       "      <td>11</td>\n",
       "      <td>8</td>\n",
       "      <td>2015</td>\n",
       "      <td>0</td>\n",
       "      <td>108</td>\n",
       "      <td>5</td>\n",
       "      <td>9</td>\n",
       "      <td>1409.0</td>\n",
       "    </tr>\n",
       "    <tr>\n",
       "      <th>1</th>\n",
       "      <td>30000.0</td>\n",
       "      <td>4</td>\n",
       "      <td>2</td>\n",
       "      <td>9</td>\n",
       "      <td>2017</td>\n",
       "      <td>0</td>\n",
       "      <td>93</td>\n",
       "      <td>13</td>\n",
       "      <td>22</td>\n",
       "      <td>957.0</td>\n",
       "    </tr>\n",
       "    <tr>\n",
       "      <th>2</th>\n",
       "      <td>45000.0</td>\n",
       "      <td>0</td>\n",
       "      <td>12</td>\n",
       "      <td>1</td>\n",
       "      <td>2013</td>\n",
       "      <td>0</td>\n",
       "      <td>93</td>\n",
       "      <td>13</td>\n",
       "      <td>22</td>\n",
       "      <td>739.0</td>\n",
       "    </tr>\n",
       "    <tr>\n",
       "      <th>3</th>\n",
       "      <td>5000.0</td>\n",
       "      <td>3</td>\n",
       "      <td>17</td>\n",
       "      <td>3</td>\n",
       "      <td>2012</td>\n",
       "      <td>0</td>\n",
       "      <td>90</td>\n",
       "      <td>13</td>\n",
       "      <td>22</td>\n",
       "      <td>907.0</td>\n",
       "    </tr>\n",
       "    <tr>\n",
       "      <th>4</th>\n",
       "      <td>19500.0</td>\n",
       "      <td>8</td>\n",
       "      <td>4</td>\n",
       "      <td>7</td>\n",
       "      <td>2015</td>\n",
       "      <td>0</td>\n",
       "      <td>55</td>\n",
       "      <td>13</td>\n",
       "      <td>22</td>\n",
       "      <td>1429.0</td>\n",
       "    </tr>\n",
       "    <tr>\n",
       "      <th>5</th>\n",
       "      <td>50000.0</td>\n",
       "      <td>13</td>\n",
       "      <td>26</td>\n",
       "      <td>2</td>\n",
       "      <td>2016</td>\n",
       "      <td>1</td>\n",
       "      <td>123</td>\n",
       "      <td>13</td>\n",
       "      <td>22</td>\n",
       "      <td>1284.0</td>\n",
       "    </tr>\n",
       "    <tr>\n",
       "      <th>6</th>\n",
       "      <td>1000.0</td>\n",
       "      <td>18</td>\n",
       "      <td>1</td>\n",
       "      <td>12</td>\n",
       "      <td>2014</td>\n",
       "      <td>1</td>\n",
       "      <td>58</td>\n",
       "      <td>13</td>\n",
       "      <td>22</td>\n",
       "      <td>1119.0</td>\n",
       "    </tr>\n",
       "    <tr>\n",
       "      <th>7</th>\n",
       "      <td>25000.0</td>\n",
       "      <td>20</td>\n",
       "      <td>1</td>\n",
       "      <td>2</td>\n",
       "      <td>2016</td>\n",
       "      <td>0</td>\n",
       "      <td>41</td>\n",
       "      <td>13</td>\n",
       "      <td>22</td>\n",
       "      <td>1391.0</td>\n",
       "    </tr>\n",
       "    <tr>\n",
       "      <th>8</th>\n",
       "      <td>125000.0</td>\n",
       "      <td>18</td>\n",
       "      <td>24</td>\n",
       "      <td>4</td>\n",
       "      <td>2014</td>\n",
       "      <td>0</td>\n",
       "      <td>113</td>\n",
       "      <td>13</td>\n",
       "      <td>22</td>\n",
       "      <td>1043.0</td>\n",
       "    </tr>\n",
       "    <tr>\n",
       "      <th>9</th>\n",
       "      <td>65000.0</td>\n",
       "      <td>21</td>\n",
       "      <td>11</td>\n",
       "      <td>7</td>\n",
       "      <td>2014</td>\n",
       "      <td>0</td>\n",
       "      <td>39</td>\n",
       "      <td>13</td>\n",
       "      <td>22</td>\n",
       "      <td>3199.0</td>\n",
       "    </tr>\n",
       "  </tbody>\n",
       "</table>\n",
       "</div>"
      ],
      "text/plain": [
       "       goal  hour  day  month  year  outcome  category  currency  country  \\\n",
       "0    1000.0    12   11      8  2015        0       108         5        9   \n",
       "1   30000.0     4    2      9  2017        0        93        13       22   \n",
       "2   45000.0     0   12      1  2013        0        93        13       22   \n",
       "3    5000.0     3   17      3  2012        0        90        13       22   \n",
       "4   19500.0     8    4      7  2015        0        55        13       22   \n",
       "5   50000.0    13   26      2  2016        1       123        13       22   \n",
       "6    1000.0    18    1     12  2014        1        58        13       22   \n",
       "7   25000.0    20    1      2  2016        0        41        13       22   \n",
       "8  125000.0    18   24      4  2014        0       113        13       22   \n",
       "9   65000.0    21   11      7  2014        0        39        13       22   \n",
       "\n",
       "   count_7_days  \n",
       "0        1409.0  \n",
       "1         957.0  \n",
       "2         739.0  \n",
       "3         907.0  \n",
       "4        1429.0  \n",
       "5        1284.0  \n",
       "6        1119.0  \n",
       "7        1391.0  \n",
       "8        1043.0  \n",
       "9        3199.0  "
      ]
     },
     "execution_count": 17,
     "metadata": {},
     "output_type": "execute_result"
    }
   ],
   "source": [
    "# 和训练数据连接\n",
    "baseline_data.join(count_7_days).head(10)"
   ]
  },
  {
   "cell_type": "markdown",
   "metadata": {},
   "source": [
    "**3.3、距离上一个同一类别的项目的时间（Time since the last project in the same category）**\n",
    "\n",
    "相同类别的项目会竞争捐赠者吗？如果要买一个视频游戏并且刚刚发行了另一款同类游戏，用户可能没有足够的钱了。通过计算距离上一个同类项目的发行时间获取这个特征。\n",
    "\n",
    "一个进行分组内操作的方便操作是使用`.groupby`，然后`.transform`。`.transform`方法以函数为参数，把每个分组的Series或Dataframe传递给函数进行处理。这一过程**返回的Dataframe和源Dataframe相同索引**。"
   ]
  },
  {
   "cell_type": "code",
   "execution_count": 18,
   "metadata": {},
   "outputs": [
    {
     "data": {
      "text/html": [
       "<div>\n",
       "<style scoped>\n",
       "    .dataframe tbody tr th:only-of-type {\n",
       "        vertical-align: middle;\n",
       "    }\n",
       "\n",
       "    .dataframe tbody tr th {\n",
       "        vertical-align: top;\n",
       "    }\n",
       "\n",
       "    .dataframe thead th {\n",
       "        text-align: right;\n",
       "    }\n",
       "</style>\n",
       "<table border=\"1\" class=\"dataframe\">\n",
       "  <thead>\n",
       "    <tr style=\"text-align: right;\">\n",
       "      <th></th>\n",
       "      <th>launched</th>\n",
       "    </tr>\n",
       "  </thead>\n",
       "  <tbody>\n",
       "    <tr>\n",
       "      <th>94579</th>\n",
       "      <td>NaN</td>\n",
       "    </tr>\n",
       "    <tr>\n",
       "      <th>319002</th>\n",
       "      <td>NaN</td>\n",
       "    </tr>\n",
       "    <tr>\n",
       "      <th>247913</th>\n",
       "      <td>NaN</td>\n",
       "    </tr>\n",
       "    <tr>\n",
       "      <th>48147</th>\n",
       "      <td>NaN</td>\n",
       "    </tr>\n",
       "    <tr>\n",
       "      <th>75397</th>\n",
       "      <td>NaN</td>\n",
       "    </tr>\n",
       "    <tr>\n",
       "      <th>2842</th>\n",
       "      <td>0.000000</td>\n",
       "    </tr>\n",
       "    <tr>\n",
       "      <th>273779</th>\n",
       "      <td>NaN</td>\n",
       "    </tr>\n",
       "    <tr>\n",
       "      <th>169268</th>\n",
       "      <td>NaN</td>\n",
       "    </tr>\n",
       "    <tr>\n",
       "      <th>322000</th>\n",
       "      <td>NaN</td>\n",
       "    </tr>\n",
       "    <tr>\n",
       "      <th>138572</th>\n",
       "      <td>NaN</td>\n",
       "    </tr>\n",
       "    <tr>\n",
       "      <th>325391</th>\n",
       "      <td>NaN</td>\n",
       "    </tr>\n",
       "    <tr>\n",
       "      <th>122662</th>\n",
       "      <td>137.130833</td>\n",
       "    </tr>\n",
       "    <tr>\n",
       "      <th>213711</th>\n",
       "      <td>NaN</td>\n",
       "    </tr>\n",
       "    <tr>\n",
       "      <th>345606</th>\n",
       "      <td>145.941111</td>\n",
       "    </tr>\n",
       "    <tr>\n",
       "      <th>235255</th>\n",
       "      <td>NaN</td>\n",
       "    </tr>\n",
       "    <tr>\n",
       "      <th>98954</th>\n",
       "      <td>344715.626944</td>\n",
       "    </tr>\n",
       "    <tr>\n",
       "      <th>342226</th>\n",
       "      <td>NaN</td>\n",
       "    </tr>\n",
       "    <tr>\n",
       "      <th>275091</th>\n",
       "      <td>NaN</td>\n",
       "    </tr>\n",
       "    <tr>\n",
       "      <th>284115</th>\n",
       "      <td>NaN</td>\n",
       "    </tr>\n",
       "    <tr>\n",
       "      <th>32898</th>\n",
       "      <td>NaN</td>\n",
       "    </tr>\n",
       "  </tbody>\n",
       "</table>\n",
       "</div>"
      ],
      "text/plain": [
       "             launched\n",
       "94579             NaN\n",
       "319002            NaN\n",
       "247913            NaN\n",
       "48147             NaN\n",
       "75397             NaN\n",
       "2842         0.000000\n",
       "273779            NaN\n",
       "169268            NaN\n",
       "322000            NaN\n",
       "138572            NaN\n",
       "325391            NaN\n",
       "122662     137.130833\n",
       "213711            NaN\n",
       "345606     145.941111\n",
       "235255            NaN\n",
       "98954   344715.626944\n",
       "342226            NaN\n",
       "275091            NaN\n",
       "284115            NaN\n",
       "32898             NaN"
      ]
     },
     "execution_count": 18,
     "metadata": {},
     "output_type": "execute_result"
    }
   ],
   "source": [
    "def time_since_last_project(series):\n",
    "    # 返回相邻记录时间差（小时）\n",
    "    return series.diff().dt.total_seconds() / 3600.\n",
    "df = ks[['category','launched']].sort_values('launched')\n",
    "timedeltas = df.groupby('category').transform(time_since_last_project)\n",
    "timedeltas.head(20)"
   ]
  },
  {
   "cell_type": "markdown",
   "metadata": {},
   "source": [
    "如果记录是类别分组中的第一条，返回结果就是`NaN`。需要将这些值用平均值或中位值替换。"
   ]
  },
  {
   "cell_type": "code",
   "execution_count": 21,
   "metadata": {},
   "outputs": [
    {
     "data": {
      "text/html": [
       "<div>\n",
       "<style scoped>\n",
       "    .dataframe tbody tr th:only-of-type {\n",
       "        vertical-align: middle;\n",
       "    }\n",
       "\n",
       "    .dataframe tbody tr th {\n",
       "        vertical-align: top;\n",
       "    }\n",
       "\n",
       "    .dataframe thead th {\n",
       "        text-align: right;\n",
       "    }\n",
       "</style>\n",
       "<table border=\"1\" class=\"dataframe\">\n",
       "  <thead>\n",
       "    <tr style=\"text-align: right;\">\n",
       "      <th></th>\n",
       "      <th>launched</th>\n",
       "    </tr>\n",
       "  </thead>\n",
       "  <tbody>\n",
       "    <tr>\n",
       "      <th>0</th>\n",
       "      <td>18.606111</td>\n",
       "    </tr>\n",
       "    <tr>\n",
       "      <th>1</th>\n",
       "      <td>5.592778</td>\n",
       "    </tr>\n",
       "    <tr>\n",
       "      <th>2</th>\n",
       "      <td>1.313611</td>\n",
       "    </tr>\n",
       "    <tr>\n",
       "      <th>3</th>\n",
       "      <td>0.635000</td>\n",
       "    </tr>\n",
       "    <tr>\n",
       "      <th>4</th>\n",
       "      <td>16.661389</td>\n",
       "    </tr>\n",
       "    <tr>\n",
       "      <th>5</th>\n",
       "      <td>2.629722</td>\n",
       "    </tr>\n",
       "    <tr>\n",
       "      <th>6</th>\n",
       "      <td>0.367500</td>\n",
       "    </tr>\n",
       "    <tr>\n",
       "      <th>7</th>\n",
       "      <td>12.286111</td>\n",
       "    </tr>\n",
       "    <tr>\n",
       "      <th>8</th>\n",
       "      <td>14.243611</td>\n",
       "    </tr>\n",
       "    <tr>\n",
       "      <th>9</th>\n",
       "      <td>0.174722</td>\n",
       "    </tr>\n",
       "    <tr>\n",
       "      <th>10</th>\n",
       "      <td>1.372222</td>\n",
       "    </tr>\n",
       "    <tr>\n",
       "      <th>11</th>\n",
       "      <td>8.524444</td>\n",
       "    </tr>\n",
       "    <tr>\n",
       "      <th>12</th>\n",
       "      <td>0.015833</td>\n",
       "    </tr>\n",
       "    <tr>\n",
       "      <th>13</th>\n",
       "      <td>9.884444</td>\n",
       "    </tr>\n",
       "    <tr>\n",
       "      <th>14</th>\n",
       "      <td>1.725556</td>\n",
       "    </tr>\n",
       "    <tr>\n",
       "      <th>15</th>\n",
       "      <td>3.806111</td>\n",
       "    </tr>\n",
       "    <tr>\n",
       "      <th>16</th>\n",
       "      <td>2.654167</td>\n",
       "    </tr>\n",
       "    <tr>\n",
       "      <th>17</th>\n",
       "      <td>26.531667</td>\n",
       "    </tr>\n",
       "    <tr>\n",
       "      <th>18</th>\n",
       "      <td>12.273611</td>\n",
       "    </tr>\n",
       "    <tr>\n",
       "      <th>19</th>\n",
       "      <td>9.288889</td>\n",
       "    </tr>\n",
       "  </tbody>\n",
       "</table>\n",
       "</div>"
      ],
      "text/plain": [
       "     launched\n",
       "0   18.606111\n",
       "1    5.592778\n",
       "2    1.313611\n",
       "3    0.635000\n",
       "4   16.661389\n",
       "5    2.629722\n",
       "6    0.367500\n",
       "7   12.286111\n",
       "8   14.243611\n",
       "9    0.174722\n",
       "10   1.372222\n",
       "11   8.524444\n",
       "12   0.015833\n",
       "13   9.884444\n",
       "14   1.725556\n",
       "15   3.806111\n",
       "16   2.654167\n",
       "17  26.531667\n",
       "18  12.273611\n",
       "19   9.288889"
      ]
     },
     "execution_count": 21,
     "metadata": {},
     "output_type": "execute_result"
    }
   ],
   "source": [
    "timedeltas=timedeltas.fillna(timedeltas.median()).reindex(baseline_data.index)\n",
    "timedeltas.head(20)"
   ]
  },
  {
   "cell_type": "code",
   "execution_count": 24,
   "metadata": {},
   "outputs": [
    {
     "data": {
      "text/plain": [
       "Text(0.5, 1.0, 'Goal')"
      ]
     },
     "execution_count": 24,
     "metadata": {},
     "output_type": "execute_result"
    },
    {
     "data": {
      "image/png": "[encoded data removed]",
      "text/plain": [
       "<Figure size 432x288 with 1 Axes>"
      ]
     },
     "metadata": {
      "needs_background": "light"
     },
     "output_type": "display_data"
    }
   ],
   "source": [
    "plt.hist(ks.goal, range=(0,100000), bins=50)\n",
    "plt.title('Goal')"
   ]
  },
  {
   "cell_type": "markdown",
   "metadata": {},
   "source": [
    "**3.4、转换数值特征（Transforming numerical features）**\n",
    "\n",
    "从`goal`的值的分布可以看出大多数项目的`goal`小于5000 USD。但是`goal`有一个长尾——直到100000。当特征呈现正态分布时某些模型表现最好，所以转换`goal`的值可能会有帮助。常用的选择是平方根（square root）和自然对数（natural logarithm）。这些转换也能约束异常值（constrain outliers）。"
   ]
  },
  {
   "cell_type": "code",
   "execution_count": 26,
   "metadata": {},
   "outputs": [
    {
     "data": {
      "text/plain": [
       "Text(0.5, 1.0, 'Sqrt(Goal)')"
      ]
     },
     "execution_count": 26,
     "metadata": {},
     "output_type": "execute_result"
    },
    {
     "data": {
      "image/png": "[encoded data removed]",
      "text/plain": [
       "<Figure size 432x288 with 1 Axes>"
      ]
     },
     "metadata": {
      "needs_background": "light"
     },
     "output_type": "display_data"
    }
   ],
   "source": [
    "import numpy as np\n",
    "plt.hist(np.sqrt(ks.goal),range=(0,400), bins=50)\n",
    "plt.title('Sqrt(Goal)')"
   ]
  },
  {
   "cell_type": "code",
   "execution_count": 27,
   "metadata": {},
   "outputs": [
    {
     "data": {
      "text/plain": [
       "Text(0.5, 1.0, 'Log(Goal)')"
      ]
     },
     "execution_count": 27,
     "metadata": {},
     "output_type": "execute_result"
    },
    {
     "data": {
      "image/png": "[encoded data removed]",
      "text/plain": [
       "<Figure size 432x288 with 1 Axes>"
      ]
     },
     "metadata": {
      "needs_background": "light"
     },
     "output_type": "display_data"
    }
   ],
   "source": [
    "plt.hist(np.log(ks.goal),range=(0,25), bins=50)\n",
    "plt.title('Log(Goal)')"
   ]
  },
  {
   "cell_type": "markdown",
   "metadata": {},
   "source": [
    "对数转换对于树型模型是没有用的，因为基于树的模型是尺度不变的（scale invariant）。但是，对数转换对于线性模型（linear model）或者神经网络（neural network）是有用的。\n",
    "\n",
    "还有诸如平方（square）、幂（power）、指数（exponentials）……等转换。这些对于模型辨别（model discriminate）有帮助，比如SVM内核的模型。辨别是否有用还要看经验。一种方法是，创建一组新的特征，然后使用特征选择算法进行选择。\n",
    "\n",
    "神经网络模型需要输入的数值特征是标准化的（standardized），即，特征需要被缩放为平均值为0并且标准差是1。使用`sklearn.preprocessing.StandardScaler`可以实现标准化。"
   ]
  },
  {
   "cell_type": "code",
   "execution_count": 89,
   "metadata": {},
   "outputs": [
    {
     "name": "stdout",
     "output_type": "stream",
     "text": [
      "       ip  app  device  os  channel          click_time      attributed_time  \\\n",
      "0   89489    3       1  13      379 2017-11-06 15:13:23                  NaN   \n",
      "1  204158   35       1  13       21 2017-11-06 15:41:07  2017-11-07 08:17:19   \n",
      "2    3437    6       1  13      459 2017-11-06 15:42:32                  NaN   \n",
      "3  167543    3       1  13      379 2017-11-06 15:56:17                  NaN   \n",
      "4  147509    3       1  13      379 2017-11-06 15:57:01                  NaN   \n",
      "5   71421   15       1  13      153 2017-11-06 16:00:00                  NaN   \n",
      "6   76953   14       1  13      379 2017-11-06 16:00:01                  NaN   \n",
      "7  187909    2       1  25      477 2017-11-06 16:00:01                  NaN   \n",
      "8  116779    1       1   8      150 2017-11-06 16:00:01                  NaN   \n",
      "9   47857    3       1  15      205 2017-11-06 16:00:01                  NaN   \n",
      "\n",
      "   is_attributed  \n",
      "0              0  \n",
      "1              1  \n",
      "2              0  \n",
      "3              0  \n",
      "4              0  \n",
      "5              0  \n",
      "6              0  \n",
      "7              0  \n",
      "8              0  \n",
      "9              0  \n",
      "       ip  app  device  os  channel          click_time      attributed_time  \\\n",
      "0   89489    3       1  13      379 2017-11-06 15:13:23                  NaN   \n",
      "1  204158   35       1  13       21 2017-11-06 15:41:07  2017-11-07 08:17:19   \n",
      "2    3437    6       1  13      459 2017-11-06 15:42:32                  NaN   \n",
      "3  167543    3       1  13      379 2017-11-06 15:56:17                  NaN   \n",
      "4  147509    3       1  13      379 2017-11-06 15:57:01                  NaN   \n",
      "5   71421   15       1  13      153 2017-11-06 16:00:00                  NaN   \n",
      "6   76953   14       1  13      379 2017-11-06 16:00:01                  NaN   \n",
      "7  187909    2       1  25      477 2017-11-06 16:00:01                  NaN   \n",
      "8  116779    1       1   8      150 2017-11-06 16:00:01                  NaN   \n",
      "9   47857    3       1  15      205 2017-11-06 16:00:01                  NaN   \n",
      "\n",
      "   is_attributed  day  hour  minute  second  \n",
      "0              0    6    15      13      23  \n",
      "1              1    6    15      41       7  \n",
      "2              0    6    15      42      32  \n",
      "3              0    6    15      56      17  \n",
      "4              0    6    15      57       1  \n",
      "5              0    6    16       0       0  \n",
      "6              0    6    16       0       1  \n",
      "7              0    6    16       0       1  \n",
      "8              0    6    16       0       1  \n",
      "9              0    6    16       0       1  \n",
      "       ip  app  device  os  channel          click_time      attributed_time  \\\n",
      "0   27226    3       1  13      120 2017-11-06 15:13:23                  NaN   \n",
      "1  110007   35       1  13       10 2017-11-06 15:41:07  2017-11-07 08:17:19   \n",
      "2    1047    6       1  13      157 2017-11-06 15:42:32                  NaN   \n",
      "3   76270    3       1  13      120 2017-11-06 15:56:17                  NaN   \n",
      "4   57862    3       1  13      120 2017-11-06 15:57:01                  NaN   \n",
      "5   21781   15       1  13       43 2017-11-06 16:00:00                  NaN   \n",
      "6   23409   14       1  13      120 2017-11-06 16:00:01                  NaN   \n",
      "7   94979    2       1  25      166 2017-11-06 16:00:01                  NaN   \n",
      "8   35644    1       1   8       42 2017-11-06 16:00:01                  NaN   \n",
      "9   14521    3       1  15       54 2017-11-06 16:00:01                  NaN   \n",
      "\n",
      "   is_attributed  day  hour  minute  second  \n",
      "0              0    6    15      13      23  \n",
      "1              1    6    15      41       7  \n",
      "2              0    6    15      42      32  \n",
      "3              0    6    15      56      17  \n",
      "4              0    6    15      57       1  \n",
      "5              0    6    16       0       0  \n",
      "6              0    6    16       0       1  \n",
      "7              0    6    16       0       1  \n",
      "8              0    6    16       0       1  \n",
      "9              0    6    16       0       1  \n"
     ]
    }
   ],
   "source": [
    "# ----特征生成：例子2\n",
    "import itertools\n",
    "from sklearn.preprocessing import LabelEncoder\n",
    "click_data = pd.read_csv('./datasets/feature-engineering-data/train_sample.csv', parse_dates=['click_time'])\n",
    "\n",
    "print(click_data.head(10))\n",
    "\n",
    "click_times = click_data['click_time']\n",
    "clicks = click_data.assign(day=click_times.dt.day.astype('uint8'),\n",
    "                          hour=click_times.dt.hour.astype('uint8'),\n",
    "                          minute=click_times.dt.minute.astype('uint8'),\n",
    "                          second=click_times.dt.second.astype('uint8'))\n",
    "\n",
    "print(clicks.head(10))\n",
    "\n",
    "# 类别特征列\n",
    "cat_features=['ip','app','device','os','channel']\n",
    "# 类别特征Label encode\n",
    "for feature in cat_features:\n",
    "    label_encoder = LabelEncoder()\n",
    "    clicks[feature] = label_encoder.fit_transform(clicks[feature])\n",
    "\n",
    "print(clicks.head(10))"
   ]
  },
  {
   "cell_type": "code",
   "execution_count": 90,
   "metadata": {},
   "outputs": [
    {
     "name": "stdout",
     "output_type": "stream",
     "text": [
      "Baseline model_score\n",
      "Training model. Hold on a minute to see the validation score\n",
      "Validation AUC score:0.9622743228943659\n"
     ]
    }
   ],
   "source": [
    "def get_data_splits(dataframe, valid_fraction=0.1):\n",
    "    dataframe = dataframe.sort_values('click_time')\n",
    "    valid_rows = int(len(dataframe) * valid_fraction)\n",
    "    train = dataframe[:-valid_rows * 2]\n",
    "    # 验证数据集大小==测试数据集大小\n",
    "    valid = dataframe[-valid_rows * 2:-valid_rows]\n",
    "    test = dataframe[-valid_rows:]\n",
    "    \n",
    "    return train, valid, test\n",
    "\n",
    "def train_model(train, valid, test=None, feature_cols=None):\n",
    "    if feature_cols is None:\n",
    "        feature_cols = train.columns.drop(['click_time', 'attributed_time', 'is_attributed'])\n",
    "\n",
    "    dtrain = lgb.Dataset(train[feature_cols], label=train['is_attributed'])\n",
    "    dvalid = lgb.Dataset(valid[feature_cols], label=valid['is_attributed'])\n",
    "    \n",
    "    param = {'num_leaves':64, 'objective':'binary', 'metric':'auc', 'seed':7}\n",
    "    num_round = 1000\n",
    "    print(\"Training model. Hold on a minute to see the validation score\")\n",
    "    bst = lgb.train(param, dtrain, num_round, valid_sets=[dvalid],\n",
    "                    early_stopping_rounds=20, verbose_eval=False)\n",
    "    valid_pred = bst.predict(valid[feature_cols])\n",
    "    valid_score = metrics.roc_auc_score(valid['is_attributed'], valid_pred)\n",
    "    print(f\"Validation AUC score:{valid_score}\")\n",
    "    if test is not None:\n",
    "        test_pred = bst.predict(test[feature_cols])\n",
    "        test_score = metrics.roc_auc_score(test['is_attributed'], test_pred)\n",
    "        return bst, valid_score, test_score\n",
    "    else:\n",
    "        return bst, valid_score\n",
    "\n",
    "print(\"Baseline model_score\")\n",
    "train, valid, test = get_data_splits(clicks)\n",
    "_ = train_model(train, valid, test)"
   ]
  },
  {
   "cell_type": "markdown",
   "metadata": {},
   "source": [
    "**1）增加相互作用特征（Add interation features）**\n",
    "\n",
    "为类别特征（ip,app,device,os,channel）中的每一对组合增加interaction features。最简单的遍历这些特征组合的方法是使用`itertools.combinations`。对于生成的特征，用下划线把值作为字符串连结起来（**Python是不支持用“+”连结字符串和数值**），比如13和47变为“13_47”。把这些新列加入到数据集中时，对它们进行label encode。"
   ]
  },
  {
   "cell_type": "code",
   "execution_count": 35,
   "metadata": {},
   "outputs": [
    {
     "name": "stdout",
     "output_type": "stream",
     "text": [
      "ip app\n",
      "ip device\n",
      "ip os\n",
      "ip channel\n",
      "app device\n",
      "app os\n",
      "app channel\n",
      "device os\n",
      "device channel\n",
      "os channel\n"
     ]
    }
   ],
   "source": [
    "cat_features = ['ip', 'app', 'device', 'os', 'channel']\n",
    "# itertools.combinations(arg1, arg2), arg1字符串集合，arg2进行组合的个数\n",
    "for col1, col2 in itertools.combinations(cat_features, 2):\n",
    "    print(col1, col2)"
   ]
  },
  {
   "cell_type": "code",
   "execution_count": 91,
   "metadata": {},
   "outputs": [
    {
     "name": "stdout",
     "output_type": "stream",
     "text": [
      "ip_app\n",
      "ip_device\n",
      "ip_os\n",
      "ip_channel\n",
      "app_device\n",
      "app_os\n",
      "app_channel\n",
      "device_os\n",
      "device_channel\n",
      "os_channel\n",
      "   ip_app  ip_device   ip_os  ip_channel  app_device  app_os  app_channel  \\\n",
      "0  492097     219682  496314      681060        3631    4100          675   \n",
      "1   40669      14419   39852       57863        3581    3849          625   \n",
      "2   19984       6955   19603       28875        4196    5045          787   \n",
      "3  784442     300967  792039     1140313        3631    4100          675   \n",
      "4  714088     274929  722619     1041993        3631    4100          675   \n",
      "\n",
      "   device_os  device_channel  os_channel  \n",
      "0       1229            1890         985  \n",
      "1       1229            1867         962  \n",
      "2       1229            1928        1018  \n",
      "3       1229            1890         985  \n",
      "4       1229            1890         985  \n",
      "       ip  app  device  os  channel          click_time      attributed_time  \\\n",
      "0   27226    3       1  13      120 2017-11-06 15:13:23                  NaN   \n",
      "1  110007   35       1  13       10 2017-11-06 15:41:07  2017-11-07 08:17:19   \n",
      "2    1047    6       1  13      157 2017-11-06 15:42:32                  NaN   \n",
      "3   76270    3       1  13      120 2017-11-06 15:56:17                  NaN   \n",
      "4   57862    3       1  13      120 2017-11-06 15:57:01                  NaN   \n",
      "\n",
      "   is_attributed  day  hour  ...  ip_app  ip_device   ip_os  ip_channel  \\\n",
      "0              0    6    15  ...  492097     219682  496314      681060   \n",
      "1              1    6    15  ...   40669      14419   39852       57863   \n",
      "2              0    6    15  ...   19984       6955   19603       28875   \n",
      "3              0    6    15  ...  784442     300967  792039     1140313   \n",
      "4              0    6    15  ...  714088     274929  722619     1041993   \n",
      "\n",
      "   app_device  app_os  app_channel  device_os  device_channel  os_channel  \n",
      "0        3631    4100          675       1229            1890         985  \n",
      "1        3581    3849          625       1229            1867         962  \n",
      "2        4196    5045          787       1229            1928        1018  \n",
      "3        3631    4100          675       1229            1890         985  \n",
      "4        3631    4100          675       1229            1890         985  \n",
      "\n",
      "[5 rows x 22 columns]\n",
      "Score with interactions\n",
      "Training model. Hold on a minute to see the validation score\n",
      "Validation AUC score:0.9626212895350978\n"
     ]
    }
   ],
   "source": [
    "# 创建一个df保存生成的特征，使用clicks的索引作为索引\n",
    "interactions = pd.DataFrame(index=clicks.index)\n",
    "\n",
    "for col1,col2 in itertools.combinations(cat_features, 2):\n",
    "    new_col_name = '_'.join([col1, col2])\n",
    "    print(new_col_name)\n",
    "    # 调用Python的str函数，将每个元素转化为字符串\n",
    "    new_values = clicks[col1].map(str) + '_' + clicks[col2].map(str)\n",
    "    encoder = LabelEncoder()\n",
    "    interactions[new_col_name] = encoder.fit_transform(new_values)\n",
    "\n",
    "print(interactions.head())\n",
    "    \n",
    "clicks = clicks.join(interactions)\n",
    "\n",
    "print(clicks.head())\n",
    "\n",
    "print(\"Score with interactions\")\n",
    "train, valid, test = get_data_splits(clicks)\n",
    "_ = train_model(train, valid)"
   ]
  },
  {
   "cell_type": "markdown",
   "metadata": {},
   "source": [
    "**生成数值特征（Generating numberical features）**\n",
    "\n",
    "增加相互作用特征是从数据集创建新的类别特征的一种简便方法。创建新的数值特征也很高效，一般能够获得很大的模型性能提升。这需要一些头脑风暴和经验（brainstorming and experimentation）来找到这些特征。\n",
    "\n",
    "2）过去六小时事件的数量（Number of events in the past six hours)\n",
    "\n",
    "获取过去6小时相同ip的事件数，访问事件多的ip的用户可能下载app的意愿更强烈。\n",
    "\n",
    "一般，不应该使用未来的信息生成特征。即便训练时性能很好，现实预测中是得不到未来信息的。"
   ]
  },
  {
   "cell_type": "code",
   "execution_count": 79,
   "metadata": {},
   "outputs": [],
   "source": [
    "# 统计某段事件窗口内的事件数\n",
    "def count_past_events(series, time_window='6H'):\n",
    "    series = pd.Series(series.index, index=series)\n",
    "    past_events = series.rolling(time_window).count() - 1\n",
    "    return past_events"
   ]
  },
  {
   "cell_type": "code",
   "execution_count": 117,
   "metadata": {},
   "outputs": [],
   "source": [
    "# 按照ip统计过去6小时的事件数\n",
    "cpedf = clicks.groupby('ip')['click_time'].transform(count_past_events)"
   ]
  },
  {
   "cell_type": "code",
   "execution_count": 118,
   "metadata": {},
   "outputs": [
    {
     "data": {
      "text/plain": [
       "0           0.0\n",
       "1           0.0\n",
       "2           0.0\n",
       "3           0.0\n",
       "4           0.0\n",
       "           ... \n",
       "2300556    23.0\n",
       "2300557    70.0\n",
       "2300558    62.0\n",
       "2300559     9.0\n",
       "2300560     3.0\n",
       "Name: click_time, Length: 2300561, dtype: float64"
      ]
     },
     "execution_count": 118,
     "metadata": {},
     "output_type": "execute_result"
    }
   ],
   "source": [
    "cpedf"
   ]
  },
  {
   "cell_type": "code",
   "execution_count": 92,
   "metadata": {},
   "outputs": [
    {
     "name": "stdout",
     "output_type": "stream",
     "text": [
      "       ip  app  device  os  channel          click_time      attributed_time  \\\n",
      "0   27226    3       1  13      120 2017-11-06 15:13:23                  NaN   \n",
      "1  110007   35       1  13       10 2017-11-06 15:41:07  2017-11-07 08:17:19   \n",
      "2    1047    6       1  13      157 2017-11-06 15:42:32                  NaN   \n",
      "3   76270    3       1  13      120 2017-11-06 15:56:17                  NaN   \n",
      "4   57862    3       1  13      120 2017-11-06 15:57:01                  NaN   \n",
      "5   21781   15       1  13       43 2017-11-06 16:00:00                  NaN   \n",
      "6   23409   14       1  13      120 2017-11-06 16:00:01                  NaN   \n",
      "7   94979    2       1  25      166 2017-11-06 16:00:01                  NaN   \n",
      "8   35644    1       1   8       42 2017-11-06 16:00:01                  NaN   \n",
      "9   14521    3       1  15       54 2017-11-06 16:00:01                  NaN   \n",
      "\n",
      "   is_attributed  day  hour  ...  ip_device   ip_os  ip_channel  app_device  \\\n",
      "0              0    6    15  ...     219682  496314      681060        3631   \n",
      "1              1    6    15  ...      14419   39852       57863        3581   \n",
      "2              0    6    15  ...       6955   19603       28875        4196   \n",
      "3              0    6    15  ...     300967  792039     1140313        3631   \n",
      "4              0    6    15  ...     274929  722619     1041993        3631   \n",
      "5              0    6    16  ...     160194  362316      494194        1201   \n",
      "6              0    6    16  ...     181898  407427      555077        1177   \n",
      "7              0    6    16  ...     327646  864855     1244476        3474   \n",
      "8              0    6    16  ...     240015  608688      869827        3117   \n",
      "9              0    6    16  ...      62925  154312      215899        3631   \n",
      "\n",
      "   app_os  app_channel  device_os  device_channel  os_channel  \\\n",
      "0    4100          675       1229            1890         985   \n",
      "1    3849          625       1229            1867         962   \n",
      "2    5045          787       1229            1928        1018   \n",
      "3    4100          675       1229            1890         985   \n",
      "4    4100          675       1229            1890         985   \n",
      "5    1395          219       1229            1981        1068   \n",
      "6    1191          161       1229            1890         985   \n",
      "7    3488          542       1319            1937        3258   \n",
      "8    2206          350       1371            1980        8834   \n",
      "9    4113          701       1248            1992        1523   \n",
      "\n",
      "   ip_past_6hr_counts  \n",
      "0                 0.0  \n",
      "1                 0.0  \n",
      "2                 0.0  \n",
      "3                 0.0  \n",
      "4                 0.0  \n",
      "5                 0.0  \n",
      "6                 0.0  \n",
      "7                 0.0  \n",
      "8                 0.0  \n",
      "9                 0.0  \n",
      "\n",
      "[10 rows x 23 columns]\n",
      "Training model. Hold on a minute to see the validation score\n",
      "Validation AUC score:0.9647255487084245\n"
     ]
    }
   ],
   "source": [
    "# 读取按照ip统计的过去六个小时事件数\n",
    "past_events = pd.read_parquet('./datasets/feature-engineering-data/past_6hr_events.pqt')\n",
    "clicks['ip_past_6hr_counts'] = past_events\n",
    "print(clicks.head(10))\n",
    "train, valid, test = get_data_splits(clicks)\n",
    "_= train_model(train, valid, test)"
   ]
  },
  {
   "cell_type": "code",
   "execution_count": 116,
   "metadata": {},
   "outputs": [
    {
     "data": {
      "text/html": [
       "<div>\n",
       "<style scoped>\n",
       "    .dataframe tbody tr th:only-of-type {\n",
       "        vertical-align: middle;\n",
       "    }\n",
       "\n",
       "    .dataframe tbody tr th {\n",
       "        vertical-align: top;\n",
       "    }\n",
       "\n",
       "    .dataframe thead th {\n",
       "        text-align: right;\n",
       "    }\n",
       "</style>\n",
       "<table border=\"1\" class=\"dataframe\">\n",
       "  <thead>\n",
       "    <tr style=\"text-align: right;\">\n",
       "      <th></th>\n",
       "      <th>ip_past_6hr_counts</th>\n",
       "    </tr>\n",
       "  </thead>\n",
       "  <tbody>\n",
       "    <tr>\n",
       "      <th>0</th>\n",
       "      <td>0.0</td>\n",
       "    </tr>\n",
       "    <tr>\n",
       "      <th>1</th>\n",
       "      <td>0.0</td>\n",
       "    </tr>\n",
       "    <tr>\n",
       "      <th>2</th>\n",
       "      <td>0.0</td>\n",
       "    </tr>\n",
       "    <tr>\n",
       "      <th>3</th>\n",
       "      <td>0.0</td>\n",
       "    </tr>\n",
       "    <tr>\n",
       "      <th>4</th>\n",
       "      <td>0.0</td>\n",
       "    </tr>\n",
       "    <tr>\n",
       "      <th>...</th>\n",
       "      <td>...</td>\n",
       "    </tr>\n",
       "    <tr>\n",
       "      <th>2300556</th>\n",
       "      <td>23.0</td>\n",
       "    </tr>\n",
       "    <tr>\n",
       "      <th>2300557</th>\n",
       "      <td>70.0</td>\n",
       "    </tr>\n",
       "    <tr>\n",
       "      <th>2300558</th>\n",
       "      <td>62.0</td>\n",
       "    </tr>\n",
       "    <tr>\n",
       "      <th>2300559</th>\n",
       "      <td>9.0</td>\n",
       "    </tr>\n",
       "    <tr>\n",
       "      <th>2300560</th>\n",
       "      <td>3.0</td>\n",
       "    </tr>\n",
       "  </tbody>\n",
       "</table>\n",
       "<p>2300561 rows × 1 columns</p>\n",
       "</div>"
      ],
      "text/plain": [
       "         ip_past_6hr_counts\n",
       "0                       0.0\n",
       "1                       0.0\n",
       "2                       0.0\n",
       "3                       0.0\n",
       "4                       0.0\n",
       "...                     ...\n",
       "2300556                23.0\n",
       "2300557                70.0\n",
       "2300558                62.0\n",
       "2300559                 9.0\n",
       "2300560                 3.0\n",
       "\n",
       "[2300561 rows x 1 columns]"
      ]
     },
     "execution_count": 116,
     "metadata": {},
     "output_type": "execute_result"
    }
   ],
   "source": [
    "past_events"
   ]
  },
  {
   "cell_type": "markdown",
   "metadata": {},
   "source": [
    "**3）距离上次事件的时间（Time since last event）**"
   ]
  },
  {
   "cell_type": "code",
   "execution_count": 93,
   "metadata": {},
   "outputs": [],
   "source": [
    "def time_diff(series):\n",
    "    return series.diff().dt.total_seconds()"
   ]
  },
  {
   "cell_type": "code",
   "execution_count": 99,
   "metadata": {},
   "outputs": [
    {
     "data": {
      "text/plain": [
       "Series([], Name: click_time, dtype: float64)"
      ]
     },
     "execution_count": 99,
     "metadata": {},
     "output_type": "execute_result"
    }
   ],
   "source": [
    "# 按照ip计算距离上次事件的时间间隔\n",
    "timedeltas = clicks.groupby('ip')['click_time'].transform(time_diff)"
   ]
  },
  {
   "cell_type": "code",
   "execution_count": 101,
   "metadata": {},
   "outputs": [
    {
     "data": {
      "text/plain": [
       "0          1309.0\n",
       "1          1309.0\n",
       "2          1309.0\n",
       "3          1309.0\n",
       "4          1309.0\n",
       "            ...  \n",
       "2300556    2820.0\n",
       "2300557      22.0\n",
       "2300558      78.0\n",
       "2300559    1774.0\n",
       "2300560      23.0\n",
       "Name: click_time, Length: 2300561, dtype: float64"
      ]
     },
     "execution_count": 101,
     "metadata": {},
     "output_type": "execute_result"
    }
   ],
   "source": [
    "# 用结果的中位数填补结果中的NaN\n",
    "timedeltas.fillna(timedeltas.median())"
   ]
  },
  {
   "cell_type": "code",
   "execution_count": 96,
   "metadata": {},
   "outputs": [
    {
     "name": "stdout",
     "output_type": "stream",
     "text": [
      "        ip  app  device   os  channel          click_time  \\\n",
      "0    27226    3       1   13      120 2017-11-06 15:13:23   \n",
      "1   110007   35       1   13       10 2017-11-06 15:41:07   \n",
      "2     1047    6       1   13      157 2017-11-06 15:42:32   \n",
      "3    76270    3       1   13      120 2017-11-06 15:56:17   \n",
      "4    57862    3       1   13      120 2017-11-06 15:57:01   \n",
      "5    21781   15       1   13       43 2017-11-06 16:00:00   \n",
      "6    23409   14       1   13      120 2017-11-06 16:00:01   \n",
      "7    94979    2       1   25      166 2017-11-06 16:00:01   \n",
      "8    35644    1       1    8       42 2017-11-06 16:00:01   \n",
      "9    14521    3       1   15       54 2017-11-06 16:00:01   \n",
      "10   26939   63       1   19      157 2017-11-06 16:00:01   \n",
      "11   29415   20       1   13       79 2017-11-06 16:00:01   \n",
      "12   73093   22       1   36       23 2017-11-06 16:00:02   \n",
      "13   25654   12       1   13       75 2017-11-06 16:00:02   \n",
      "14    7408   12       1   10       50 2017-11-06 16:00:02   \n",
      "15    8981    9       1   22       60 2017-11-06 16:00:02   \n",
      "16   13580    3       1   17      125 2017-11-06 16:00:02   \n",
      "17  102269    2       1   19      166 2017-11-06 16:00:02   \n",
      "18   21844  107    1540  218       56 2017-11-06 16:00:02   \n",
      "19   19577   35       1   13       10 2017-11-06 16:00:02   \n",
      "\n",
      "        attributed_time  is_attributed  day  hour  ...   ip_os  ip_channel  \\\n",
      "0                   NaN              0    6    15  ...  496314      681060   \n",
      "1   2017-11-07 08:17:19              1    6    15  ...   39852       57863   \n",
      "2                   NaN              0    6    15  ...   19603       28875   \n",
      "3                   NaN              0    6    15  ...  792039     1140313   \n",
      "4                   NaN              0    6    15  ...  722619     1041993   \n",
      "5                   NaN              0    6    16  ...  362316      494194   \n",
      "6                   NaN              0    6    16  ...  407427      555077   \n",
      "7                   NaN              0    6    16  ...  864855     1244476   \n",
      "8                   NaN              0    6    16  ...  608688      869827   \n",
      "9                   NaN              0    6    16  ...  154312      215899   \n",
      "10                  NaN              0    6    16  ...  492413      674106   \n",
      "11                  NaN              0    6    16  ...  525274      729878   \n",
      "12                  NaN              0    6    16  ...  779788     1123026   \n",
      "13                  NaN              0    6    16  ...  470356      640312   \n",
      "14                  NaN              0    6    16  ...  783374     1127970   \n",
      "15  2017-11-07 10:05:22              1    6    16  ...  844838     1216011   \n",
      "16                  NaN              0    6    16  ...  126346      178548   \n",
      "17                  NaN              0    6    16  ...    9180       13311   \n",
      "18                  NaN              0    6    16  ...  364261      497044   \n",
      "19  2017-11-06 23:40:50              1    6    16  ...  303066      414789   \n",
      "\n",
      "    app_device  app_os  app_channel  device_os  device_channel  os_channel  \\\n",
      "0         3631    4100          675       1229            1890         985   \n",
      "1         3581    3849          625       1229            1867         962   \n",
      "2         4196    5045          787       1229            1928        1018   \n",
      "3         3631    4100          675       1229            1890         985   \n",
      "4         3631    4100          675       1229            1890         985   \n",
      "5         1201    1395          219       1229            1981        1068   \n",
      "6         1177    1191          161       1229            1890         985   \n",
      "7         3474    3488          542       1319            1937        3258   \n",
      "8         3117    2206          350       1371            1980        8834   \n",
      "9         3631    4113          701       1248            1992        1523   \n",
      "10        4165    4875          769       1282            1928        2230   \n",
      "11        3187    2287          376       1229            2019        1101   \n",
      "12        3314    2596          410       1330            1959        4848   \n",
      "13         744     675          103       1229            2015        1098   \n",
      "14         744     653           96       1203            1988         346   \n",
      "15        5203    5851          874       1307            1999        2936   \n",
      "16        3631    4125          676       1266            1895        1854   \n",
      "17        3474    3473          542       1282            1937        2239   \n",
      "18         228     174           21        712            1104        2705   \n",
      "19        3581    3849          625       1229            1867         962   \n",
      "\n",
      "    ip_past_6hr_counts  last_event_time_diff  \n",
      "0                  0.0                1309.0  \n",
      "1                  0.0                1309.0  \n",
      "2                  0.0                1309.0  \n",
      "3                  0.0                1309.0  \n",
      "4                  0.0                1309.0  \n",
      "5                  0.0                1309.0  \n",
      "6                  0.0                1309.0  \n",
      "7                  0.0                1309.0  \n",
      "8                  0.0                1309.0  \n",
      "9                  0.0                1309.0  \n",
      "10                 0.0                1309.0  \n",
      "11                 0.0                1309.0  \n",
      "12                 0.0                1309.0  \n",
      "13                 0.0                1309.0  \n",
      "14                 0.0                1309.0  \n",
      "15                 0.0                1309.0  \n",
      "16                 0.0                1309.0  \n",
      "17                 0.0                1309.0  \n",
      "18                 0.0                1309.0  \n",
      "19                 0.0                1309.0  \n",
      "\n",
      "[20 rows x 24 columns]\n",
      "Training model. Hold on a minute to see the validation score\n",
      "Validation AUC score:0.9651116624672765\n"
     ]
    }
   ],
   "source": [
    "# 读取按照ip计算过的距离上次事件的时间\n",
    "tdf = pd.read_parquet('./datasets/feature-engineering-data/time_deltas.pqt')\n",
    "clicks['last_event_time_diff'] = tdf\n",
    "print(clicks.head(20))\n",
    "train, valid, test = get_data_splits(clicks.join(tdf))\n",
    "_ = train_model(train, valid, test)"
   ]
  },
  {
   "cell_type": "markdown",
   "metadata": {},
   "source": [
    "**4）先前app下载次数（Number of previous app downloads）**\n",
    "\n",
    "可能用户之前下载app的次数，也会影响他们是否会再次下载。\n",
    "\n",
    "pandas的`.expanding`窗口函数与`.rolling`类似，后者是固定窗口大小，前者设置最小的观测数量不固定窗口大小进行累计计算，即不断扩展。"
   ]
  },
  {
   "cell_type": "code",
   "execution_count": 102,
   "metadata": {},
   "outputs": [],
   "source": [
    "def previous_attributions(series):\n",
    "    return series.expanding(min_periods=2).sum() - series"
   ]
  },
  {
   "cell_type": "code",
   "execution_count": 105,
   "metadata": {},
   "outputs": [],
   "source": [
    "# 按照ip统计之前的下载次数\n",
    "downloaddf1 = clicks.groupby('ip')['is_attributed'].transform(previous_attributions)"
   ]
  },
  {
   "cell_type": "code",
   "execution_count": 109,
   "metadata": {},
   "outputs": [
    {
     "data": {
      "text/plain": [
       "0   NaN\n",
       "1   NaN\n",
       "2   NaN\n",
       "3   NaN\n",
       "4   NaN\n",
       "Name: is_attributed, dtype: float64"
      ]
     },
     "execution_count": 109,
     "metadata": {},
     "output_type": "execute_result"
    }
   ],
   "source": [
    "downloaddf1.head()"
   ]
  },
  {
   "cell_type": "code",
   "execution_count": 114,
   "metadata": {},
   "outputs": [
    {
     "data": {
      "text/plain": [
       "count    2.040323e+06\n",
       "mean     3.254254e+01\n",
       "std      1.695861e+02\n",
       "min      0.000000e+00\n",
       "25%      1.000000e+00\n",
       "50%      3.000000e+00\n",
       "75%      1.000000e+01\n",
       "max      2.340000e+03\n",
       "Name: is_attributed, dtype: float64"
      ]
     },
     "execution_count": 114,
     "metadata": {},
     "output_type": "execute_result"
    }
   ],
   "source": [
    "downloaddf1.describe()"
   ]
  },
  {
   "cell_type": "code",
   "execution_count": 115,
   "metadata": {},
   "outputs": [
    {
     "data": {
      "text/plain": [
       "0           1.0\n",
       "1           1.0\n",
       "2           1.0\n",
       "3           1.0\n",
       "4           1.0\n",
       "           ... \n",
       "2300556    29.0\n",
       "2300557    14.0\n",
       "2300558    80.0\n",
       "2300559    11.0\n",
       "2300560     1.0\n",
       "Name: is_attributed, Length: 2300561, dtype: float64"
      ]
     },
     "execution_count": 115,
     "metadata": {},
     "output_type": "execute_result"
    }
   ],
   "source": [
    "# 用固定值1补充NaN\n",
    "downloaddf1.fillna(1.0)"
   ]
  },
  {
   "cell_type": "code",
   "execution_count": 106,
   "metadata": {},
   "outputs": [
    {
     "name": "stdout",
     "output_type": "stream",
     "text": [
      "   previous_downloads\n",
      "0                 1.0\n",
      "1                 1.0\n",
      "2                 1.0\n",
      "3                 1.0\n",
      "4                 1.0\n",
      "Training model. Hold on a minute to see the validation score\n",
      "Validation AUC score:0.9659861415963629\n"
     ]
    }
   ],
   "source": [
    "# 读取按照ip统计过下载app次数\n",
    "pre_downloads = pd.read_parquet('./datasets/feature-engineering-data/downloads.pqt')\n",
    "print(pre_downloads.head())\n",
    "clicks['pre_downloads'] = pre_downloads\n",
    "train, valid, test = get_data_splits(clicks)\n",
    "_ = train_model(train, valid, test)"
   ]
  },
  {
   "cell_type": "markdown",
   "metadata": {},
   "source": [
    "**4、Feature Selection（特征选择）**\n",
    "\n",
    "通常，在对特征进行过各种编码和特征生成处理后会有成百上千的特征。这会导致两种问题：第一，选用的特征越多，训练模型和验证结果时过拟合的可能越大，这会导致模型在新的数据上表现很差；第二，使用的特征越多，训练模型和优化超参使用的时间会越长；另外构建的是面向用户的产品（user-facing products)，想要的是预测尽量的快速；太少的特征，可以很快进行预测，但是会牺牲预测准确性。\n",
    "\n",
    "如下为之前的特征处理和模型训练代码整理："
   ]
  },
  {
   "cell_type": "code",
   "execution_count": 149,
   "metadata": {},
   "outputs": [],
   "source": [
    "%matplotlib inline\n",
    "\n",
    "import itertools\n",
    "import matplotlib.pyplot as plt\n",
    "import numpy as np\n",
    "import pandas as pd\n",
    "import lightgbm as lgb\n",
    "from sklearn.preprocessing import LabelEncoder\n",
    "from sklearn import metrics\n",
    "\n",
    "ks = pd.read_csv('./datasets/kickstarter-projects/ks-projects-201801.csv',\n",
    "                parse_dates=['deadline', 'launched'])\n",
    "# 删除state为‘live’的记录\n",
    "ks = ks.query('state != \"live\"')\n",
    "\n",
    "# 增加列outcome，1表示state为“successful”的记录，其它用0表示\n",
    "ks = ks.assign(outcome=(ks['state']=='successful').astype('int'))\n",
    "\n",
    "# 增加时间特征\n",
    "ks = ks.assign(hour = ks.launched.dt.hour,\n",
    "              day=ks.launched.dt.day,\n",
    "              month=ks.launched.dt.month,\n",
    "              year=ks.launched.dt.year)\n",
    "\n",
    "# label encoding\n",
    "cat_features = ['category', 'currency', 'country']\n",
    "encoder = LabelEncoder()\n",
    "encoded = ks[cat_features].apply(encoder.fit_transform)\n",
    "\n",
    "data_cols = ['goal', 'hour', 'day', 'month', 'year', 'outcome']\n",
    "baseline_data = ks[data_cols].join(encoded)\n",
    "\n",
    "# 生成相互作用特征\n",
    "interactions = pd.DataFrame(index=ks.index)\n",
    "for col1, col2 in itertools.combinations(cat_features, 2):\n",
    "    new_col_name = '_'.join([col1, col2])\n",
    "    # 转换为字符，并连结\n",
    "    new_values = ks[col1].map(str) + '_' + ks[col2].map(str)\n",
    "    label_enc = LabelEncoder()\n",
    "    interactions[new_col_name] = label_enc.fit_transform(new_values)\n",
    "\n",
    "baseline_data=baseline_data.join(interactions)\n",
    "\n",
    "# 生成数值特征\n",
    "# 1（最近7天启动的项目数）\n",
    "launched = pd.Series(ks.index, index=ks.launched, name='count_7_days').sort_index()\n",
    "count_7_days = launched.rolling('7d').count() - 1\n",
    "count_7_days.index = launched.values\n",
    "count_7_days = count_7_days.reindex(ks.index)\n",
    "baseline_data = baseline_data.join(count_7_days)\n",
    "\n",
    "# 2（距离上一个同类项目启动的时间）\n",
    "def time_since_last_project(series):\n",
    "    return series.diff().dt.total_seconds() / 3600\n",
    "\n",
    "df = ks[['category','launched']].sort_values('launched')\n",
    "timedeltas = df.groupby('category').transform(time_since_last_project)\n",
    "timedeltas = timedeltas.fillna(timedeltas.max())\n",
    "baseline_data = baseline_data.join(timedeltas.rename({'launched':'time_since_last_project'}, axis=1))\n",
    "\n",
    "def get_data_splits(dataframe, valid_fraction=0.1):\n",
    "    valid_fraction = 0.1\n",
    "    valid_size = int(len(dataframe) * valid_fraction)\n",
    "\n",
    "    train = dataframe[:-valid_size * 2]\n",
    "    # valid size == test size, last two sections of the data\n",
    "    valid = dataframe[-valid_size * 2:-valid_size]\n",
    "    test = dataframe[-valid_size:]\n",
    "    \n",
    "    return train, valid, test\n",
    "\n",
    "def train_model(train, valid):\n",
    "    feature_cols = train.columns.drop('outcome')\n",
    "\n",
    "    dtrain = lgb.Dataset(train[feature_cols], label=train['outcome'])\n",
    "    dvalid = lgb.Dataset(valid[feature_cols], label=valid['outcome'])\n",
    "\n",
    "    param = {'num_leaves': 64, 'objective': 'binary', \n",
    "             'metric': 'auc', 'seed': 7}\n",
    "    print(\"Training model!\")\n",
    "    bst = lgb.train(param, dtrain, num_boost_round=1000, valid_sets=[dvalid], \n",
    "                    early_stopping_rounds=10, verbose_eval=False)\n",
    "\n",
    "    valid_pred = bst.predict(valid[feature_cols])\n",
    "    valid_score = metrics.roc_auc_score(valid['outcome'], valid_pred)\n",
    "    print(f\"Validation AUC score: {valid_score:.4f}\")\n",
    "    return bst"
   ]
  },
  {
   "cell_type": "markdown",
   "metadata": {},
   "source": [
    "**4.1、单变量特征选择（Univariate Feature Selection）**\n",
    "\n",
    "这种方法是最简单最快速的，基于单变量统计测试（univariate statistical tests）。对于每个特征，使用一种统计测试（statistical test）比如χ^2或者ANOVA，来检测目标对这个特征的依赖强度。\n",
    "\n",
    "`sklearn.feature_selection`包的`SelectKBest`根据指定的计分函数（scoring function）返回K最佳特征（K best features）。对于分类问题，模型提供了三种计分函数：χ^2，ANOVA F-value，和mutual information score（多信息计分）。F-value测量特征变量和目标的线性依存性（linear dependency）。这意味着，如果某个特征和目标的关系不是线性的（nonlinear），它们直接的依赖关系可能会被低估。mutual information score是非参数的并且可以获取非线性的关系。\n",
    "\n",
    "使用`SelectKBest`，指定要保留的特征数量，基于某个计分函数，使用函数`.fit_transform(features, target)`就能得到一个只包含选中的特征的数组。"
   ]
  },
  {
   "cell_type": "code",
   "execution_count": 153,
   "metadata": {
    "scrolled": false
   },
   "outputs": [
    {
     "name": "stdout",
     "output_type": "stream",
     "text": [
      "False\n",
      "True\n"
     ]
    },
    {
     "data": {
      "text/plain": [
       "(array([], dtype=int64), array([], dtype=int64))"
      ]
     },
     "execution_count": 153,
     "metadata": {},
     "output_type": "execute_result"
    }
   ],
   "source": [
    "# 查看数据集是否包含NaN\n",
    "print(np.any(np.isnan(baseline_data)))\n",
    "# 查看数据集是否有无穷大的值\n",
    "print(np.all(np.isfinite(baseline_data)))\n",
    "# 查看NaN值的位置\n",
    "np.where(np.isnan(baseline_data))"
   ]
  },
  {
   "cell_type": "code",
   "execution_count": 154,
   "metadata": {},
   "outputs": [
    {
     "data": {
      "text/plain": [
       "array([[2015.,    5.,    9.,   18., 1409.],\n",
       "       [2017.,   13.,   22.,   31.,  957.],\n",
       "       [2013.,   13.,   22.,   31.,  739.],\n",
       "       ...,\n",
       "       [2010.,   13.,   22.,   31.,  238.],\n",
       "       [2016.,   13.,   22.,   31., 1100.],\n",
       "       [2011.,   13.,   22.,   31.,  542.]])"
      ]
     },
     "execution_count": 154,
     "metadata": {},
     "output_type": "execute_result"
    }
   ],
   "source": [
    "from sklearn.feature_selection import SelectKBest, f_classif\n",
    "\n",
    "feature_cols = baseline_data.columns.drop('outcome')\n",
    "\n",
    "selector = SelectKBest(f_classif, k=5)\n",
    "\n",
    "X_new = selector.fit_transform(baseline_data[feature_cols], baseline_data['outcome'])\n",
    "X_new"
   ]
  },
  {
   "cell_type": "markdown",
   "metadata": {},
   "source": [
    "上面的代码有些错误，统计测试使用了所有的数据。这意味着验证数据集和测试数据集的信息会影响保留的特征，有可能造成数据泄漏。所以，要只从训练数据选择特征。"
   ]
  },
  {
   "cell_type": "code",
   "execution_count": 155,
   "metadata": {},
   "outputs": [
    {
     "data": {
      "text/plain": [
       "array([[2.015e+03, 5.000e+00, 9.000e+00, 1.800e+01, 1.409e+03],\n",
       "       [2.017e+03, 1.300e+01, 2.200e+01, 3.100e+01, 9.570e+02],\n",
       "       [2.013e+03, 1.300e+01, 2.200e+01, 3.100e+01, 7.390e+02],\n",
       "       ...,\n",
       "       [2.011e+03, 1.300e+01, 2.200e+01, 3.100e+01, 5.150e+02],\n",
       "       [2.015e+03, 1.000e+00, 3.000e+00, 2.000e+00, 1.306e+03],\n",
       "       [2.013e+03, 1.300e+01, 2.200e+01, 3.100e+01, 1.084e+03]])"
      ]
     },
     "execution_count": 155,
     "metadata": {},
     "output_type": "execute_result"
    }
   ],
   "source": [
    "feature_cols = baseline_data.columns.drop('outcome')\n",
    "train, valid, _ = get_data_splits(baseline_data)\n",
    "\n",
    "selector = SelectKBest(f_classif, k=5)\n",
    "\n",
    "X_new = selector.fit_transform(train[feature_cols], train['outcome'])\n",
    "X_new"
   ]
  },
  {
   "cell_type": "markdown",
   "metadata": {},
   "source": [
    "有了选择出来的特征，但是只有特征值，需要获取列名。使用`.inverse_transform`函数可以将这些特征值转换为与源数据相同的形状。"
   ]
  },
  {
   "cell_type": "code",
   "execution_count": 158,
   "metadata": {
    "scrolled": true
   },
   "outputs": [
    {
     "data": {
      "text/html": [
       "<div>\n",
       "<style scoped>\n",
       "    .dataframe tbody tr th:only-of-type {\n",
       "        vertical-align: middle;\n",
       "    }\n",
       "\n",
       "    .dataframe tbody tr th {\n",
       "        vertical-align: top;\n",
       "    }\n",
       "\n",
       "    .dataframe thead th {\n",
       "        text-align: right;\n",
       "    }\n",
       "</style>\n",
       "<table border=\"1\" class=\"dataframe\">\n",
       "  <thead>\n",
       "    <tr style=\"text-align: right;\">\n",
       "      <th></th>\n",
       "      <th>goal</th>\n",
       "      <th>hour</th>\n",
       "      <th>day</th>\n",
       "      <th>month</th>\n",
       "      <th>year</th>\n",
       "      <th>category</th>\n",
       "      <th>currency</th>\n",
       "      <th>country</th>\n",
       "      <th>category_currency</th>\n",
       "      <th>category_country</th>\n",
       "      <th>currency_country</th>\n",
       "      <th>count_7_days</th>\n",
       "      <th>time_since_last_project</th>\n",
       "    </tr>\n",
       "  </thead>\n",
       "  <tbody>\n",
       "    <tr>\n",
       "      <th>0</th>\n",
       "      <td>0.0</td>\n",
       "      <td>0.0</td>\n",
       "      <td>0.0</td>\n",
       "      <td>0.0</td>\n",
       "      <td>2015.0</td>\n",
       "      <td>0.0</td>\n",
       "      <td>5.0</td>\n",
       "      <td>9.0</td>\n",
       "      <td>0.0</td>\n",
       "      <td>0.0</td>\n",
       "      <td>18.0</td>\n",
       "      <td>1409.0</td>\n",
       "      <td>0.0</td>\n",
       "    </tr>\n",
       "    <tr>\n",
       "      <th>1</th>\n",
       "      <td>0.0</td>\n",
       "      <td>0.0</td>\n",
       "      <td>0.0</td>\n",
       "      <td>0.0</td>\n",
       "      <td>2017.0</td>\n",
       "      <td>0.0</td>\n",
       "      <td>13.0</td>\n",
       "      <td>22.0</td>\n",
       "      <td>0.0</td>\n",
       "      <td>0.0</td>\n",
       "      <td>31.0</td>\n",
       "      <td>957.0</td>\n",
       "      <td>0.0</td>\n",
       "    </tr>\n",
       "    <tr>\n",
       "      <th>2</th>\n",
       "      <td>0.0</td>\n",
       "      <td>0.0</td>\n",
       "      <td>0.0</td>\n",
       "      <td>0.0</td>\n",
       "      <td>2013.0</td>\n",
       "      <td>0.0</td>\n",
       "      <td>13.0</td>\n",
       "      <td>22.0</td>\n",
       "      <td>0.0</td>\n",
       "      <td>0.0</td>\n",
       "      <td>31.0</td>\n",
       "      <td>739.0</td>\n",
       "      <td>0.0</td>\n",
       "    </tr>\n",
       "    <tr>\n",
       "      <th>3</th>\n",
       "      <td>0.0</td>\n",
       "      <td>0.0</td>\n",
       "      <td>0.0</td>\n",
       "      <td>0.0</td>\n",
       "      <td>2012.0</td>\n",
       "      <td>0.0</td>\n",
       "      <td>13.0</td>\n",
       "      <td>22.0</td>\n",
       "      <td>0.0</td>\n",
       "      <td>0.0</td>\n",
       "      <td>31.0</td>\n",
       "      <td>907.0</td>\n",
       "      <td>0.0</td>\n",
       "    </tr>\n",
       "    <tr>\n",
       "      <th>4</th>\n",
       "      <td>0.0</td>\n",
       "      <td>0.0</td>\n",
       "      <td>0.0</td>\n",
       "      <td>0.0</td>\n",
       "      <td>2015.0</td>\n",
       "      <td>0.0</td>\n",
       "      <td>13.0</td>\n",
       "      <td>22.0</td>\n",
       "      <td>0.0</td>\n",
       "      <td>0.0</td>\n",
       "      <td>31.0</td>\n",
       "      <td>1429.0</td>\n",
       "      <td>0.0</td>\n",
       "    </tr>\n",
       "  </tbody>\n",
       "</table>\n",
       "</div>"
      ],
      "text/plain": [
       "   goal  hour  day  month    year  category  currency  country  \\\n",
       "0   0.0   0.0  0.0    0.0  2015.0       0.0       5.0      9.0   \n",
       "1   0.0   0.0  0.0    0.0  2017.0       0.0      13.0     22.0   \n",
       "2   0.0   0.0  0.0    0.0  2013.0       0.0      13.0     22.0   \n",
       "3   0.0   0.0  0.0    0.0  2012.0       0.0      13.0     22.0   \n",
       "4   0.0   0.0  0.0    0.0  2015.0       0.0      13.0     22.0   \n",
       "\n",
       "   category_currency  category_country  currency_country  count_7_days  \\\n",
       "0                0.0               0.0              18.0        1409.0   \n",
       "1                0.0               0.0              31.0         957.0   \n",
       "2                0.0               0.0              31.0         739.0   \n",
       "3                0.0               0.0              31.0         907.0   \n",
       "4                0.0               0.0              31.0        1429.0   \n",
       "\n",
       "   time_since_last_project  \n",
       "0                      0.0  \n",
       "1                      0.0  \n",
       "2                      0.0  \n",
       "3                      0.0  \n",
       "4                      0.0  "
      ]
     },
     "execution_count": 158,
     "metadata": {},
     "output_type": "execute_result"
    }
   ],
   "source": [
    "selected_features = pd.DataFrame(selector.inverse_transform(X_new), \n",
    "                                 index=train.index, \n",
    "                                 columns=feature_cols)\n",
    "selected_features.head()"
   ]
  },
  {
   "cell_type": "markdown",
   "metadata": {},
   "source": [
    "返回的DataFrame中所有值都是0的列是被删除的列，所以这里面被删除的列的方差是0。可以通过选择方差不是0的特征来查找筛选的特征列。"
   ]
  },
  {
   "cell_type": "code",
   "execution_count": 160,
   "metadata": {},
   "outputs": [
    {
     "data": {
      "text/plain": [
       "goal                       False\n",
       "hour                       False\n",
       "day                        False\n",
       "month                      False\n",
       "year                        True\n",
       "category                   False\n",
       "currency                    True\n",
       "country                     True\n",
       "category_currency          False\n",
       "category_country           False\n",
       "currency_country            True\n",
       "count_7_days                True\n",
       "time_since_last_project    False\n",
       "dtype: bool"
      ]
     },
     "execution_count": 160,
     "metadata": {},
     "output_type": "execute_result"
    }
   ],
   "source": [
    "selected_features.var() != 0"
   ]
  },
  {
   "cell_type": "code",
   "execution_count": 161,
   "metadata": {},
   "outputs": [
    {
     "data": {
      "text/html": [
       "<div>\n",
       "<style scoped>\n",
       "    .dataframe tbody tr th:only-of-type {\n",
       "        vertical-align: middle;\n",
       "    }\n",
       "\n",
       "    .dataframe tbody tr th {\n",
       "        vertical-align: top;\n",
       "    }\n",
       "\n",
       "    .dataframe thead th {\n",
       "        text-align: right;\n",
       "    }\n",
       "</style>\n",
       "<table border=\"1\" class=\"dataframe\">\n",
       "  <thead>\n",
       "    <tr style=\"text-align: right;\">\n",
       "      <th></th>\n",
       "      <th>year</th>\n",
       "      <th>currency</th>\n",
       "      <th>country</th>\n",
       "      <th>currency_country</th>\n",
       "      <th>count_7_days</th>\n",
       "    </tr>\n",
       "  </thead>\n",
       "  <tbody>\n",
       "    <tr>\n",
       "      <th>302896</th>\n",
       "      <td>2015</td>\n",
       "      <td>13</td>\n",
       "      <td>22</td>\n",
       "      <td>31</td>\n",
       "      <td>1534.0</td>\n",
       "    </tr>\n",
       "    <tr>\n",
       "      <th>302897</th>\n",
       "      <td>2013</td>\n",
       "      <td>13</td>\n",
       "      <td>22</td>\n",
       "      <td>31</td>\n",
       "      <td>625.0</td>\n",
       "    </tr>\n",
       "    <tr>\n",
       "      <th>302898</th>\n",
       "      <td>2014</td>\n",
       "      <td>5</td>\n",
       "      <td>9</td>\n",
       "      <td>18</td>\n",
       "      <td>851.0</td>\n",
       "    </tr>\n",
       "    <tr>\n",
       "      <th>302899</th>\n",
       "      <td>2014</td>\n",
       "      <td>13</td>\n",
       "      <td>22</td>\n",
       "      <td>31</td>\n",
       "      <td>1973.0</td>\n",
       "    </tr>\n",
       "    <tr>\n",
       "      <th>302900</th>\n",
       "      <td>2014</td>\n",
       "      <td>5</td>\n",
       "      <td>9</td>\n",
       "      <td>18</td>\n",
       "      <td>2163.0</td>\n",
       "    </tr>\n",
       "  </tbody>\n",
       "</table>\n",
       "</div>"
      ],
      "text/plain": [
       "        year  currency  country  currency_country  count_7_days\n",
       "302896  2015        13       22                31        1534.0\n",
       "302897  2013        13       22                31         625.0\n",
       "302898  2014         5        9                18         851.0\n",
       "302899  2014        13       22                31        1973.0\n",
       "302900  2014         5        9                18        2163.0"
      ]
     },
     "execution_count": 161,
     "metadata": {},
     "output_type": "execute_result"
    }
   ],
   "source": [
    "selected_columns = selected_features.columns[selected_features.var() != 0]\n",
    "valid[selected_columns].head()"
   ]
  },
  {
   "cell_type": "markdown",
   "metadata": {},
   "source": [
    "**4.2、L1正则化（L1 regularization）**\n",
    "\n",
    "单变量特征选择这种方法在决定特征的选择时一次只考虑一个特征。通过使用L1正则化把所有特征包括到一个线性模型中，可以使用所有特征进行选择。L2（Ridge，岭）回归，L1正则化（有时叫做Lasso）\n",
    "\n",
    "随着正则化的增加，对预测目标比较不重要的特征被设置为0，那么就可以通过调整正则化参数来执行特征选择。通过找到在预留的数据集上的最佳表现来选择参数，也可以首先决定要保留的参数的个数。\n",
    "\n",
    "对于回归问题，可以使用`sklearn.linear_model.Lasso`，对于分类问题可以使用`sklearn.linear_model.LogisticRegression`。这些模型可以和`sklearn.feature_selection.SelectFromModel`一起使用来选择非零系数。"
   ]
  },
  {
   "cell_type": "code",
   "execution_count": 162,
   "metadata": {
    "scrolled": true
   },
   "outputs": [
    {
     "name": "stderr",
     "output_type": "stream",
     "text": [
      "c:\\program files\\python\\lib\\site-packages\\sklearn\\linear_model\\logistic.py:432: FutureWarning: Default solver will be changed to 'lbfgs' in 0.22. Specify a solver to silence this warning.\n",
      "  FutureWarning)\n"
     ]
    },
    {
     "data": {
      "text/plain": [
       "array([[1.000e+03, 1.200e+01, 1.100e+01, ..., 1.900e+03, 1.800e+01,\n",
       "        1.409e+03],\n",
       "       [3.000e+04, 4.000e+00, 2.000e+00, ..., 1.630e+03, 3.100e+01,\n",
       "        9.570e+02],\n",
       "       [4.500e+04, 0.000e+00, 1.200e+01, ..., 1.630e+03, 3.100e+01,\n",
       "        7.390e+02],\n",
       "       ...,\n",
       "       [2.500e+03, 0.000e+00, 3.000e+00, ..., 1.830e+03, 3.100e+01,\n",
       "        5.150e+02],\n",
       "       [2.600e+03, 2.100e+01, 2.300e+01, ..., 1.036e+03, 2.000e+00,\n",
       "        1.306e+03],\n",
       "       [2.000e+04, 1.600e+01, 4.000e+00, ..., 9.200e+02, 3.100e+01,\n",
       "        1.084e+03]])"
      ]
     },
     "execution_count": 162,
     "metadata": {},
     "output_type": "execute_result"
    }
   ],
   "source": [
    "from sklearn.linear_model import LogisticRegression\n",
    "from sklearn.feature_selection import SelectFromModel\n",
    "\n",
    "train, valid, _ = get_data_splits(baseline_data)\n",
    "\n",
    "X, y = train[train.columns.drop(\"outcome\")], train['outcome']\n",
    "\n",
    "logistic = LogisticRegression(C=1, penalty=\"l1\", random_state=7).fit(X, y)\n",
    "model = SelectFromModel(logistic, prefit=True)\n",
    "\n",
    "X_new = model.transform(X)\n",
    "X_new"
   ]
  },
  {
   "cell_type": "code",
   "execution_count": 163,
   "metadata": {
    "scrolled": true
   },
   "outputs": [
    {
     "data": {
      "text/plain": [
       "Index(['goal', 'hour', 'day', 'month', 'year', 'category', 'currency',\n",
       "       'country', 'category_currency', 'category_country', 'currency_country',\n",
       "       'count_7_days'],\n",
       "      dtype='object')"
      ]
     },
     "execution_count": 163,
     "metadata": {},
     "output_type": "execute_result"
    }
   ],
   "source": [
    "# 获取选择的特征列的方法和单变量特征选择类似\n",
    "selected_features = pd.DataFrame(model.inverse_transform(X_new), \n",
    "                                 index=X.index,\n",
    "                                 columns=X.columns)\n",
    "\n",
    "selected_columns = selected_features.columns[selected_features.var() != 0]\n",
    "selected_columns"
   ]
  },
  {
   "cell_type": "markdown",
   "metadata": {},
   "source": [
    "使用`C=1`的L1正则化，只删除了列`time_since_last_project`\n",
    "\n",
    "通常，使用L1正则化进行特征选择比单变量测试更加有用，但是当特征非常多数据也非常多的时候会很慢。单变量测试在大型数据集上处理比较快，但是结果可能比较差。"
   ]
  },
  {
   "cell_type": "code",
   "execution_count": 170,
   "metadata": {},
   "outputs": [
    {
     "name": "stdout",
     "output_type": "stream",
     "text": [
      "./datasets/feature-engineering-data/count_encodings.pqt\n",
      "\n",
      "./datasets/feature-engineering-data/catboost_encodings.pqt\n",
      "\n",
      "./datasets/feature-engineering-data/interactions.pqt\n",
      "\n",
      "./datasets/feature-engineering-data/past_6hr_events.pqt\n",
      "\n",
      "./datasets/feature-engineering-data/downloads.pqt\n",
      "\n",
      "./datasets/feature-engineering-data/time_deltas.pqt\n",
      "\n",
      "./datasets/feature-engineering-data/svd_encodings.pqt\n",
      "\n"
     ]
    }
   ],
   "source": [
    "data_files = ['count_encodings.pqt',\n",
    "              'catboost_encodings.pqt',\n",
    "              'interactions.pqt',\n",
    "              'past_6hr_events.pqt',\n",
    "              'downloads.pqt',\n",
    "              'time_deltas.pqt',\n",
    "              'svd_encodings.pqt']\n",
    "data_root = './datasets/feature-engineering-data'\n",
    "for file in data_files:\n",
    "    print(data_root + '/'+ file+'\\n')"
   ]
  },
  {
   "cell_type": "code",
   "execution_count": 172,
   "metadata": {},
   "outputs": [
    {
     "name": "stdout",
     "output_type": "stream",
     "text": [
      "Training model!\n",
      "Validation AUC score: 0.9658334271834417\n"
     ]
    }
   ],
   "source": [
    "# 特征选择----例2\n",
    "clicks = pd.read_parquet('./datasets/feature-engineering-data/baseline_data.pqt')\n",
    "data_files = ['count_encodings.pqt',\n",
    "              'catboost_encodings.pqt',\n",
    "              'interactions.pqt',\n",
    "              'past_6hr_events.pqt',\n",
    "              'downloads.pqt',\n",
    "              'time_deltas.pqt',\n",
    "              'svd_encodings.pqt']\n",
    "data_root = './datasets/feature-engineering-data'\n",
    "for file in data_files:\n",
    "    features = pd.read_parquet(data_root + '/' + file)\n",
    "    clicks = clicks.join(features)\n",
    "\n",
    "def get_data_splits(dataframe, valid_fraction=0.1):\n",
    "\n",
    "    dataframe = dataframe.sort_values('click_time')\n",
    "    valid_rows = int(len(dataframe) * valid_fraction)\n",
    "    train = dataframe[:-valid_rows * 2]\n",
    "    # valid size == test size, last two sections of the data\n",
    "    valid = dataframe[-valid_rows * 2:-valid_rows]\n",
    "    test = dataframe[-valid_rows:]\n",
    "    \n",
    "    return train, valid, test\n",
    "\n",
    "def train_model(train, valid, test=None, feature_cols=None):\n",
    "    if feature_cols is None:\n",
    "        feature_cols = train.columns.drop(['click_time', 'attributed_time',\n",
    "                                           'is_attributed'])\n",
    "    dtrain = lgb.Dataset(train[feature_cols], label=train['is_attributed'])\n",
    "    dvalid = lgb.Dataset(valid[feature_cols], label=valid['is_attributed'])\n",
    "    \n",
    "    param = {'num_leaves': 64, 'objective': 'binary', \n",
    "             'metric': 'auc', 'seed': 7}\n",
    "    num_round = 1000\n",
    "    print(\"Training model!\")\n",
    "    bst = lgb.train(param, dtrain, num_round, valid_sets=[dvalid], \n",
    "                    early_stopping_rounds=20, verbose_eval=False)\n",
    "    \n",
    "    valid_pred = bst.predict(valid[feature_cols])\n",
    "    valid_score = metrics.roc_auc_score(valid['is_attributed'], valid_pred)\n",
    "    print(f\"Validation AUC score: {valid_score}\")\n",
    "    \n",
    "    if test is not None: \n",
    "        test_pred = bst.predict(test[feature_cols])\n",
    "        test_score = metrics.roc_auc_score(test['is_attributed'], test_pred)\n",
    "        return bst, valid_score, test_score\n",
    "    else:\n",
    "        return bst, valid_score\n",
    "\n",
    "# 训练基准模型\n",
    "train, valid, test = get_data_splits(clicks)\n",
    "_, baseline_score, _ = train_model(train, valid, test)"
   ]
  },
  {
   "cell_type": "code",
   "execution_count": 173,
   "metadata": {},
   "outputs": [
    {
     "data": {
      "text/plain": [
       "94"
      ]
     },
     "execution_count": 173,
     "metadata": {},
     "output_type": "execute_result"
    }
   ],
   "source": [
    "len(train.columns)"
   ]
  },
  {
   "cell_type": "code",
   "execution_count": 176,
   "metadata": {},
   "outputs": [
    {
     "name": "stdout",
     "output_type": "stream",
     "text": [
      "Training model!\n",
      "Validation AUC score: 0.9625481759576047\n"
     ]
    }
   ],
   "source": [
    "# 特征列，移除不作为特征的列\n",
    "feature_cols = clicks.columns.drop(['click_time', 'attributed_time', 'is_attributed'])\n",
    "train, valid, test = get_data_splits(clicks)\n",
    "\n",
    "# 单变量特征选择（Univariate feature selection）\n",
    "# 使用f_classif计分函数用SelectKBest，选择保留40个特征\n",
    "selector = SelectKBest(f_classif, k=40)\n",
    "# 训练并转化特征\n",
    "X_new = selector.fit_transform(train[feature_cols], train['is_attributed'])\n",
    "# 将训练转化结果逆转为DataFrame\n",
    "inverseFeaDf = pd.DataFrame(selector.inverse_transform(X_new),\n",
    "                        index = train.index,\n",
    "                        columns = feature_cols)\n",
    "# 逆转结果中方差为0的列为删除的特征列\n",
    "dropped_columns = inverseFeaDf.columns[inverseFeaDf.var() == 0]\n",
    "\n",
    "_ = train_model(train.drop(dropped_columns, axis=1), \n",
    "                valid.drop(dropped_columns, axis=1),\n",
    "                test.drop(dropped_columns, axis=1))"
   ]
  },
  {
   "cell_type": "markdown",
   "metadata": {},
   "source": [
    "通过单变量特征选择选择了40个特征后，模型验证得分降低了！这里K值影响了结果，要找到最佳的K值，一种简单的方法是循环增加K值并训练模型，在验证得分和训练速度直接进行权衡。"
   ]
  },
  {
   "cell_type": "code",
   "execution_count": 186,
   "metadata": {},
   "outputs": [
    {
     "data": {
      "text/plain": [
       "51"
      ]
     },
     "execution_count": 186,
     "metadata": {},
     "output_type": "execute_result"
    }
   ],
   "source": [
    "len(dropped_columns)"
   ]
  },
  {
   "cell_type": "code",
   "execution_count": 179,
   "metadata": {},
   "outputs": [
    {
     "data": {
      "text/plain": [
       "(1840449, 94)"
      ]
     },
     "execution_count": 179,
     "metadata": {},
     "output_type": "execute_result"
    }
   ],
   "source": [
    "train.shape"
   ]
  },
  {
   "cell_type": "code",
   "execution_count": 182,
   "metadata": {},
   "outputs": [
    {
     "name": "stderr",
     "output_type": "stream",
     "text": [
      "c:\\program files\\python\\lib\\site-packages\\sklearn\\linear_model\\logistic.py:432: FutureWarning: Default solver will be changed to 'lbfgs' in 0.22. Specify a solver to silence this warning.\n",
      "  FutureWarning)\n"
     ]
    }
   ],
   "source": [
    "# 使用L1正则化来进行特征选择\n",
    "def select_features_l1(X, y):\n",
    "    logistic = LogisticRegression(C=1, penalty='l1',random_state=7).fit(X, y)\n",
    "    model = SelectFromModel(logistic, prefit=True)\n",
    "    \n",
    "    X_new = model.transform(X)\n",
    "    inverseFeaDf = pd.DataFrame(model.inverse_transform(X_new),\n",
    "                               index=X.index,\n",
    "                               columns=X.columns)\n",
    "    selected_cols = inverseFeaDf.columns[inverseFeaDf.var() != 0]\n",
    "    return selected_cols\n",
    "\n",
    "sel_cols = select_features_l1(train[feature_cols], train['is_attributed'])"
   ]
  },
  {
   "cell_type": "markdown",
   "metadata": {},
   "source": [
    "数据量大，L1正则化貌似运行时很耗内存、`C=0.1`跑不动的感觉……，改为`C=1`跑了近两个小时\n",
    "\n",
    "使用L1正则化进行模型选择是不能简单的指定保留的特征的个数的。如果要保留一定数量的特征，需要找到结果为某个数量特征时的正则化参数。可以从小到大遍历不同正则化参数，并选择达到预期特征个数时的正则化参数。注意，对于scikit-learn模型`C`越小正则化越强。\n",
    "\n",
    "如果使用的是基于树的模型，使用另一个基于树的模型进行特征选择可能会更好。可以使用像`RandmonForestClassifier`或者`ExtraTreesClassifier`这些模型来找出特征的重要性，`SelectFromModel`能使用这些特征重要性找出最佳的特征。"
   ]
  },
  {
   "cell_type": "code",
   "execution_count": 185,
   "metadata": {},
   "outputs": [
    {
     "data": {
      "text/plain": [
       "73"
      ]
     },
     "execution_count": 185,
     "metadata": {},
     "output_type": "execute_result"
    }
   ],
   "source": [
    "len(sel_cols)"
   ]
  },
  {
   "cell_type": "code",
   "execution_count": 209,
   "metadata": {},
   "outputs": [],
   "source": [
    "# 将sel_cols（pandas Index）转换为Python数组\n",
    "colary = [x for x in sel_cols.values.flat]"
   ]
  },
  {
   "cell_type": "code",
   "execution_count": 212,
   "metadata": {},
   "outputs": [],
   "source": [
    "# 加入目标列\n",
    "colary.append('is_attributed')"
   ]
  },
  {
   "cell_type": "code",
   "execution_count": 213,
   "metadata": {},
   "outputs": [
    {
     "data": {
      "text/plain": [
       "['ip',\n",
       " 'app',\n",
       " 'device',\n",
       " 'os',\n",
       " 'channel',\n",
       " 'day',\n",
       " 'hour',\n",
       " 'minute',\n",
       " 'second',\n",
       " 'ip_count',\n",
       " 'channel_count',\n",
       " 'app_cb',\n",
       " 'device_cb',\n",
       " 'os_cb',\n",
       " 'channel_cb',\n",
       " 'app_device',\n",
       " 'app_os',\n",
       " 'app_channel',\n",
       " 'device_os',\n",
       " 'device_channel',\n",
       " 'ip_past_6hr_counts',\n",
       " 'previous_downloads',\n",
       " 'device_app_svd_0',\n",
       " 'device_app_svd_1',\n",
       " 'device_app_svd_2',\n",
       " 'os_app_svd_0',\n",
       " 'os_app_svd_1',\n",
       " 'os_app_svd_2',\n",
       " 'os_app_svd_3',\n",
       " 'os_app_svd_4',\n",
       " 'channel_app_svd_0',\n",
       " 'channel_app_svd_1',\n",
       " 'channel_app_svd_2',\n",
       " 'channel_app_svd_3',\n",
       " 'channel_app_svd_4',\n",
       " 'app_device_svd_0',\n",
       " 'app_device_svd_1',\n",
       " 'app_device_svd_2',\n",
       " 'app_device_svd_3',\n",
       " 'app_device_svd_4',\n",
       " 'os_device_svd_0',\n",
       " 'os_device_svd_1',\n",
       " 'os_device_svd_2',\n",
       " 'channel_device_svd_0',\n",
       " 'channel_device_svd_1',\n",
       " 'channel_device_svd_2',\n",
       " 'channel_device_svd_3',\n",
       " 'channel_device_svd_4',\n",
       " 'app_os_svd_0',\n",
       " 'app_os_svd_1',\n",
       " 'app_os_svd_2',\n",
       " 'app_os_svd_3',\n",
       " 'app_os_svd_4',\n",
       " 'device_os_svd_0',\n",
       " 'device_os_svd_1',\n",
       " 'device_os_svd_2',\n",
       " 'channel_os_svd_0',\n",
       " 'channel_os_svd_1',\n",
       " 'channel_os_svd_2',\n",
       " 'channel_os_svd_3',\n",
       " 'channel_os_svd_4',\n",
       " 'app_channel_svd_0',\n",
       " 'app_channel_svd_1',\n",
       " 'app_channel_svd_2',\n",
       " 'app_channel_svd_3',\n",
       " 'app_channel_svd_4',\n",
       " 'device_channel_svd_0',\n",
       " 'device_channel_svd_2',\n",
       " 'os_channel_svd_0',\n",
       " 'os_channel_svd_1',\n",
       " 'os_channel_svd_2',\n",
       " 'os_channel_svd_3',\n",
       " 'os_channel_svd_4',\n",
       " 'is_attributed']"
      ]
     },
     "execution_count": 213,
     "metadata": {},
     "output_type": "execute_result"
    }
   ],
   "source": [
    "colary"
   ]
  },
  {
   "cell_type": "code",
   "execution_count": 214,
   "metadata": {},
   "outputs": [],
   "source": [
    "s_train = train[colary]\n",
    "s_valid = valid[colary]\n",
    "s_test = test[colary]"
   ]
  },
  {
   "cell_type": "code",
   "execution_count": 215,
   "metadata": {},
   "outputs": [
    {
     "name": "stdout",
     "output_type": "stream",
     "text": [
      "Training model!\n",
      "Validation AUC score: 0.9658599744660195\n"
     ]
    }
   ],
   "source": [
    "# 训练模型，验证\n",
    "bst, valid_score, test_score = train_model(s_train, s_valid, s_test, feature_cols=sel_cols)"
   ]
  }
 ],
 "metadata": {
  "kernelspec": {
   "display_name": "Python 3",
   "language": "python",
   "name": "python3"
  },
  "language_info": {
   "codemirror_mode": {
    "name": "ipython",
    "version": 3
   },
   "file_extension": ".py",
   "mimetype": "text/x-python",
   "name": "python",
   "nbconvert_exporter": "python",
   "pygments_lexer": "ipython3",
   "version": "3.6.6"
  }
 },
 "nbformat": 4,
 "nbformat_minor": 2
}
