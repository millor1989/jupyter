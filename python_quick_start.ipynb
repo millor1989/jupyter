{
 "cells": [
  {
   "cell_type": "markdown",
   "metadata": {},
   "source": [
    "- 笔记来源：http://www.newthinktank.com/2019/08/learn-python-one-video/"
   ]
  },
  {
   "cell_type": "code",
   "execution_count": null,
   "metadata": {},
   "outputs": [],
   "source": [
    "# 交换两个变量的值（很神奇的哇）\n",
    "a=10\n",
    "b=9\n",
    "a,b=b,a\n",
    "print(a,b)"
   ]
  },
  {
   "cell_type": "code",
   "execution_count": 1,
   "metadata": {},
   "outputs": [
    {
     "name": "stdout",
     "output_type": "stream",
     "text": [
      "hello, world\n"
     ]
    }
   ],
   "source": [
    "# ----- INTRO -----\n",
    "# Python文件后缀是“.py”\n",
    "# 打印到控制台\n",
    "# Python语句由换行符终结\n",
    "print(\"hello, world\")"
   ]
  },
  {
   "cell_type": "code",
   "execution_count": 2,
   "metadata": {},
   "outputs": [
    {
     "name": "stdout",
     "output_type": "stream",
     "text": [
      "What is your nameB.K.\n"
     ]
    }
   ],
   "source": [
    "import sys\n",
    "# 获取用户输入，并保存到一个变量中\n",
    "name = input(\"What is your name\")"
   ]
  },
  {
   "cell_type": "code",
   "execution_count": 3,
   "metadata": {},
   "outputs": [
    {
     "name": "stdout",
     "output_type": "stream",
     "text": [
      "Hi  B.K.\n"
     ]
    }
   ],
   "source": [
    "print(\"Hi \", name)"
   ]
  },
  {
   "cell_type": "code",
   "execution_count": 5,
   "metadata": {},
   "outputs": [
    {
     "name": "stdout",
     "output_type": "stream",
     "text": [
      "6\n"
     ]
    }
   ],
   "source": [
    "# 如果要把一条语句扩展到多行，需要使用括号或者“\\”\n",
    "v1 = (\n",
    "    1+2\n",
    "    +3\n",
    ")\n",
    "print(v1)"
   ]
  },
  {
   "cell_type": "code",
   "execution_count": 8,
   "metadata": {},
   "outputs": [
    {
     "name": "stdout",
     "output_type": "stream",
     "text": [
      "7\n"
     ]
    }
   ],
   "source": [
    "v1 = 1 + 2 \\\n",
    " +4\n",
    "print(v1)"
   ]
  },
  {
   "cell_type": "code",
   "execution_count": 9,
   "metadata": {},
   "outputs": [
    {
     "name": "stdout",
     "output_type": "stream",
     "text": [
      "6\n"
     ]
    }
   ],
   "source": [
    "#多个语句放在同一行时，要使用“;”分隔语句\n",
    "v1=8;v1=v1-2\n",
    "print(v1)"
   ]
  },
  {
   "cell_type": "code",
   "execution_count": 10,
   "metadata": {},
   "outputs": [
    {
     "name": "stdout",
     "output_type": "stream",
     "text": [
      "20\n",
      "20\n"
     ]
    }
   ],
   "source": [
    "\"\"\"\n",
    "多行的\n",
    "注释\n",
    "\"\"\"\n",
    "# ----- VARIABLES -----\n",
    "# 变量名必须是字母或者下划线开头，并且只能是字母、数字、下划线的组合；变量名是大小写敏感的\n",
    "V2=1\n",
    "v2=2 #v2和V2是不同的\n",
    "\n",
    "# 一次为多个变量赋值\n",
    "v3 = v4 = 20\n",
    "print(v3)\n",
    "print(v4)"
   ]
  },
  {
   "cell_type": "code",
   "execution_count": 11,
   "metadata": {},
   "outputs": [
    {
     "name": "stdout",
     "output_type": "stream",
     "text": [
      "<class 'int'>\n"
     ]
    }
   ],
   "source": [
    "# ----- DATA TYPES -----\n",
    "# Python中的数据是动态类型的，并且数据类型可以改变\n",
    "# 所有的数据都是一个对象\n",
    "# 基本类型是integers, floats, complex numbers, strings, booleans\n",
    "# Python 没有字符（char）类型\n",
    "\n",
    "# 获取类型的方法\n",
    "print(type(10))"
   ]
  },
  {
   "cell_type": "code",
   "execution_count": 12,
   "metadata": {},
   "outputs": [
    {
     "name": "stdout",
     "output_type": "stream",
     "text": [
      "9223372036854775807\n",
      "1.7976931348623157e+308\n"
     ]
    }
   ],
   "source": [
    "# 整数没有最大值限制\n",
    "# 获取可以使用的最大值（practical max size）的方法是：\n",
    "print(sys.maxsize)\n",
    "\n",
    "# Float是有精度的值\n",
    "# 获取最大的float：\n",
    "print(sys.float_info.max)"
   ]
  },
  {
   "cell_type": "code",
   "execution_count": 13,
   "metadata": {},
   "outputs": [
    {
     "name": "stdout",
     "output_type": "stream",
     "text": [
      "2.2222222222222223\n"
     ]
    }
   ],
   "source": [
    "# Float的最大精度是15个小数，超过15个小数，会出现错误\n",
    "f1 = 1.1111111111111111\n",
    "f2 = 1.1111111111111111\n",
    "f3 = f1 + f2\n",
    "print(f3)"
   ]
  },
  {
   "cell_type": "code",
   "execution_count": 15,
   "metadata": {},
   "outputs": [
    {
     "name": "stdout",
     "output_type": "stream",
     "text": [
      "(5+6j)\n"
     ]
    }
   ],
   "source": [
    "# complex numbers（复数）是[实部(real part)] + [虚部（imaginary part）]组成的\n",
    "cn1 = 5 + 6j\n",
    "print(cn1)"
   ]
  },
  {
   "cell_type": "code",
   "execution_count": 17,
   "metadata": {},
   "outputs": [
    {
     "name": "stdout",
     "output_type": "stream",
     "text": [
      "Escape Sequence ' \t \" \\ and \n",
      "\n",
      "Triple quoted Strings can contain ' and \"\n"
     ]
    }
   ],
   "source": [
    "# Boolean值是True或者False\n",
    "b1 = True\n",
    "# 字符串由单引号或者双引号包括\n",
    "str1 = \"Escape Sequence \\' \\t \\\" \\\\ and \\n\"\n",
    "print(str1)\n",
    "\n",
    "str2 = '''Triple quoted Strings can contain ' and \"'''\n",
    "print(str2)"
   ]
  },
  {
   "cell_type": "code",
   "execution_count": 19,
   "metadata": {},
   "outputs": [
    {
     "name": "stdout",
     "output_type": "stream",
     "text": [
      "Cast  <class 'int'>\n",
      "5\n",
      "Cast 2  <class 'str'>\n",
      "5.4\n",
      "Cast 3  <class 'str'>\n",
      "a\n",
      "Cast 4  <class 'int'>\n",
      "97\n"
     ]
    }
   ],
   "source": [
    "# 类型转换\n",
    "print(\"Cast \", type(int(5.4)))  # to int\n",
    "print(int(5.4))\n",
    "print(\"Cast 2 \", type(str(5.4)))  # to string\n",
    "print(str(5.4))\n",
    "print(\"Cast 3 \", type(chr(97)))  # to string\n",
    "print(chr(97))\n",
    "print(\"Cast 4 \", type(ord('a')))  # to int\n",
    "print(ord('a'))"
   ]
  },
  {
   "cell_type": "code",
   "execution_count": 22,
   "metadata": {},
   "outputs": [
    {
     "name": "stdout",
     "output_type": "stream",
     "text": [
      "12/21/1974\n",
      "No Newline\n",
      "\n",
      "14d Derek 1.23 A\n",
      "5 + 2 = 7\n",
      "5 - 2 = 3\n",
      "5 * 2 = 10\n",
      "5 / 2 = 2.5\n",
      "5 % 2 = 1\n",
      "5 ** 2 = 25\n",
      "5 // 2 = 2\n",
      "i1  3\n",
      "i2  11\n"
     ]
    }
   ],
   "source": [
    "# ----- OUTPUT -----\n",
    "# 可以自定义输出分隔符\n",
    "print(12, 21, 1974, sep='/')\n",
    "\n",
    "# 消除换行符\n",
    "print(\"No Newline\", sep='')\n",
    "\n",
    "# 字符串格式化，指数使用‘%e’\n",
    "print(\"\\n%o4d %s %.2f %c\" % (1, \"Derek\", 1.234, 'A'))\n",
    "\n",
    "# ----- MATH -----\n",
    "print(\"5 + 2 =\", 5 + 2)\n",
    "print(\"5 - 2 =\", 5 - 2)\n",
    "print(\"5 * 2 =\", 5 * 2)\n",
    "print(\"5 / 2 =\", 5 / 2)\n",
    "print(\"5 % 2 =\", 5 % 2)\n",
    "print(\"5 ** 2 =\", 5 ** 2)\n",
    "print(\"5 // 2 =\", 5 // 2)\n",
    "\n",
    "# Shortcuts\n",
    "i1 = 2\n",
    "i1 += 1\n",
    "print(\"i1 \", i1)\n",
    "\n",
    "i2 = 22\n",
    "i2 -= 11\n",
    "print(\"i2 \", i2)"
   ]
  },
  {
   "cell_type": "code",
   "execution_count": 25,
   "metadata": {},
   "outputs": [
    {
     "name": "stdout",
     "output_type": "stream",
     "text": [
      "abs(-1)  1\n",
      "max(5, 4)  5\n",
      "min(5, 4)  4\n",
      "pow(2, 2)  4\n",
      "ceil(4.5)  5\n",
      "floor(4.5)  4\n",
      "round(4.5)  4\n",
      "exp(1)  2.718281828459045\n",
      "log(e)  1.0\n",
      "log(100, 10)  2.0\n",
      "sqrt(100)  10.0\n",
      "sin(0)  0.0\n",
      "cos(0)  1.0\n",
      "tan(0)  0.0\n",
      "asin(0)  0.0\n",
      "acos(0)  1.5707963267948966\n",
      "atan(0)  0.0\n",
      "sinh(0)  0.0\n",
      "cosh(0)  1.0\n",
      "tanh(0)  0.0\n",
      "asinh(0)  0.0\n",
      "acosh(pi)  1.811526272460853\n",
      "atanh(0)  0.0\n",
      "hypot(0)  14.142135623730951\n",
      "radians(0)  0.0\n",
      "degrees(pi)  180.0\n"
     ]
    }
   ],
   "source": [
    "# 算术运算函数\n",
    "import math\n",
    "print(\"abs(-1) \", abs(-1)) # 绝对值\n",
    "print(\"max(5, 4) \", max(5, 4))\n",
    "print(\"min(5, 4) \", min(5, 4))\n",
    "# 指数\n",
    "print(\"pow(2, 2) \", pow(2, 2))\n",
    "# 向上取整\n",
    "print(\"ceil(4.5) \", math.ceil(4.5))\n",
    "# 向下取整\n",
    "print(\"floor(4.5) \", math.floor(4.5))\n",
    "#取整\n",
    "print(\"round(4.5) \", round(4.5))\n",
    "# e的指数\n",
    "print(\"exp(1) \", math.exp(1))  # e**x\n",
    "# 底数为e的对数\n",
    "print(\"log(e) \", math.log(math.exp(1)))\n",
    "# 底数为10的对数\n",
    "print(\"log(100, 10) \", math.log(100, 10))  # Base 10 Log\n",
    "# 开方\n",
    "print(\"sqrt(100) \", math.sqrt(100))\n",
    "# 正弦\n",
    "print(\"sin(0) \", math.sin(0))\n",
    "# 余弦\n",
    "print(\"cos(0) \", math.cos(0))\n",
    "# 正切\n",
    "print(\"tan(0) \", math.tan(0))\n",
    "print(\"asin(0) \", math.asin(0))\n",
    "print(\"acos(0) \", math.acos(0))\n",
    "print(\"atan(0) \", math.atan(0))\n",
    "print(\"sinh(0) \", math.sinh(0))\n",
    "print(\"cosh(0) \", math.cosh(0))\n",
    "print(\"tanh(0) \", math.tanh(0))\n",
    "print(\"asinh(0) \", math.asinh(0))\n",
    "print(\"acosh(pi) \", math.acosh(math.pi))\n",
    "print(\"atanh(0) \", math.atanh(0))\n",
    "print(\"hypot(0) \", math.hypot(10, 10))  # sqrt(x*x + y*y)\n",
    "print(\"radians(0) \", math.radians(0))\n",
    "# 角度数\n",
    "print(\"degrees(pi) \", math.degrees(math.pi))"
   ]
  },
  {
   "cell_type": "code",
   "execution_count": 65,
   "metadata": {},
   "outputs": [
    {
     "name": "stdout",
     "output_type": "stream",
     "text": [
      "round4.6 5\n",
      "round54.5 54\n",
      "round5.5 6\n",
      "round5.45 5.5\n",
      "round5.55 5.5\n",
      "round4.55 4.5\n",
      "round5.565 5.6\n",
      "round2.675 2.67\n",
      "四舍五入保留两位的一种简洁方法：\n",
      "((x*100+0.5)//1)/100 2.68\n"
     ]
    }
   ],
   "source": [
    "''' 需要注意的是，Python3中的round不是四舍五入，\n",
    "而是四舍六入五成偶（并且，这个规则是针对真正存储在计算机中的值而不字母值——设计计算机存储小数时的精确性问题），\n",
    "如果小数点为.5，则返回结果是距离最近的偶数\n",
    "'''\n",
    "####所以：：：有精度要求的地方，用Decimal模块 ###\n",
    "print(\"round4.6\",round(4.6))\n",
    "print(\"round54.5\",round(54.5))\n",
    "print(\"round5.5\",round(5.5))\n",
    "print(\"round5.45\",round(5.45, 1))\n",
    "print(\"round5.55\",round(5.55, 1))\n",
    "print(\"round4.55\",round(4.55, 1))\n",
    "print(\"round5.565\",round(5.565, 1))\n",
    "\n",
    "print(\"round2.675\",round(2.675, 2))\n",
    "# 如果要四舍五入\n",
    "#((x*100+0.5)//1)/100\n",
    "print(\"四舍五入保留两位的一种简洁方法：\\n((x*100+0.5)//1)/100\",((2.675*100+0.5)//1)/100)"
   ]
  },
  {
   "cell_type": "code",
   "execution_count": 40,
   "metadata": {},
   "outputs": [
    {
     "name": "stdout",
     "output_type": "stream",
     "text": [
      "Random 32\n"
     ]
    }
   ],
   "source": [
    "# 产生随机数\n",
    "import random\n",
    "print(\"Random\", random.randint(1,101))"
   ]
  },
  {
   "cell_type": "code",
   "execution_count": 69,
   "metadata": {},
   "outputs": [
    {
     "name": "stdout",
     "output_type": "stream",
     "text": [
      "28\n",
      "3.1415926\n",
      "3.14159260000000006840537025709636509418487548828125\n",
      "3.14159260000000006840537025709636509418487548828125\n",
      "4\n",
      "ROUND_HALF_EVEN\n",
      "4.142\n",
      "Context(prec=28, rounding=ROUND_HALF_EVEN, Emin=-999999, Emax=999999, capitals=1, clamp=0, flags=[Inexact, FloatOperation, Rounded], traps=[InvalidOperation, DivisionByZero, Overflow])\n",
      "2.675\n",
      "2.68\n"
     ]
    }
   ],
   "source": [
    "\n",
    "'''如果要精确计算小数，\n",
    "一定要全程使用Decimal'''\n",
    "\n",
    "from decimal import *\n",
    "dc = decimal.getcontext()\n",
    "print(dc.prec)\n",
    "d1 = decimal.Decimal('3.1415926')\n",
    "print(d1)\n",
    "## 不要给Decimal传浮点数，浮点数本身可能存在无法精确存储的问题\n",
    "print(Decimal(3.1415926))\n",
    "print(Decimal.from_float(3.1415926))\n",
    "# 设置全局精度\n",
    "dc.prec = 4\n",
    "print(dc.prec)\n",
    "print(dc.rounding)# ROUND_HALF_EVEN :四舍六入五成偶\n",
    "print(d1 + 1)\n",
    "# 恢复默认\n",
    "dc.prec = 28\n",
    "print(dc)\n",
    "d2 = Decimal('2.675')\n",
    "print(d2)\n",
    "# 用Decimal四舍五入保留小数的方法\n",
    "d3 = d2.quantize(Decimal('0.00'), rounding = ROUND_HALF_UP)\n",
    "print(d3)\n"
   ]
  },
  {
   "cell_type": "code",
   "execution_count": 71,
   "metadata": {},
   "outputs": [
    {
     "name": "stdout",
     "output_type": "stream",
     "text": [
      "True\n",
      "nan\n"
     ]
    }
   ],
   "source": [
    "# ----- NaN & inf -----\n",
    "# inf 指的是无穷大\n",
    "print(math.inf > 0)\n",
    "\n",
    "# NaN用来指代无法定义的数值\n",
    "print(math.inf - math.inf)"
   ]
  },
  {
   "cell_type": "code",
   "execution_count": 72,
   "metadata": {},
   "outputs": [
    {
     "name": "stdout",
     "output_type": "stream",
     "text": [
      "You can drive a tractor trailer\n",
      "College\n",
      "True\n"
     ]
    }
   ],
   "source": [
    "# ----- CONDITIONALS -----\n",
    "# 比较操作符：< > <= >= == !=\n",
    "\n",
    "# if else & elif\n",
    "age = 30\n",
    "if age > 21:\n",
    "    # Python用缩进来定义之前条件为True时，所有需要执行的代码\n",
    "    print(\"You can drive a tractor trailer\")\n",
    "elif age >= 16:\n",
    "    print(\"You can drive a car\")\n",
    "else:\n",
    "    print(\"You can't drive\")\n",
    "\n",
    "# 逻辑操作符：and / or / not\n",
    "if age < 5:\n",
    "    print(\"Stay Home\")\n",
    "elif (age >= 5) and (age <= 6):\n",
    "    print(\"Kindergarten\")\n",
    "elif (age > 6) and (age <= 17):\n",
    "    print(\"Grade %d\", (age - 5))\n",
    "else:\n",
    "    print(\"College\")\n",
    "\n",
    "# Python中的三目运算\n",
    "canVote = True if age >= 18 else False\n",
    "print(canVote)"
   ]
  },
  {
   "cell_type": "code",
   "execution_count": 4,
   "metadata": {},
   "outputs": [
    {
     "data": {
      "text/plain": [
       "True"
      ]
     },
     "execution_count": 4,
     "metadata": {},
     "output_type": "execute_result"
    }
   ],
   "source": [
    "# 逻辑运算符 and 优先级比 or 优先级高，not 比and优先级高\n",
    "True or True or False"
   ]
  },
  {
   "cell_type": "code",
   "execution_count": 9,
   "metadata": {},
   "outputs": [
    {
     "data": {
      "text/plain": [
       "False"
      ]
     },
     "execution_count": 9,
     "metadata": {},
     "output_type": "execute_result"
    }
   ],
   "source": [
    "True and not True"
   ]
  },
  {
   "cell_type": "code",
   "execution_count": 10,
   "metadata": {
    "scrolled": true
   },
   "outputs": [
    {
     "name": "stdout",
     "output_type": "stream",
     "text": [
      "True\n",
      "False\n",
      "True\n",
      "False\n"
     ]
    }
   ],
   "source": [
    "# BOOL转换bool()\n",
    "print(bool(1)) # all numbers are treated as true, except 0\n",
    "print(bool(0))\n",
    "print(bool(\"asf\")) # all strings are treated as true, except the empty string \"\"\n",
    "print(bool(\"\"))\n",
    "# Generally empty sequences (strings, lists, and other types we've yet to see like lists and tuples)\n",
    "# are \"falsey\" and the rest are \"truthy\"\n",
    "\n",
    "if 0:\n",
    "    print(0)\n",
    "elif \"spam\":\n",
    "    print(\"spam\")"
   ]
  },
  {
   "cell_type": "code",
   "execution_count": 11,
   "metadata": {},
   "outputs": [
    {
     "data": {
      "text/plain": [
       "1"
      ]
     },
     "execution_count": 11,
     "metadata": {},
     "output_type": "execute_result"
    }
   ],
   "source": [
    "# Bool转化为int int()\n",
    "# 使用boolean值进行数学运算时，Python会隐式的将boolean值转换为int值\n",
    "a = True\n",
    "b = False\n",
    "c = False\n",
    "a+b+c"
   ]
  },
  {
   "cell_type": "code",
   "execution_count": 16,
   "metadata": {},
   "outputs": [
    {
     "name": "stdout",
     "output_type": "stream",
     "text": [
      "0\n",
      "3.0\n",
      "<built-in method bit_length of int object at 0x000000005D3F6D80>\n",
      "4\n"
     ]
    }
   ],
   "source": [
    "# ----对象\n",
    "# Python中一切都是对象，对象带有属性和方法\n",
    "# Python中的数值是一个拥有一个属性`imag`的对象\n",
    "x = 12\n",
    "# x 是一个实数（real number），所以它的虚部(imaginary)是0.\n",
    "print(x.imag)\n",
    "# 定义一个复数（complex number）\n",
    "c = 12 + 3j\n",
    "print(c.imag)\n",
    "\n",
    "print(x.bit_length)\n",
    "print(x.bit_length())"
   ]
  },
  {
   "cell_type": "code",
   "execution_count": 76,
   "metadata": {
    "scrolled": false
   },
   "outputs": [
    {
     "name": "stdout",
     "output_type": "stream",
     "text": [
      "I'll be ignored \\n\n",
      "Hello You\n",
      "Length  9\n",
      "1st  H\n",
      "Last  u\n",
      "1st 3  Hel\n",
      "Every Other  HloY\n",
      "Goodbye You\n",
      "Goodbye you\n",
      "True\n",
      "False\n",
      "You Index  8\n",
      "Hello\n",
      "Some Words\n",
      "['A', 'string']\n",
      "5 + 5 = 10\n",
      "a string\n",
      "A STRING\n",
      "True\n",
      "True\n",
      "False\n"
     ]
    }
   ],
   "source": [
    "# ----- STRINGS -----\n",
    "# 字符串可以被当作是字符的序列，可以像操作List一样操作字符串\n",
    "# 但是字符串是不可变的，不能修改其中的某个字符\n",
    "# 忽略转义字符的原始字符串\n",
    "# 转义字符反斜线“\\”\n",
    "print(r\"I'll be ignored \\n\")\n",
    "\n",
    "# + 字符串连接符\n",
    "print(\"Hello \" + \"You\")\n",
    "\n",
    "# len 获取字符串长度\n",
    "str3 = \"Hello You\"\n",
    "print(\"Length \", len(str3))\n",
    "\n",
    "# 获取字符串某个索引位置的字符\n",
    "print(\"1st \", str3[0])\n",
    "\n",
    "# 最后一个字符\n",
    "print(\"Last \", str3[-1])\n",
    "\n",
    "# 前三个字符，区间[:]为前闭后开区间\n",
    "print(\"1st 3 \", str3[0:3])\n",
    "\n",
    "# Get every other character\n",
    "# 不懂这是嘛意思？\n",
    "print(\"Every Other \", str3[0:-1:2]) # Last is a step\n",
    "\n",
    "# 字符串是不可变的，不能通过 str3[0] = \"a\"来改变字符串\n",
    "# 如果要改变字符串：\n",
    "str3 = str3.replace(\"Hello\", \"Goodbye\")\n",
    "print(str3)\n",
    "\n",
    "str3 = str3[:8] + \"y\" + str3[9:]\n",
    "print(str3)\n",
    "\n",
    "\n",
    "# 测试字符串是否包含字符串\n",
    "print(\"you\" in str3)\n",
    "# 测试字符串是否不包含字符串\n",
    "print(\"you\" not in str3)\n",
    "\n",
    "# 获取第一个匹配字符串的索引，不匹配则返回-1\n",
    "print(\"You Index \", str3.find(\"you\"))\n",
    "\n",
    "# 去除空格 还有lstrip和rstrip\n",
    "print(\"    Hello    \".strip())\n",
    "\n",
    "# 用空格作为分隔符，拼接集合的内容\n",
    "print(\" \".join([\"Some\", \"Words\"]))\n",
    "\n",
    "# 用分隔符或占位符把字符串切分为一个集合\n",
    "print(\"A, string\".split(\", \"))\n",
    "\n",
    "# 使用f-string格式化输出\n",
    "int1 = int2 = 5\n",
    "print(f'{int1} + {int2} = {int1 + int2}')\n",
    "\n",
    "# 字符串大小写转换\n",
    "print(\"A String\".lower())\n",
    "print(\"A String\".upper())\n",
    "\n",
    "# 是字母或者数字\n",
    "print(\"abc123\".isalnum())\n",
    "\n",
    "# 是字符\n",
    "print(\"abc\".isalpha())\n",
    "\n",
    "# 是数字\n",
    "print(\"abc\".isdigit())"
   ]
  },
  {
   "cell_type": "code",
   "execution_count": 20,
   "metadata": {},
   "outputs": [
    {
     "name": "stdout",
     "output_type": "stream",
     "text": [
      "hello\n",
      "world\n",
      "hello\n",
      "world\n"
     ]
    },
    {
     "data": {
      "text/plain": [
       "True"
      ]
     },
     "execution_count": 20,
     "metadata": {},
     "output_type": "execute_result"
    }
   ],
   "source": [
    "hello = \"hello\\nworld\"\n",
    "print(hello)\n",
    "# 可以使用三个双引号给字符串赋值\n",
    "triplequoted_hello = \"\"\"hello\n",
    "world\"\"\"\n",
    "print(triplequoted_hello)\n",
    "triplequoted_hello == hello"
   ]
  },
  {
   "cell_type": "code",
   "execution_count": 78,
   "metadata": {},
   "outputs": [
    {
     "name": "stdout",
     "output_type": "stream",
     "text": [
      "Length  4\n",
      "1st 1\n",
      "Last True\n",
      "l2 [3.14, 9, 'Bob', False, 'Egg', 4]\n",
      "[1, 1] 4\n",
      "1 Exists False\n",
      "Min  1\n",
      "Max  3\n",
      "[2, 3.14, 'Paul', 9, 'Bob', False]\n",
      "1st 2 [2, 3.14]\n",
      "Every Other  [2, 'Paul', 'Bob']\n",
      "Reverse  [False, 'Bob', 9, 'Paul', 3.14, 2]\n"
     ]
    }
   ],
   "source": [
    "# ----- LIST -----\n",
    "# 集合可以包含多种类型的数据，甚至是函数\n",
    "l1 = [1, 3.14, \"Derek\", True]\n",
    "\n",
    "# 集合长度\n",
    "print(\"Length \", len(l1))\n",
    "\n",
    "# 用索引取元素\n",
    "print(\"1st\", l1[0])\n",
    "print(\"Last\", l1[-1])\n",
    "\n",
    "# 改变指定元素\n",
    "l1[0] = 2\n",
    "\n",
    "# 改变多个元素\n",
    "l1[2:4] = [\"Bob\", False]\n",
    "\n",
    "# 在某个索引位置插入元素，而且不删除元素\n",
    "#  l1.insert(2, \"Paul\")，也可以\n",
    "l1[2:2] = [\"Paul\", 9]\n",
    "\n",
    "# 末尾追加元素\n",
    "# l1.extend([5, 6])，作用相同\n",
    "l2 = l1 + [\"Egg\", 4]\n",
    "\n",
    "# 删除指定元素\n",
    "l2.remove(\"Paul\")\n",
    "\n",
    "# 删除指定索引元素\n",
    "l2.pop(0)\n",
    "print(\"l2\", l2)\n",
    "\n",
    "# 往开头部分追加元素\n",
    "# l1.append([5, 6])，也可以\n",
    "l2 = [\"Egg\", 4] + l1\n",
    "\n",
    "# 多维度的集合\n",
    "l3 = [[1, 2], [3, 4]]\n",
    "print(\"[1, 1]\", l3[1][1])\n",
    "\n",
    "# 元素是否存在于集合中\n",
    "print(\"1 Exists\", (1 in l1))\n",
    "\n",
    "# 集合中的最大、最小值\n",
    "print(\"Min \", min([1, 2, 3]))\n",
    "print(\"Max \", max([1, 2, 3]))\n",
    "\n",
    "# 获取集合的一部分\n",
    "print(l1)\n",
    "print(\"1st 2\", l1[0:2])\n",
    "print(\"Every Other \", l1[0:-1:2])\n",
    "print(\"Reverse \", l1[::-1])"
   ]
  },
  {
   "cell_type": "code",
   "execution_count": 87,
   "metadata": {},
   "outputs": [
    {
     "name": "stdout",
     "output_type": "stream",
     "text": [
      "1\n",
      "2\n",
      "3\n",
      "4\n",
      "0\n",
      "2\n",
      "4\n",
      "6\n",
      "8\n",
      "1\n",
      "3.14\n",
      "Derek\n",
      "True\n",
      "0  1  2  3  4  5  6  7  8  9  \n",
      "\n",
      "1\n",
      "3.14\n",
      "Derek\n",
      "True\n",
      "2\n",
      "4\n",
      "6\n",
      "[1, 2, 3]\n",
      "[10, 20, 30]\n",
      "[100, 200, 300]\n"
     ]
    }
   ],
   "source": [
    "# ----- LOOPS -----\n",
    "# While : Execute while condition is True\n",
    "w1 = 1\n",
    "while w1 < 5:\n",
    "    print(w1)\n",
    "    w1 += 1\n",
    "\n",
    "w2 = 0\n",
    "while w2 <= 20:\n",
    "    if w2 % 2 == 0:\n",
    "        print(w2)\n",
    "    elif w2 == 9:\n",
    "        # Forces the loop to end all together\n",
    "        break\n",
    "    else:\n",
    "        # Shorthand for i = i + 1\n",
    "        w2 += 1\n",
    "        # Skips to the next iteration of the loop\n",
    "        continue\n",
    "    w2 += 1\n",
    "\n",
    "# Cycle through list\n",
    "l4 = [1, 3.14, \"Derek\", True]\n",
    "while len(l4):\n",
    "    print(l4.pop(0))\n",
    "\n",
    "# For Loop\n",
    "# Allows you to perform an action a set number of times\n",
    "# Range performs the action 10 times 0 - 9\n",
    "# end=\"\" eliminates newline\n",
    "for x in range(0, 10):\n",
    "    print(x, ' ', end=\"\")\n",
    "print('\\n')\n",
    " \n",
    "# Cycle through list\n",
    "l4 = [1, 3.14, \"Derek\", True]\n",
    "for x in l4:\n",
    "    print(x)\n",
    "\n",
    "# You can also define a list of numbers to\n",
    "# cycle through\n",
    "for x in [2, 4, 6]:\n",
    "    print(x)\n",
    "\n",
    "# You can double up for loops to cycle through lists\n",
    "num_list = [[1, 2, 3], [10, 20, 30], [100, 200, 300]]\n",
    "for x in num_list:\n",
    "    print(x)"
   ]
  },
  {
   "cell_type": "code",
   "execution_count": 89,
   "metadata": {},
   "outputs": [
    {
     "name": "stdout",
     "output_type": "stream",
     "text": [
      "6\n"
     ]
    }
   ],
   "source": [
    "# ----- ITERATORS -----\n",
    "# You can pass an object to iter() which returns\n",
    "# an iterator which allows you to cycle\n",
    "l5 = [6, 9, 12]\n",
    "itr = iter(l5)\n",
    "print(next(itr))  # Grab next value"
   ]
  },
  {
   "cell_type": "code",
   "execution_count": 90,
   "metadata": {},
   "outputs": [
    {
     "name": "stdout",
     "output_type": "stream",
     "text": [
      "[0, 1, 2, 3, 4]\n",
      "[0, 2, 4, 6, 8]\n",
      "1\n",
      "2\n",
      "3\n",
      "10\n",
      "20\n",
      "30\n",
      "100\n",
      "200\n",
      "300\n"
     ]
    }
   ],
   "source": [
    "# ----- RANGES -----\n",
    "# The range() function creates integer iterables\n",
    "print(list(range(0, 5)))\n",
    " \n",
    "# You can define step\n",
    "print(list(range(0, 10, 2)))\n",
    " \n",
    "for x in range(0, 3):\n",
    "    for y in range(0, 3):\n",
    "        print(num_list[x][y])"
   ]
  },
  {
   "cell_type": "code",
   "execution_count": 17,
   "metadata": {},
   "outputs": [
    {
     "data": {
      "text/plain": [
       "(1, 8)"
      ]
     },
     "execution_count": 17,
     "metadata": {},
     "output_type": "execute_result"
    }
   ],
   "source": [
    "x = 0.125\n",
    "x.as_integer_ratio()"
   ]
  },
  {
   "cell_type": "code",
   "execution_count": 19,
   "metadata": {},
   "outputs": [
    {
     "name": "stdout",
     "output_type": "stream",
     "text": [
      "1 8\n"
     ]
    }
   ],
   "source": [
    "numerator, denominator = x.as_integer_ratio()\n",
    "print(numerator, denominator)"
   ]
  },
  {
   "cell_type": "code",
   "execution_count": 95,
   "metadata": {
    "scrolled": true
   },
   "outputs": [
    {
     "name": "stdout",
     "output_type": "stream",
     "text": [
      "Length  4\n",
      "1st 1\n",
      "Last False\n",
      "1st 2 (1, 3.14)\n",
      "Every Other  (1, 'Derek')\n",
      "Reverse  (False, 'Derek', 3.14, 1)\n",
      "Length 2\n",
      "Clark Kent\n",
      "[('Superman', 'Clark Kent'), ('Batman', 'Bruce Wayne'), ('Flash', 'Barry Allen')]\n",
      "['Superman', 'Batman', 'Flash']\n",
      "['Clark Kent', 'Bruce Wayne', 'Barry Allen']\n",
      "Bruce Wayne\n",
      "True\n",
      "{'Superman': 'Clark Kent'}\n",
      "Superman\n",
      "Superman\n",
      "Clark Kent\n",
      "Bread costs $0.88\n"
     ]
    }
   ],
   "source": [
    "# ----- TUPLES -----\n",
    "# Tuples与集合类似，但是，它们是不可变的，不能修改Tuples\n",
    "# Tuples经常用于有多个返回值的函数比如as_integer_ratio函数\n",
    "t1 = (1, 3.14, \"Derek\", False)\n",
    " \n",
    "# Get length\n",
    "print(\"Length \", len(t1))\n",
    " \n",
    "# Get value / values\n",
    "print(\"1st\", t1[0])\n",
    "print(\"Last\", t1[-1])\n",
    "print(\"1st 2\", t1[0:2])\n",
    "print(\"Every Other \", t1[0:-1:2])\n",
    "print(\"Reverse \", t1[::-1])\n",
    "\n",
    " \n",
    "# ----- DICTIONARIES -----\n",
    "# Dictionaries 是键值对的集合\n",
    "# 键和值可以是任何数据类型，可以混合存在\n",
    "# 不允许重复的键\n",
    "# 像List一样支持推导式（comprehensions）\n",
    "heroes = {\n",
    "    \"Superman\": \"Clark Kent\",\n",
    "    \"Batman\": \"Bruce Wayne\"\n",
    "}\n",
    " \n",
    "villains = dict([\n",
    "    (\"Lex Luthor\", \"Lex Luthor\"),\n",
    "    (\"Loki\", \"Loki\")\n",
    "])\n",
    " \n",
    "print(\"Length\", len(heroes))\n",
    " \n",
    "# Get value by key\n",
    "# Also heroes.get(\"Superman\")\n",
    "print(heroes[\"Superman\"])\n",
    " \n",
    "# 增加元素\n",
    "heroes[\"Flash\"] = \"Barry Allan\"\n",
    " \n",
    "# 改变值\n",
    "heroes[\"Flash\"] = \"Barry Allen\"\n",
    " \n",
    "# 获取键值组成的Tuple的集合\n",
    "print(list(heroes.items()))\n",
    " \n",
    "# 获取键、值的集合\n",
    "print(list(heroes.keys()))\n",
    "print(list(heroes.values()))\n",
    " \n",
    "# 按键删除\n",
    "del heroes[\"Flash\"]\n",
    " \n",
    "# 移除键并返回它的值\n",
    "print(heroes.pop(\"Batman\"))\n",
    " \n",
    "# Search for key\n",
    "print(\"Superman\" in heroes)\n",
    "\n",
    "print(heroes)\n",
    "\n",
    "# 直接循环字典与直接循环字典的键一样\n",
    "for k in heroes:\n",
    "    print(k)\n",
    "for k in heroes.keys():\n",
    "    print(k)\n",
    "\n",
    "# 循环字典的值\n",
    "for v in heroes.values():\n",
    "    print(v)\n",
    "\n",
    "# Formatted print with dictionary mapping\n",
    "d1 = {\"name\": \"Bread\", \"price\": .88}\n",
    "print(\"%(name)s costs $%(price).2f\" % d1)"
   ]
  },
  {
   "cell_type": "code",
   "execution_count": 2,
   "metadata": {},
   "outputs": [
    {
     "name": "stdout",
     "output_type": "stream",
     "text": [
      "{'a': 1, 'b': 2, 'c': 3}\n"
     ]
    }
   ],
   "source": [
    "keys = ['a','b','c']\n",
    "values = [1,2,3]\n",
    "dkv = dict(zip(keys, values))\n",
    "print(dkv)"
   ]
  },
  {
   "cell_type": "code",
   "execution_count": 101,
   "metadata": {},
   "outputs": [
    {
     "name": "stdout",
     "output_type": "stream",
     "text": [
      "9\n",
      "10\n",
      "6 7\n",
      "3 * 5 = 15\n",
      "0\n",
      "4\n",
      "8\n",
      "12\n",
      "16\n"
     ]
    }
   ],
   "source": [
    "# ----- FUNCTIONS -----\n",
    "# 使用函数可以重用、组织代码\n",
    "# 可以通过函数注解定义函数的数据类型和默认值\n",
    "# 求两个整数的和，整数的默认值是1\n",
    "def get_sum(num1: int = 1, num2: int = 1):\n",
    "    return num1 + num2\n",
    "print(get_sum(5, 4))\n",
    "\n",
    "# 接收可变（多个）参数\n",
    "def get_sum2(*args):\n",
    "    sum = 0\n",
    "    for arg in args:\n",
    "        sum += arg\n",
    "    return sum\n",
    "print(get_sum2(1, 2, 3, 4))\n",
    "\n",
    "# 返回多个值\n",
    "def next_2(num):\n",
    "    return num + 1, num + 2\n",
    "i1, i2 = next_2(5)\n",
    "print(i1, i2)\n",
    "\n",
    "# 函数可以返回一个函数\n",
    "# 用给定的值乘以函数？其实相当于是两个参数\n",
    "def mult_by(num):\n",
    "    # 可以用lambda创建匿名函数\n",
    "    return lambda x: x * num\n",
    "print(\"3 * 5 =\", (mult_by(3)(5)))\n",
    "\n",
    "# 把函数作为参数\n",
    "def mult_list(list, func):\n",
    "    for x in list:\n",
    "        print(func(x))\n",
    "mult_by_4 = mult_by(4)\n",
    "mult_list(list(range(0, 5)), mult_by_4)\n",
    "\n",
    "# 创建一个函数组成的集合\n",
    "power_list = [lambda x: x ** 2,\n",
    "             lambda x: x ** 3,\n",
    "             lambda x: x ** 4]"
   ]
  },
  {
   "cell_type": "code",
   "execution_count": 3,
   "metadata": {},
   "outputs": [
    {
     "name": "stdout",
     "output_type": "stream",
     "text": [
      "5\n",
      "25\n"
     ]
    }
   ],
   "source": [
    "# 高阶函数（higher order functions）——对函数进行操作的函数\n",
    "\n",
    "def mult_by_five(x):\n",
    "    return 5 * x\n",
    "\n",
    "def call(fn, arg):\n",
    "    return fn(arg)\n",
    "\n",
    "def squared_call(fn, arg):\n",
    "    return fn(fn(arg))\n",
    "\n",
    "print(\n",
    "    call(mult_by_five, 1),\n",
    "    squared_call(mult_by_five, 1), \n",
    "    sep='\\n', \n",
    ")"
   ]
  },
  {
   "cell_type": "code",
   "execution_count": 102,
   "metadata": {},
   "outputs": [
    {
     "name": "stdout",
     "output_type": "stream",
     "text": [
      "[2, 4, 6, 8]\n"
     ]
    }
   ],
   "source": [
    "# ----- MAP -----\n",
    "# 使用Map对集合执行一个函数\n",
    "one_to_4 = range(1, 5)\n",
    "times2 = lambda x: x * 2\n",
    "print(list(map(times2, one_to_4)))"
   ]
  },
  {
   "cell_type": "code",
   "execution_count": 103,
   "metadata": {},
   "outputs": [
    {
     "name": "stdout",
     "output_type": "stream",
     "text": [
      "[2, 4, 6, 8, 10]\n"
     ]
    }
   ],
   "source": [
    "# ----- FILTER -----\n",
    "# Filter根据函数选择集合的元素\n",
    "# Print out the even values from a list\n",
    "print(list(filter((lambda x: x % 2 == 0), range(1, 11))))"
   ]
  },
  {
   "cell_type": "code",
   "execution_count": 106,
   "metadata": {},
   "outputs": [
    {
     "name": "stdout",
     "output_type": "stream",
     "text": [
      "15\n"
     ]
    }
   ],
   "source": [
    "from functools import reduce\n",
    "# ----- REDUCE -----\n",
    "# Reduce 接收一个集合返回一个结果\n",
    "# Add up the values in a list\n",
    "print(reduce((lambda x, y: x + y), range(1, 6)))"
   ]
  },
  {
   "cell_type": "code",
   "execution_count": 107,
   "metadata": {},
   "outputs": [
    {
     "name": "stdout",
     "output_type": "stream",
     "text": [
      "Please enter a number : a\n",
      "You didn't enter a number\n",
      "Please enter a number : 33\n",
      "Thank you for entering a number\n"
     ]
    }
   ],
   "source": [
    "# ----- EXCEPTION HANDLING -----\n",
    "# 可以处理可能导致程序异常的错误\n",
    "# By giving the while a value of True it will\n",
    "# cycle until a break is reached\n",
    "while True:\n",
    " \n",
    "    # If we expect an error can occur surround\n",
    "    # potential error with try\n",
    "    try:\n",
    "        number = int(input(\"Please enter a number : \"))\n",
    "        break\n",
    " \n",
    "    # The code in the except block provides\n",
    "    # an error message to set things right\n",
    "    # We can either target a specific error\n",
    "    # like ValueError\n",
    "    except ValueError:\n",
    "        print(\"You didn't enter a number\")\n",
    " \n",
    "    # We can target all other errors with a\n",
    "    # default\n",
    "    except:\n",
    "        print(\"An unknown error occurred\")\n",
    "\n",
    "print(\"Thank you for entering a number\")"
   ]
  },
  {
   "cell_type": "code",
   "execution_count": 111,
   "metadata": {
    "scrolled": true
   },
   "outputs": [
    {
     "name": "stdout",
     "output_type": "stream",
     "text": [
      "Some random text\n",
      "More random text\n",
      "And some more\n",
      "True\n"
     ]
    }
   ],
   "source": [
    "# ----- FILE IO -----\n",
    "# 可以保存和读取文件\n",
    "# 使用 with 可以确保程序异常是关闭文件\n",
    "# 模式 w 覆盖文件\n",
    "# 模式 a 追加\n",
    "with open(\"mydata.txt\", mode=\"w\", encoding=\"utf-8\") \\\n",
    "        as myFile:\n",
    "    # You can write to the file with write\n",
    "    # It doesn't add a newline\n",
    "    myFile.write(\"Some random text\\nMore random text\\nAnd some more\")\n",
    "\n",
    "# Open a file for reading\n",
    "with open(\"mydata.txt\", encoding=\"utf-8\") as myFile:\n",
    "    # Use read() to get everything at once\n",
    "    print(myFile.read())\n",
    "\n",
    "# Find out if the file is closed\n",
    "print(myFile.closed)"
   ]
  },
  {
   "cell_type": "code",
   "execution_count": 1,
   "metadata": {},
   "outputs": [
    {
     "name": "stdout",
     "output_type": "stream",
     "text": [
      "Area 100\n"
     ]
    }
   ],
   "source": [
    "# ----- CLASSES OBJECTS -----\n",
    "# 对象\n",
    "# attributes : height, weight\n",
    "# capabilities : run, eat\n",
    "\n",
    "# Classes是用来创建对象的模型\n",
    "class Square:\n",
    "    # init is used to set values for each Square\n",
    "    def __init__(self, height=\"0\", width=\"0\"):\n",
    "        self.height = height\n",
    "        self.width = width\n",
    " \n",
    "    # This is the getter\n",
    "    # self is used to refer to an object that\n",
    "    # we don't possess a name for\n",
    "    @property\n",
    "    def height(self):\n",
    "        print(\"Retrieving the height\")\n",
    " \n",
    "        # Put a __ before this private field\n",
    "        return self.__height\n",
    " \n",
    "    # This is the setter\n",
    "    @height.setter\n",
    "    def height(self, value):\n",
    " \n",
    "        # We protect the height from receiving\n",
    "        # a bad value\n",
    "        if value.isdigit():\n",
    " \n",
    "            # Put a __ before this private field\n",
    "            self.__height = value\n",
    "        else:\n",
    "            print(\"Please only enter numbers for height\")\n",
    " \n",
    "    # This is the getter\n",
    "    @property\n",
    "    def width(self):\n",
    "        print(\"Retrieving the width\")\n",
    "        return self.__width\n",
    " \n",
    "    # This is the setter\n",
    "    @width.setter\n",
    "    def width(self, value):\n",
    "        if value.isdigit():\n",
    "            self.__width = value\n",
    "        else:\n",
    "            print(\"Please only enter numbers for width\")\n",
    " \n",
    "    def get_area(self):\n",
    "        return int(self.__width) * int(self.__height)\n",
    "\n",
    "# Create a Square object\n",
    "square = Square()\n",
    "square.height = \"10\"\n",
    "square.width = \"10\"\n",
    "print(\"Area\", square.get_area())"
   ]
  },
  {
   "cell_type": "code",
   "execution_count": 2,
   "metadata": {},
   "outputs": [
    {
     "name": "stdout",
     "output_type": "stream",
     "text": [
      "Spot is a Animal and says Grrrrr\n",
      "Bowser is a Dog and says Grrrrr and is owned by Bob\n",
      "False\n"
     ]
    }
   ],
   "source": [
    "# ----- INHERITANCE & POLYMORPHISM-----\n",
    "# 继承和多态\n",
    "# 当一个类继承了另一个类，它将得到另一个类的所有方法和属性，并且能够根据需要进行改变\n",
    "class Animal:\n",
    "    def __init__(self, name=\"unknown\", weight=0):\n",
    "        self.__name = name\n",
    "        self.__weight = weight\n",
    " \n",
    "    @property\n",
    "    def name(self, name):\n",
    "        self.__name = name\n",
    " \n",
    "    def make_noise(self):\n",
    "        return \"Grrrrr\"\n",
    " \n",
    "    # Used to cast to a string type\n",
    "    def __str__(self):\n",
    "        return \"{} is a {} and says {}\".format (self.__name, type(self).__name__, self.make_noise())\n",
    " \n",
    "    # Magic methods are used for operator\n",
    "    # overloading\n",
    "    # Here I'll define how to evaluate greater\n",
    "    # than between 2 Animal objects\n",
    "    def __gt__(self, animal2):\n",
    "        if self.__weight > animal2.__weight:\n",
    "            return True\n",
    "        else:\n",
    "            return False\n",
    "    # Other Magic Methods\n",
    "    # __eq__ : Equal\n",
    "    # __ne__ : Not Equal\n",
    "    # __lt__ : Less Than\n",
    "    # __gt__ : Greater Than\n",
    "    # __le__ : Less Than or Equal\n",
    "    # __ge__ : Greater Than or Equal\n",
    "    # __add__ : Addition\n",
    "    # __sub__ : Subtraction\n",
    "    # __mul__ : Multiplication\n",
    "    # __div__ : Division\n",
    "    # __mod__ : Modulus\n",
    "\n",
    "# Dog 继承Animal\n",
    "class Dog(Animal):\n",
    "    def __init__(self, name=\"unknown\", owner=\"unknown\", weight=0):\n",
    "        # 可以用父类的初始化方法\n",
    "        Animal.__init__(self, name, weight)\n",
    "        self.__owner = owner\n",
    " \n",
    "    # Overwrite str\n",
    "    def __str__(self):\n",
    "        # 调用父类的方法\n",
    "        return super().__str__() + \" and is owned by \" + \\\n",
    "        self.__owner\n",
    "\n",
    "animal = Animal(\"Spot\", 100)\n",
    "print(animal)\n",
    " \n",
    "dog = Dog(\"Bowser\", \"Bob\", 150)\n",
    "print(dog)\n",
    " \n",
    "# Test the magic method\n",
    "print(animal > dog)\n",
    " \n",
    "# Polymorphism in Python works differently from\n",
    "# other languages in that functions accept any\n",
    "# object and expect that object to provide the\n",
    "# needed method\n",
    " \n",
    "# This isn't something to dwell on. Just know\n",
    "# that if you call on a method for an object\n",
    "# that the method just needs to exist for\n",
    "# that object to work."
   ]
  },
  {
   "cell_type": "code",
   "execution_count": 7,
   "metadata": {},
   "outputs": [
    {
     "name": "stdout",
     "output_type": "stream",
     "text": [
      "Thread 0 sleeps at 09:39:36\n",
      "Active Threads : 6\n",
      "\n",
      "Thread Objects : [<_MainThread(MainThread, started 1468)>, <Thread(Thread-4, started daemon 4172)>, <Heartbeat(Thread-5, started daemon 43912)>, <HistorySavingThread(IPythonHistorySavingThread, started 42668)>, <ParentPollerWindows(Thread-3, started daemon 2240)>, <Thread(Thread-36, started 33376)>]\n",
      "Thread 1 sleeps at 09:39:36\n",
      "Active Threads :\n",
      " 7\n",
      "Thread Objects : [<_MainThread(MainThread, started 1468)>, <Thread(Thread-4, started daemon 4172)>, <Heartbeat(Thread-5, started daemon 43912)>, <HistorySavingThread(IPythonHistorySavingThread, started 42668)>, <ParentPollerWindows(Thread-3, started daemon 2240)>, <Thread(Thread-36, started 33376)>, <Thread(Thread-37, started 1340)>]\n",
      "Thread 2 sleeps at 09:39:36\n",
      "Active Threads : 8\n",
      "Thread Objects : [<_MainThread(MainThread, started 1468)>, <Thread(Thread-4, started daemon 4172)>, <Heartbeat(Thread-5, started daemon 43912)>, <HistorySavingThread(IPythonHistorySavingThread, started 42668)>, <ParentPollerWindows(Thread-3, started daemon 2240)>, <Thread(Thread-36, started 33376)>, <Thread(Thread-37, started 1340)>, <Thread(Thread-38, started 37048)>]\n",
      "\n",
      "Thread 3 sleeps at 09:39:37\n",
      "\n",
      "Active Threads : 9\n",
      "Thread Objects : [<_MainThread(MainThread, started 1468)>, <Thread(Thread-4, started daemon 4172)>, <Heartbeat(Thread-5, started daemon 43912)>, <HistorySavingThread(IPythonHistorySavingThread, started 42668)>, <ParentPollerWindows(Thread-3, started daemon 2240)>, <Thread(Thread-36, started 33376)>, <Thread(Thread-37, started 1340)>, <Thread(Thread-38, started 37048)>, <Thread(Thread-39, started 43424)>]\n",
      "Thread 4 sleeps at 09:39:37\n",
      "Active Threads : 10\n",
      "Thread Objects : [<_MainThread(MainThread, started 1468)>, <Thread(Thread-4, started daemon 4172)>, <Heartbeat(Thread-5, started daemon 43912)>, <HistorySavingThread(IPythonHistorySavingThread, started 42668)>, <ParentPollerWindows(Thread-3, started daemon 2240)>, <Thread(Thread-36, started 33376)>, <Thread(Thread-37, started 1340)>, <Thread(Thread-38, started 37048)>, <Thread(Thread-39, started 43424)>, <Thread(Thread-40, started 43476)>]\n",
      "\n",
      "Thread 5 sleeps at 09:39:37\n",
      "Active Threads : 11\n",
      "Thread Objects : [<_MainThread(MainThread, started 1468)>, <Thread(Thread-4, started daemon 4172)>, <Heartbeat(Thread-5, started daemon 43912)>, <HistorySavingThread(IPythonHistorySavingThread, started 42668)>, <ParentPollerWindows(Thread-3, started daemon 2240)>, <Thread(Thread-36, started 33376)>, <Thread(Thread-37, started 1340)>, <Thread(Thread-38, started 37048)>, <Thread(Thread-39, started 43424)>, <Thread(Thread-40, started 43476)>, <Thread(Thread-41, started 41444)>]\n",
      "\n",
      "Thread 6 sleeps at 09:39:37\n",
      "Active Threads : 12\n",
      "Thread Objects : [<_MainThread(MainThread, started 1468)>, <Thread(Thread-4, started daemon 4172)>, <Heartbeat(Thread-5, started daemon 43912)>, <HistorySavingThread(IPythonHistorySavingThread, started 42668)>, <ParentPollerWindows(Thread-3, started daemon 2240)>, <Thread(Thread-36, started 33376)>, <Thread(Thread-37, started 1340)>, <Thread(Thread-38, started 37048)>, <Thread(Thread-39, started 43424)>, <Thread(Thread-40, started 43476)>, <Thread(Thread-41, started 41444)>, <Thread(Thread-42, started 41964)>]\n",
      "Thread 7 sleeps at 09:39:37\n",
      "\n",
      "\n",
      "Active Threads : 13\n",
      "Thread Objects : [<_MainThread(MainThread, started 1468)>, <Thread(Thread-4, started daemon 4172)>, <Heartbeat(Thread-5, started daemon 43912)>, <HistorySavingThread(IPythonHistorySavingThread, started 42668)>, <ParentPollerWindows(Thread-3, started daemon 2240)>, <Thread(Thread-36, started 33376)>, <Thread(Thread-37, started 1340)>, <Thread(Thread-38, started 37048)>, <Thread(Thread-39, started 43424)>, <Thread(Thread-40, started 43476)>, <Thread(Thread-41, started 41444)>, <Thread(Thread-42, started 41964)>, <Thread(Thread-43, started 33832)>]\n",
      "Thread 8 sleeps at 09:39:37\n",
      "\n",
      "Active Threads : 14\n",
      "Thread Objects : [<_MainThread(MainThread, started 1468)>, <Thread(Thread-4, started daemon 4172)>, <Heartbeat(Thread-5, started daemon 43912)>, <HistorySavingThread(IPythonHistorySavingThread, started 42668)>, <ParentPollerWindows(Thread-3, started daemon 2240)>, <Thread(Thread-36, started 33376)>, <Thread(Thread-37, started 1340)>, <Thread(Thread-38, started 37048)>, <Thread(Thread-39, started 43424)>, <Thread(Thread-40, started 43476)>, <Thread(Thread-41, started 41444)>, <Thread(Thread-42, started 41964)>, <Thread(Thread-43, started 33832)>, <Thread(Thread-44, started 42392)>]\n",
      "Thread 9 sleeps at 09:39:37\n",
      "\n",
      "Active Threads : 15\n",
      "Thread Objects : [<_MainThread(MainThread, started 1468)>, <Thread(Thread-4, started daemon 4172)>, <Heartbeat(Thread-5, started daemon 43912)>, <HistorySavingThread(IPythonHistorySavingThread, started 42668)>, <ParentPollerWindows(Thread-3, started daemon 2240)>, <Thread(Thread-36, started 33376)>, <Thread(Thread-37, started 1340)>, <Thread(Thread-38, started 37048)>, <Thread(Thread-39, started 43424)>, <Thread(Thread-40, started 43476)>, <Thread(Thread-41, started 41444)>, <Thread(Thread-42, started 41964)>, <Thread(Thread-43, started 33832)>, <Thread(Thread-44, started 42392)>, <Thread(Thread-45, started 23592)>]\n",
      "Thread 3 stops sleeping at 09:39:38\n",
      "Thread 6 stops sleeping at 09:39:38\n",
      "Thread 9 stops sleeping at 09:39:38\n",
      "Thread 2 stops sleeping at 09:39:39\n",
      "Thread 4 stops sleeping at 09:39:39\n",
      "Thread 7 stops sleeping at 09:39:39\n",
      "Thread 1 stops sleeping at 09:39:40\n",
      "Thread 5 stops sleeping at 09:39:41\n",
      "Thread 0 stops sleeping at 09:39:41\n",
      "Thread 8 stops sleeping at 09:39:42\n"
     ]
    }
   ],
   "source": [
    "import threading\n",
    "import time\n",
    "import random\n",
    "# ----- THREADS -----\n",
    "# 线程是轮流执行的代码块\n",
    "def execute_thread(i):\n",
    "    # strftime（字符串格式时间工具） 可以用来格式化时间字符串\n",
    "    # You could include the date with\n",
    "    # strftime(\"%Y-%m-%d %H:%M:%S\", gmtime())\n",
    " \n",
    "    # Print when the thread went to sleep\n",
    "    print(\"Thread {} sleeps at {}\".format(i,\n",
    "                                          time.strftime(\"%H:%M:%S\", time.gmtime())))\n",
    " \n",
    "    # Generate a random sleep period of between 1 and\n",
    "    # 5 seconds\n",
    "    rand_sleep_time = random.randint(1, 5)\n",
    " \n",
    "    # Pauses execution of code in this function for\n",
    "    # a few seconds\n",
    "    time.sleep(rand_sleep_time)\n",
    " \n",
    "    # Print out info after the sleep time\n",
    "    print(\"Thread {} stops sleeping at {}\".format(i,\n",
    "                                                  time.strftime(\"%H:%M:%S\", time.gmtime())))\n",
    "\n",
    "for i in range(10):\n",
    "    # Each time through the loop a Thread object is created\n",
    "    # You pass it the function to execute and any\n",
    "    # arguments to pass to that method\n",
    "    # The arguments passed must be a sequence which\n",
    "    # is why we need the comma with 1 argument\n",
    "    thread = threading.Thread(target=execute_thread, args=(i,))\n",
    "    thread.start()\n",
    " \n",
    "    # 输出活跃的线程数\n",
    "    # 多出的一个线程是main线程中的for循环\n",
    "    print(\"\\nActive Threads :\", threading.activeCount())\n",
    " \n",
    "    # 返回所有的活跃线程对象\n",
    "    print(\"Thread Objects :\", threading.enumerate())"
   ]
  },
  {
   "cell_type": "code",
   "execution_count": 8,
   "metadata": {},
   "outputs": [
    {
     "name": "stdout",
     "output_type": "stream",
     "text": [
      "There is an ape\n",
      "ape \n",
      "apex\n",
      "(4, 8)\n",
      "ape \n",
      "(19, 23)\n",
      "apex\n"
     ]
    }
   ],
   "source": [
    "# ----- 正则表达式 -----\n",
    "# Regular expressions allow you to locate and change\n",
    "# strings in very powerful ways.\n",
    "# They work in almost exactly the same way in every\n",
    "# programming language as well.\n",
    " \n",
    "# Regular Expressions (Regex) are used to\n",
    "# 1. Search for a specific string in a large amount of data\n",
    "# 2. Verify that a string has the proper format (Email, Phone #)\n",
    "# 3. Find a string and replace it with another string\n",
    "# 4. Format data into the proper form for importing for example\n",
    " \n",
    "# import the Regex module\n",
    "import re\n",
    " \n",
    "# ---------- Was a Match Found ----------\n",
    " \n",
    "# Search for ape in the string\n",
    "if re.search(\"ape\", \"The ape was at the apex\"):\n",
    "    print(\"There is an ape\")\n",
    "\n",
    "# ---------- Get All Matches ----------\n",
    " \n",
    "# findall() returns a list of matches\n",
    "# . is used to match any 1 character or space\n",
    "allApes = re.findall(\"ape.\", \"The ape was at the apex\")\n",
    " \n",
    "for i in allApes:\n",
    "    print(i)\n",
    "\n",
    "# finditer returns an iterator of matching objects\n",
    "# You can use span to get the location\n",
    " \n",
    "theStr = \"The ape was at the apex\"\n",
    " \n",
    "for i in re.finditer(\"ape.\", theStr):\n",
    " \n",
    "    # Span 返回匹配起止位置组成的元组\n",
    "    locTuple = i.span()\n",
    " \n",
    "    print(locTuple)\n",
    " \n",
    "    # Slice the match out using the tuple values\n",
    "    print(theStr[locTuple[0]:locTuple[1]])"
   ]
  },
  {
   "cell_type": "code",
   "execution_count": 11,
   "metadata": {},
   "outputs": [
    {
     "name": "stdout",
     "output_type": "stream",
     "text": [
      "Database Created\n",
      "Table couldn't be Created\n",
      "Employee Entered\n",
      "ID : 1\n",
      "FName : Derek\n",
      "LName : Banas\n",
      "Age : 41\n",
      "Address : 123 Main St\n",
      "Salary : 500,000\n",
      "HireDate : 2020-03-23\n",
      "ID : 2\n",
      "FName : Derek\n",
      "LName : Banas\n",
      "Age : 41\n",
      "Address : 123 Main St\n",
      "Salary : 500,000\n",
      "HireDate : 2020-03-23\n"
     ]
    }
   ],
   "source": [
    "# ----- 在Python中使用SQLLite3 -----\n",
    " \n",
    "# A database makes it easy for you to organize your\n",
    "# data for storage and fast searching\n",
    "import sqlite3\n",
    "import sys\n",
    "import csv\n",
    "def printDB():\n",
    "    # To retrieve data from a table use SELECT followed\n",
    "    # by the items to retrieve and the table to\n",
    "    # retrieve from\n",
    " \n",
    "    try:\n",
    "        result = theCursor.execute(\"SELECT id, FName, LName, Age, Address, Salary, HireDate FROM Employees\")\n",
    " \n",
    "        # You receive a list of lists that hold the result\n",
    "        for row in result:\n",
    "            print(\"ID :\", row[0])\n",
    "            print(\"FName :\", row[1])\n",
    "            print(\"LName :\", row[2])\n",
    "            print(\"Age :\", row[3])\n",
    "            print(\"Address :\", row[4])\n",
    "            print(\"Salary :\", row[5])\n",
    "            print(\"HireDate :\", row[6])\n",
    " \n",
    "    except sqlite3.OperationalError:\n",
    "        print(\"The Table Doesn't Exist\")\n",
    " \n",
    "    except:\n",
    "        print(\"Couldn't Retrieve Data From Database\")\n",
    "\n",
    "# ---------- END OF FUNCTIONS ----------\n",
    "\n",
    "# connect()方法会打开一个SQLite database连接, 如果指定database不存在，就会创建指定database\n",
    "# 数据库文件和本Python文件在同一个目录下\n",
    "# 难道已经集成了SQLite工具？\n",
    "db_conn = sqlite3.connect('test.db')\n",
    " \n",
    "print(\"Database Created\")\n",
    " \n",
    "# A cursor is used to traverse the records of a result\n",
    "theCursor = db_conn.cursor()\n",
    " \n",
    "# execute() executes a SQL command\n",
    "# We organize our data in tables by defining their\n",
    "# name and the data type for the data\n",
    " \n",
    "# We define the table name\n",
    "# A primary key is a unique value that differentiates\n",
    "# each row of data in our table\n",
    "# The primary key will auto increment each time we\n",
    "# add a new Employee\n",
    "# If a piece of data is marked as NOT NULL, that means\n",
    "# it must have a value to be valid\n",
    " \n",
    "# NULL is NULL and stands in for no value\n",
    "# INTEGER is an integer\n",
    "# TEXT is a string of variable length\n",
    "# REAL is a float\n",
    "# BLOB is used to store binary data\n",
    " \n",
    "# You can delete a table if it exists like this\n",
    "# db_conn.execute(\"DROP TABLE IF EXISTS Employees\")\n",
    "# db_conn.commit()\n",
    "\n",
    "try:\n",
    "    db_conn.execute(\"CREATE TABLE Employees(ID INTEGER PRIMARY KEY AUTOINCREMENT NOT NULL, FName TEXT NOT NULL, LName TEXT NOT NULL, Age INT NOT NULL, Address TEXT, Salary REAL, HireDate TEXT);\")\n",
    " \n",
    "    db_conn.commit()\n",
    " \n",
    "    print(\"Table Created\")\n",
    "\n",
    "except sqlite3.OperationalError:\n",
    "    print(\"Table couldn't be Created\")\n",
    " \n",
    " \n",
    "# To insert data into a table we use INSERT INTO\n",
    "# followed by the table name and the item name\n",
    "# and the data to assign to those items\n",
    " \n",
    "db_conn.execute(\"INSERT INTO Employees (FName, LName, Age, Address, Salary, HireDate)\"\n",
    "                \"VALUES ('Derek', 'Banas', 41, '123 Main St', '500,000', date('now'))\")\n",
    " \n",
    "db_conn.commit()\n",
    " \n",
    "print(\"Employee Entered\")\n",
    " \n",
    "# Print out all the data in the database\n",
    "printDB()\n",
    " \n",
    "# Closes the database connection\n",
    "db_conn.close()"
   ]
  },
  {
   "cell_type": "code",
   "execution_count": null,
   "metadata": {},
   "outputs": [],
   "source": [
    "# ----- IMPORT ------\n",
    "'''\n",
    "1、import module_name——本质是将\"module_name.py\"中的全部代码加载到内存，并将模块赋值给当前文件中的同名变量\n",
    "2、from module_name import name——本质是导入指定的引用（变量或方法等）到当前文件\n",
    "3、import package_name——导入包的本质就是执行该包下的__init__.py文件\n",
    "如果导入的资源比较少，第2中方式是比较好的，它减少了查找的过程。\n",
    "'''\n",
    "'''\n",
    "import math\n",
    "mt = math\n",
    "\n",
    "与\n",
    "\n",
    "import math as mt\n",
    "\n",
    "等价\n",
    "'''"
   ]
  },
  {
   "cell_type": "code",
   "execution_count": 29,
   "metadata": {},
   "outputs": [
    {
     "name": "stdout",
     "output_type": "stream",
     "text": [
      "It's math! It has type <class 'module'>\n"
     ]
    }
   ],
   "source": [
    "import math\n",
    "# 导入的模块的类型是`module`\n",
    "\n",
    "print(\"It's math! It has type {}\".format(type(math)))"
   ]
  },
  {
   "cell_type": "markdown",
   "metadata": {},
   "source": [
    "函数的参数：\n",
    "\n",
    "位置参数（positional arguments）——所有参数的顺序必须一一对应，且数量一致\n",
    "\n",
    "关键字参数——通过键值对的形式指定，关键字参数不分前后顺序；存在位置参数时，位置参数必须位于关键字参数前面。\n",
    "\n",
    "默认参数——为参数提供默认值，调用函数时可以不传。所有位置参数必须放在默认参数前面。\n",
    "\n",
    "**\\*、\\*\\*用在参数前面**：\n",
    "\n",
    "1）\\*可以用在动态参数前，打包多个参数并将其转化为**元组**；也可以用在**可迭代对象前进行自动化解包**——转换为多个单变量参数。\n",
    "\n",
    "2）\\*\\*可以用在动态参数前，打包多个赋值形式的参数并将其转化为**字典**；也可以用在字典参数前，解包字典中的数据项作为键值参数传给函数。"
   ]
  },
  {
   "cell_type": "code",
   "execution_count": 30,
   "metadata": {},
   "outputs": [
    {
     "name": "stdout",
     "output_type": "stream",
     "text": [
      "(1, 2, 3)\n"
     ]
    }
   ],
   "source": [
    "def func1(*args):\n",
    "    print(args)\n",
    "\n",
    "func1(1,2,3)"
   ]
  },
  {
   "cell_type": "code",
   "execution_count": 23,
   "metadata": {},
   "outputs": [
    {
     "name": "stdout",
     "output_type": "stream",
     "text": [
      "1 2 3\n"
     ]
    }
   ],
   "source": [
    "def func2(a, b, c):\n",
    "    print(a,b,c)\n",
    "\n",
    "args2 = [1,2,3]\n",
    "func2(*args2)"
   ]
  },
  {
   "cell_type": "code",
   "execution_count": 25,
   "metadata": {},
   "outputs": [
    {
     "name": "stdout",
     "output_type": "stream",
     "text": [
      "{'a': 1, 'b': 2, 'c': 3}\n"
     ]
    }
   ],
   "source": [
    "def func3(**kwargs):\n",
    "    print(kwargs)\n",
    "\n",
    "func3(a=1,b=2,c=3)"
   ]
  },
  {
   "cell_type": "code",
   "execution_count": 27,
   "metadata": {},
   "outputs": [
    {
     "name": "stdout",
     "output_type": "stream",
     "text": [
      "1 2 3\n"
     ]
    }
   ],
   "source": [
    "kwargs = {'a':1,'b':2,'c':3}\n",
    "func2(**kwargs)"
   ]
  },
  {
   "cell_type": "markdown",
   "metadata": {},
   "source": [
    "**函数装饰器（decorator）:@**\n",
    "\n",
    "作用：为现有的函数增加额外的功能，常用于插入日志、性能测试、事务处理等等。\n",
    "\n",
    "使用修饰符，会改变被修饰函数的函数名属性；可以结合`functools.wraps`使用。\n"
   ]
  },
  {
   "cell_type": "code",
   "execution_count": 1,
   "metadata": {},
   "outputs": [
    {
     "name": "stdout",
     "output_type": "stream",
     "text": [
      "log start...\n",
      "test....\n",
      "log end...\n"
     ]
    }
   ],
   "source": [
    "# 被修饰函数不带参数\n",
    "def log(func):\n",
    "    def warpper():\n",
    "        print('log start...')\n",
    "        func()\n",
    "        print('log end...')\n",
    "    return warpper\n",
    "\n",
    "# 使用装饰器，会改变被修饰函数的函数名属性\n",
    "@log\n",
    "def test():\n",
    "    print('test....')\n",
    "    \n",
    "test()"
   ]
  },
  {
   "cell_type": "code",
   "execution_count": 3,
   "metadata": {},
   "outputs": [
    {
     "name": "stdout",
     "output_type": "stream",
     "text": [
      "warpper\n",
      "test1\n"
     ]
    }
   ],
   "source": [
    "def test1():\n",
    "    print('test1...')\n",
    "\n",
    "print(test.__name__)\n",
    "print(test1.__name__)"
   ]
  },
  {
   "cell_type": "code",
   "execution_count": 13,
   "metadata": {},
   "outputs": [
    {
     "name": "stdout",
     "output_type": "stream",
     "text": [
      "log start...\n",
      "test....\n",
      "log end...\n",
      "test2\n"
     ]
    }
   ],
   "source": [
    "from functools import wraps,update_wrapper\n",
    "# 使用functools的wraps函数：将修饰函数的属性设置为参数函数的属性\n",
    "def log1(func):\n",
    "    @wraps(func)\n",
    "    def wrapper():\n",
    "        print('log start...')\n",
    "        func()\n",
    "        print('log end...')\n",
    "    return wrapper\n",
    "\n",
    "@log1\n",
    "def test2():\n",
    "    print('test2...')\n",
    "\n",
    "test()\n",
    "print(test2.__name__)"
   ]
  },
  {
   "cell_type": "code",
   "execution_count": 16,
   "metadata": {},
   "outputs": [
    {
     "name": "stdout",
     "output_type": "stream",
     "text": [
      "log开始... test3\n",
      "test3... a\n",
      "log结束...\n",
      "a\n",
      "log开始... test4\n",
      "test4... a bc\n",
      "log结束...\n",
      "abc\n"
     ]
    }
   ],
   "source": [
    "# 被修饰函数带参数\n",
    "def log3(func):\n",
    "    @wraps(func)\n",
    "    def wrapper(*args, **kwargs):\n",
    "        print('log开始...',func.__name__)\n",
    "        ret = func(*args, **kwargs)\n",
    "        print('log结束...')\n",
    "        return ret\n",
    "    return wrapper\n",
    "\n",
    "@log3\n",
    "def test3(s):\n",
    "    print('test3...', s)\n",
    "    return s\n",
    "\n",
    "@log3\n",
    "def test4(s1, s2):\n",
    "    print('test4...', s1, s2)\n",
    "    return s1 + s2\n",
    "\n",
    "print(test3('a'))\n",
    "print(test4('a', 'bc'))"
   ]
  },
  {
   "cell_type": "code",
   "execution_count": 18,
   "metadata": {},
   "outputs": [
    {
     "name": "stdout",
     "output_type": "stream",
     "text": [
      "log start... test5 module1\n",
      "test5... a\n",
      "log结束\n",
      "a\n",
      "log start... test6 module1\n",
      "test6... a bc\n",
      "log结束\n",
      "abc\n"
     ]
    }
   ],
   "source": [
    "# 装饰器带参数\n",
    "def log4(arg):\n",
    "    def _log(func):\n",
    "        @wraps(func)\n",
    "        def wrapper(*args, **kwargs):\n",
    "            print('log start...', func.__name__,arg)\n",
    "            ret = func(*args, **kwargs)\n",
    "            print('log结束')\n",
    "            return ret\n",
    "        return wrapper\n",
    "    return _log\n",
    "\n",
    "@log4('module1')\n",
    "def test5(s):\n",
    "    print('test5...', s)\n",
    "    return s\n",
    "\n",
    "@log4('module1')\n",
    "def test6(s1, s2):\n",
    "    print('test6...', s1, s2)\n",
    "    return s1 + s2\n",
    "\n",
    "print(test5('a'))\n",
    "print(test6('a', 'bc'))"
   ]
  },
  {
   "cell_type": "code",
   "execution_count": null,
   "metadata": {},
   "outputs": [],
   "source": [
    "# ——- myfunc.py ——-\n",
    " \n",
    "# ---------- RECURSIVE FUNCTIONS ----------\n",
    "# 递归函数\n",
    " \n",
    "# 计算阶乘（factorials）通常使用递归\n",
    "# function 3! = 3 * 2 * 1\n",
    "def factorial(num):\n",
    "    # Every recursive function must contain a condition\n",
    "    # when it ceases to call itself\n",
    "    if num <= 1:\n",
    "        return 1\n",
    "    else:\n",
    "         result = num * factorial(num - 1)\n",
    "    return result\n",
    "\n",
    "# 1st : result = 4 * factorial(3) = 4 * 6 = 24\n",
    "# 2nd : result = 3 * factorial(2) = 3 * 2 = 6\n",
    "# 3rd : result = 2 * factorial(1) = 2 * 1 = 2\n",
    " \n",
    "# ——— MODULES ———\n",
    "import myfunc\n",
    "print(myfunc.factorial(4))\n",
    " \n",
    "# OR\n",
    " \n",
    "from myfunc import factorial\n",
    "print(factorial(4))"
   ]
  },
  {
   "cell_type": "code",
   "execution_count": 10,
   "metadata": {},
   "outputs": [],
   "source": [
    "# ——— 用TKINTER进行GUI开发 ———\n",
    " \n",
    "from tkinter import *\n",
    "from tkinter import ttk\n",
    " \n",
    "class Calculator:\n",
    " \n",
    "    # Stores the current value to display in the entry\n",
    "    calc_value = 0.0\n",
    " \n",
    "    # Will define if this was the last math button clicked\n",
    "    div_trigger = False\n",
    "    mult_trigger = False\n",
    "    add_trigger = False\n",
    "    sub_trigger = False\n",
    " \n",
    "    # Called anytime a number button is pressed\n",
    "    def button_press(self, value):\n",
    " \n",
    "        # Get the current value in the entry\n",
    "        entry_val = self.number_entry.get()\n",
    " \n",
    "        # Put the new value to the right of it\n",
    "        # If it was 1 and 2 is pressed it is now 12\n",
    "        # Otherwise the new number goes on the left\n",
    "        entry_val += value\n",
    " \n",
    "        # Clear the entry box\n",
    "        self.number_entry.delete(0, \"end\")\n",
    " \n",
    "        # Insert the new value going from left to right\n",
    "        self.number_entry.insert(0, entry_val)\n",
    " \n",
    "    # Returns True or False if the string is a float\n",
    "    def isfloat(self, str_val):\n",
    "        try:\n",
    " \n",
    "            # If the string isn't a float float() will throw a\n",
    "            # ValueError\n",
    "            float(str_val)\n",
    " \n",
    "            # If there is a value you want to return use return\n",
    "            return True\n",
    "        except ValueError:\n",
    "            return False\n",
    " \n",
    "    # Handles logic when math buttons are pressed\n",
    "    def math_button_press(self, value):\n",
    " \n",
    "        # Only do anything if entry currently contains a number\n",
    "        if self.isfloat(str(self.number_entry.get())):\n",
    " \n",
    "            # make false to cancel out previous math button click\n",
    "            self.add_trigger = False\n",
    "            self.sub_trigger = False\n",
    "            self.mult_trigger = False\n",
    "            self.div_trigger = False\n",
    " \n",
    "            # Get the value out of the entry box for the calculation\n",
    "            self.calc_value = float(self.entry_value.get())\n",
    " \n",
    "            # Set the math button click so when equals is clicked\n",
    "            # that function knows what calculation to use\n",
    "            if value == \"/\":\n",
    "                print(\"/ Pressed\")\n",
    "                self.div_trigger = True\n",
    "            elif value == \"*\":\n",
    "                print(\"* Pressed\")\n",
    "                self.mult_trigger = True\n",
    "            elif value == \"+\":\n",
    "                print(\"+ Pressed\")\n",
    "                self.add_trigger = True\n",
    "            else:\n",
    "                print(\"- Pressed\")\n",
    "                self.sub_trigger = True\n",
    " \n",
    "            # Clear the entry box\n",
    "            self.number_entry.delete(0, \"end\")\n",
    " \n",
    "    # Performs a mathematical operation by taking the value before\n",
    "    # the math button is clicked and the current value. Then perform\n",
    "    # the right calculation by checking what math button was clicked\n",
    "    # last\n",
    "    def equal_button_press(self):\n",
    " \n",
    "        # Make sure a math button was clicked\n",
    "        if self.add_trigger or self.sub_trigger or self.mult_trigger or self.div_trigger:\n",
    " \n",
    "            if self.add_trigger:\n",
    "                solution = self.calc_value + float(self.entry_value.get())\n",
    "            elif self.sub_trigger:\n",
    "                solution = self.calc_value - float(self.entry_value.get())\n",
    "            elif self.mult_trigger:\n",
    "                solution = self.calc_value * float(self.entry_value.get())\n",
    "            else:\n",
    "                solution = self.calc_value / float(self.entry_value.get())\n",
    " \n",
    "            print(self.calc_value, \" \", float(self.entry_value.get()),\n",
    "                                            \" \", solution)\n",
    " \n",
    "            # Clear the entry box\n",
    "            self.number_entry.delete(0, \"end\")\n",
    " \n",
    "            self.number_entry.insert(0, solution)\n",
    " \n",
    " \n",
    "    def __init__(self, root):\n",
    "        # Will hold the changing value stored in the entry\n",
    "        self.entry_value = StringVar(root, value=\"\")\n",
    " \n",
    "        # Define title for the app\n",
    "        root.title(\"Calculator\")\n",
    " \n",
    "        # Defines the width and height of the window\n",
    "        root.geometry(\"430x220\")\n",
    " \n",
    "        # Block resizing of Window\n",
    "        root.resizable(width=False, height=False)\n",
    " \n",
    "        # Customize the styling for the buttons and entry\n",
    "        style = ttk.Style()\n",
    "        style.configure(\"TButton\",\n",
    "                        font=\"Serif 15\",\n",
    "                        padding=10)\n",
    " \n",
    "        style.configure(\"TEntry\",\n",
    "                        font=\"Serif 18\",\n",
    "                        padding=10)\n",
    " \n",
    "        # Create the text entry box\n",
    "        self.number_entry = ttk.Entry(root,\n",
    "                        textvariable=self.entry_value, width=50)\n",
    "        self.number_entry.grid(row=0, columnspan=4)\n",
    " \n",
    "        # ----- 1st Row -----\n",
    " \n",
    "        self.button7 = ttk.Button(root, text=\"7\", command=lambda: self.button_press('7')).grid(row=1, column=0)\n",
    " \n",
    "        self.button8 = ttk.Button(root, text=\"8\", command=lambda: self.button_press('8')).grid(row=1, column=1)\n",
    " \n",
    "        self.button9 = ttk.Button(root, text=\"9\", command=lambda: self.button_press('9')).grid(row=1, column=2)\n",
    " \n",
    "        self.button_div = ttk.Button(root, text=\"/\", command=lambda: self.math_button_press('/')).grid(row=1, column=3)\n",
    " \n",
    "        # ----- 2nd Row -----\n",
    " \n",
    "        self.button4 = ttk.Button(root, text=\"4\", command=lambda: self.button_press('4')).grid(row=2, column=0)\n",
    " \n",
    "        self.button5 = ttk.Button(root, text=\"5\", command=lambda: self.button_press('5')).grid(row=2, column=1)\n",
    " \n",
    "        self.button6 = ttk.Button(root, text=\"6\", command=lambda: self.button_press('6')).grid(row=2, column=2)\n",
    " \n",
    "        self.button_mult = ttk.Button(root, text=\"*\", command=lambda: self.math_button_press('*')).grid(row=2, column=3)\n",
    " \n",
    "        # ----- 3rd Row -----\n",
    " \n",
    "        self.button1 = ttk.Button(root, text=\"1\", command=lambda: self.button_press('1')).grid(row=3, column=0)\n",
    " \n",
    "        self.button2 = ttk.Button(root, text=\"2\", command=lambda: self.button_press('2')).grid(row=3, column=1)\n",
    " \n",
    "        self.button3 = ttk.Button(root, text=\"3\", command=lambda: self.button_press('3')).grid(row=3, column=2)\n",
    " \n",
    "        self.button_add = ttk.Button(root, text=\"+\", command=lambda: self.math_button_press('+')).grid(row=3, column=3)\n",
    " \n",
    "        # ----- 4th Row -----\n",
    " \n",
    "        self.button_clear = ttk.Button(root, text=\"AC\", command=lambda: self.button_press('AC')).grid(row=4, column=0)\n",
    " \n",
    "        self.button0 = ttk.Button(root, text=\"0\", command=lambda: self.button_press('0')).grid(row=4, column=1)\n",
    " \n",
    "        self.button_equal = ttk.Button(root, text=\"=\", command=lambda: self.equal_button_press()).grid(row=4, column=2)\n",
    " \n",
    "        self.button_sub = ttk.Button(root, text=\"-\", command=lambda: self.math_button_press('-')).grid(row=4, column=3)\n",
    "\n",
    "# Get the root window object\n",
    "root = Tk()\n",
    " \n",
    "# Create the calculator\n",
    "calc = Calculator(root)\n",
    " \n",
    "# Run the app until exited \n",
    "root.mainloop()"
   ]
  }
 ],
 "metadata": {
  "kernelspec": {
   "display_name": "Python 3",
   "language": "python",
   "name": "python3"
  },
  "language_info": {
   "codemirror_mode": {
    "name": "ipython",
    "version": 3
   },
   "file_extension": ".py",
   "mimetype": "text/x-python",
   "name": "python",
   "nbconvert_exporter": "python",
   "pygments_lexer": "ipython3",
   "version": "3.6.6"
  }
 },
 "nbformat": 4,
 "nbformat_minor": 2
}
